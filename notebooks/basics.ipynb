{
 "cells": [
  {
   "cell_type": "markdown",
   "metadata": {},
   "source": [
    "# Basics\n",
    "\n",
    "Let's first take a look at what's inside the ``ib_async`` package:"
   ]
  },
  {
   "cell_type": "code",
   "execution_count": 1,
   "metadata": {},
   "outputs": [
    {
     "name": "stdout",
     "output_type": "stream",
     "text": [
      "['util', 'Event', 'OrderComboLeg', 'OrderState', 'SoftDollarTier', 'PriceIncrement', 'Execution', 'CommissionReport', 'BarList', 'BarDataList', 'RealTimeBarList', 'BarData', 'RealTimeBar', 'HistogramData', 'NewsProvider', 'DepthMktDataDescription', 'ScannerSubscription', 'ScanDataList', 'FundamentalRatios', 'ExecutionFilter', 'PnL', 'PnLSingle', 'AccountValue', 'TickData', 'TickByTickAllLast', 'TickByTickBidAsk', 'TickByTickMidPoint', 'HistoricalTick', 'HistoricalTickBidAsk', 'HistoricalTickLast', 'TickAttrib', 'TickAttribBidAsk', 'TickAttribLast', 'MktDepthData', 'DOMLevel', 'TradeLogEntry', 'TagValue', 'FamilyCode', 'SmartComponent', 'PortfolioItem', 'Position', 'Fill', 'OptionComputation', 'OptionChain', 'Dividends', 'NewsArticle', 'HistoricalNews', 'NewsTick', 'NewsBulletin', 'ConnectionStats', 'Contract', 'Stock', 'Option', 'Future', 'ContFuture', 'Forex', 'Index', 'CFD', 'Commodity', 'Bond', 'FuturesOption', 'MutualFund', 'Warrant', 'Bag', 'ComboLeg', 'DeltaNeutralContract', 'ContractDetails', 'ContractDescription', 'ScanData', 'Trade', 'OrderStatus', 'Order', 'LimitOrder', 'MarketOrder', 'StopOrder', 'StopLimitOrder', 'BracketOrder', 'OrderCondition', 'ExecutionCondition', 'MarginCondition', 'TimeCondition', 'PriceCondition', 'PercentChangeCondition', 'VolumeCondition', 'Ticker', 'IB', 'Client', 'Wrapper', 'FlexReport', 'FlexError', 'IBC', 'IBController', 'Watchdog']\n"
     ]
    }
   ],
   "source": [
    "import ib_async\n",
    "print(ib_async.__all__)"
   ]
  },
  {
   "cell_type": "markdown",
   "metadata": {},
   "source": [
    "### Importing\n",
    "The following two lines are used at the top of all notebooks. The first line imports everything and the second\n",
    "starts an event loop to keep the notebook live updated:"
   ]
  },
  {
   "cell_type": "code",
   "execution_count": 1,
   "metadata": {},
   "outputs": [],
   "source": [
    "from ib_async import *\n",
    "\n",
    "util.startLoop()"
   ]
  },
  {
   "cell_type": "markdown",
   "metadata": {},
   "source": [
    "*Note that startLoop() only works in notebooks, not in regular Python programs.*"
   ]
  },
  {
   "cell_type": "markdown",
   "metadata": {},
   "source": [
    "### Connecting\n",
    "The main player of the whole package is the \"IB\" class. Let's create an IB instance and connect to a running TWS/IBG application:"
   ]
  },
  {
   "cell_type": "code",
   "execution_count": 2,
   "metadata": {
    "scrolled": true
   },
   "outputs": [
    {
     "data": {
      "text/plain": [
       "<IB connected to 127.0.0.1:4001 clientId=110>"
      ]
     },
     "execution_count": 2,
     "metadata": {},
     "output_type": "execute_result"
    }
   ],
   "source": [
    "ib = IB()\n",
    "ib.connect(\"127.0.0.1\", 4001, clientId=110)"
   ]
  },
  {
   "cell_type": "markdown",
   "metadata": {},
   "source": [
    "If the connection failed, then verify that the application has the API port enabled and double-check the hostname and port. For IB Gateway the default port is 4002. Make sure the clientId is not already in use.\n",
    "\n",
    "If the connection succeeded, then ib will be synchronized with TWS/IBG. The \"current state\" is now available via methods such as ib.positions(), ib.trades(), ib.openTrades(), ib.accountValues() or ib.tickers(). Let's list the current positions:"
   ]
  },
  {
   "cell_type": "code",
   "execution_count": 3,
   "metadata": {},
   "outputs": [
    {
     "data": {
      "text/plain": [
       "[Position(account='U2340948', contract=Stock(conId=4762, symbol='BA', exchange='NYSE', currency='USD', localSymbol='BA', tradingClass='BA'), position=254.0, avgCost=203.21112205),\n",
       " Position(account='U2340948', contract=Option(conId=699423951, symbol='BA', lastTradeDateOrContractMonth='20240607', strike=190.0, right='C', multiplier='100', currency='USD', localSymbol='BA    240607C00190000', tradingClass='BA'), position=1.0, avgCost=92.04685),\n",
       " Position(account='U2340948', contract=Stock(conId=47486780, symbol='EDV', exchange='ARCA', currency='USD', localSymbol='EDV', tradingClass='EDV'), position=650.0, avgCost=77.7080769),\n",
       " Position(account='U2340948', contract=Stock(conId=229726228, symbol='RSX', exchange='VALUE', currency='USD', localSymbol='RSX', tradingClass='RSX'), position=100.0, avgCost=6.889977),\n",
       " Position(account='U10394496', contract=Option(conId=637079300, symbol='HYG', lastTradeDateOrContractMonth='20240621', strike=73.0, right='P', multiplier='100', currency='USD', localSymbol='HYG   240621P00073000', tradingClass='HYG'), position=50.0, avgCost=12.44685),\n",
       " Position(account='U10394496', contract=Option(conId=682674010, symbol='AAPL', lastTradeDateOrContractMonth='20241018', strike=150.0, right='P', multiplier='100', currency='USD', localSymbol='AAPL  241018P00150000', tradingClass='AAPL'), position=2.0, avgCost=244.69685),\n",
       " Position(account='U10394496', contract=Option(conId=669333316, symbol='NVDA', lastTradeDateOrContractMonth='20240719', strike=555.0, right='P', multiplier='100', currency='USD', localSymbol='NVDA  240719P00555000', tradingClass='NVDA'), position=1.0, avgCost=493.0494),\n",
       " Position(account='U10394496', contract=Option(conId=689749183, symbol='LLY', lastTradeDateOrContractMonth='20240816', strike=620.0, right='P', multiplier='100', currency='USD', localSymbol='LLY   240816P00620000', tradingClass='LLY'), position=1.0, avgCost=481.04685),\n",
       " Position(account='U10394496', contract=Option(conId=613471094, symbol='GOOGL', lastTradeDateOrContractMonth='20240920', strike=120.0, right='P', multiplier='100', currency='USD', localSymbol='GOOGL 240920P00120000', tradingClass='GOOGL'), position=10.0, avgCost=51.44685),\n",
       " Position(account='U10394496', contract=Future(conId=620730920, symbol='NQ', lastTradeDateOrContractMonth='20240621', multiplier='20', currency='USD', localSymbol='NQM4', tradingClass='NQ'), position=-2.0, avgCost=350210.0137451),\n",
       " Position(account='U10394496', contract=Option(conId=699532596, symbol='QQQ', lastTradeDateOrContractMonth='20240607', strike=400.0, right='P', multiplier='100', currency='USD', localSymbol='QQQ   240607P00400000', tradingClass='QQQ'), position=2.0, avgCost=207.69685)]"
      ]
     },
     "execution_count": 3,
     "metadata": {},
     "output_type": "execute_result"
    }
   ],
   "source": [
    "ib.positions()"
   ]
  },
  {
   "cell_type": "markdown",
   "metadata": {},
   "source": [
    "Or filter the account values to get the liquidation value:"
   ]
  },
  {
   "cell_type": "code",
   "execution_count": 6,
   "metadata": {},
   "outputs": [
    {
     "data": {
      "text/plain": [
       "[AccountValue(account='U10394496', tag='AccountCode', value='U10394496', currency='', modelCode=''),\n",
       " AccountValue(account='U10394496', tag='AccountReady', value='true', currency='', modelCode=''),\n",
       " AccountValue(account='U10394496', tag='AccountType', value='INDIVIDUAL', currency='', modelCode=''),\n",
       " AccountValue(account='U10394496', tag='ColumnPrio-C', value='2', currency='', modelCode=''),\n",
       " AccountValue(account='U10394496', tag='ColumnPrio-P', value='5', currency='', modelCode=''),\n",
       " AccountValue(account='U10394496', tag='ColumnPrio-S', value='1', currency='', modelCode=''),\n",
       " AccountValue(account='U10394496', tag='Cushion', value='0.775757', currency='', modelCode=''),\n",
       " AccountValue(account='U10394496', tag='DayTradesRemaining', value='-1', currency='', modelCode=''),\n",
       " AccountValue(account='U10394496', tag='DayTradesRemainingT+1', value='-1', currency='', modelCode=''),\n",
       " AccountValue(account='U10394496', tag='DayTradesRemainingT+2', value='-1', currency='', modelCode=''),\n",
       " AccountValue(account='U10394496', tag='DayTradesRemainingT+3', value='-1', currency='', modelCode=''),\n",
       " AccountValue(account='U10394496', tag='DayTradesRemainingT+4', value='-1', currency='', modelCode=''),\n",
       " AccountValue(account='U10394496', tag='DayTradingStatus-S', value='20231213:20240313:false:173443.88:90 day expiration:false', currency='', modelCode=''),\n",
       " AccountValue(account='U10394496', tag='ExposureFeeTime', value='1714510923', currency='', modelCode=''),\n",
       " AccountValue(account='U10394496', tag='ExposureTime', value='1714510923', currency='', modelCode=''),\n",
       " AccountValue(account='U10394496', tag='Leverage-S', value='1.00', currency='', modelCode=''),\n",
       " AccountValue(account='U10394496', tag='LookAheadNextChange', value='1714570200', currency='', modelCode=''),\n",
       " AccountValue(account='U10394496', tag='NLVAndMarginInReview', value='false', currency='', modelCode=''),\n",
       " AccountValue(account='U10394496', tag='SegmentTitle-C', value='US Commodities', currency='', modelCode=''),\n",
       " AccountValue(account='U10394496', tag='SegmentTitle-P', value='Crypto at Paxos', currency='', modelCode=''),\n",
       " AccountValue(account='U10394496', tag='SegmentTitle-S', value='US Securities', currency='', modelCode=''),\n",
       " AccountValue(account='U10394496', tag='TradingType-S', value='STKNOPT', currency='', modelCode=''),\n",
       " AccountValue(account='U10394496', tag='WhatIfPMEnabled', value='true', currency='', modelCode=''),\n",
       " AccountValue(account='U10394496', tag='AccruedCash', value='0.00', currency='USD', modelCode=''),\n",
       " AccountValue(account='U10394496', tag='AccruedCash-C', value='0.00', currency='USD', modelCode=''),\n",
       " AccountValue(account='U10394496', tag='AccruedCash-P', value='0.00', currency='USD', modelCode=''),\n",
       " AccountValue(account='U10394496', tag='AccruedCash-S', value='0.00', currency='USD', modelCode=''),\n",
       " AccountValue(account='U10394496', tag='AccruedDividend', value='0.00', currency='USD', modelCode=''),\n",
       " AccountValue(account='U10394496', tag='AccruedDividend-C', value='0.00', currency='USD', modelCode=''),\n",
       " AccountValue(account='U10394496', tag='AccruedDividend-P', value='0.00', currency='USD', modelCode=''),\n",
       " AccountValue(account='U10394496', tag='AccruedDividend-S', value='0.00', currency='USD', modelCode=''),\n",
       " AccountValue(account='U10394496', tag='AvailableFunds', value='165145.28', currency='USD', modelCode=''),\n",
       " AccountValue(account='U10394496', tag='AvailableFunds-C', value='165145.28', currency='USD', modelCode=''),\n",
       " AccountValue(account='U10394496', tag='AvailableFunds-P', value='0.00', currency='USD', modelCode=''),\n",
       " AccountValue(account='U10394496', tag='AvailableFunds-S', value='0.00', currency='USD', modelCode=''),\n",
       " AccountValue(account='U10394496', tag='Billable', value='0.00', currency='USD', modelCode=''),\n",
       " AccountValue(account='U10394496', tag='Billable-C', value='0.00', currency='USD', modelCode=''),\n",
       " AccountValue(account='U10394496', tag='Billable-P', value='0.00', currency='USD', modelCode=''),\n",
       " AccountValue(account='U10394496', tag='Billable-S', value='0.00', currency='USD', modelCode=''),\n",
       " AccountValue(account='U10394496', tag='BuyingPower', value='678691.17', currency='USD', modelCode=''),\n",
       " AccountValue(account='U10394496', tag='EquityWithLoanValue', value='169672.79', currency='USD', modelCode=''),\n",
       " AccountValue(account='U10394496', tag='EquityWithLoanValue-C', value='169672.79', currency='USD', modelCode=''),\n",
       " AccountValue(account='U10394496', tag='EquityWithLoanValue-P', value='0.00', currency='USD', modelCode=''),\n",
       " AccountValue(account='U10394496', tag='EquityWithLoanValue-S', value='0.00', currency='USD', modelCode=''),\n",
       " AccountValue(account='U10394496', tag='ExcessLiquidity', value='169672.79', currency='USD', modelCode=''),\n",
       " AccountValue(account='U10394496', tag='ExcessLiquidity-C', value='169672.79', currency='USD', modelCode=''),\n",
       " AccountValue(account='U10394496', tag='ExcessLiquidity-P', value='0.00', currency='USD', modelCode=''),\n",
       " AccountValue(account='U10394496', tag='ExcessLiquidity-S', value='0.00', currency='USD', modelCode=''),\n",
       " AccountValue(account='U10394496', tag='ExposureFee', value='-5.33', currency='USD', modelCode=''),\n",
       " AccountValue(account='U10394496', tag='FullAvailableFunds', value='165145.28', currency='USD', modelCode=''),\n",
       " AccountValue(account='U10394496', tag='FullAvailableFunds-C', value='165145.28', currency='USD', modelCode=''),\n",
       " AccountValue(account='U10394496', tag='FullAvailableFunds-P', value='0.00', currency='USD', modelCode=''),\n",
       " AccountValue(account='U10394496', tag='FullAvailableFunds-S', value='0.00', currency='USD', modelCode=''),\n",
       " AccountValue(account='U10394496', tag='FullExcessLiquidity', value='169672.79', currency='USD', modelCode=''),\n",
       " AccountValue(account='U10394496', tag='FullExcessLiquidity-C', value='169672.79', currency='USD', modelCode=''),\n",
       " AccountValue(account='U10394496', tag='FullExcessLiquidity-P', value='0.00', currency='USD', modelCode=''),\n",
       " AccountValue(account='U10394496', tag='FullExcessLiquidity-S', value='0.00', currency='USD', modelCode=''),\n",
       " AccountValue(account='U10394496', tag='FullInitMarginReq', value='49802.61', currency='USD', modelCode=''),\n",
       " AccountValue(account='U10394496', tag='FullInitMarginReq-C', value='49802.61', currency='USD', modelCode=''),\n",
       " AccountValue(account='U10394496', tag='FullInitMarginReq-P', value='0.00', currency='USD', modelCode=''),\n",
       " AccountValue(account='U10394496', tag='FullInitMarginReq-S', value='0.00', currency='USD', modelCode=''),\n",
       " AccountValue(account='U10394496', tag='FullMaintMarginReq', value='45275.10', currency='USD', modelCode=''),\n",
       " AccountValue(account='U10394496', tag='FullMaintMarginReq-C', value='45275.10', currency='USD', modelCode=''),\n",
       " AccountValue(account='U10394496', tag='FullMaintMarginReq-P', value='0.00', currency='USD', modelCode=''),\n",
       " AccountValue(account='U10394496', tag='FullMaintMarginReq-S', value='0.00', currency='USD', modelCode=''),\n",
       " AccountValue(account='U10394496', tag='GrossPositionValue', value='3771.09', currency='USD', modelCode=''),\n",
       " AccountValue(account='U10394496', tag='GrossPositionValue-S', value='3771.09', currency='USD', modelCode=''),\n",
       " AccountValue(account='U10394496', tag='Guarantee', value='0.00', currency='USD', modelCode=''),\n",
       " AccountValue(account='U10394496', tag='Guarantee-C', value='0.00', currency='USD', modelCode=''),\n",
       " AccountValue(account='U10394496', tag='Guarantee-P', value='0.00', currency='USD', modelCode=''),\n",
       " AccountValue(account='U10394496', tag='Guarantee-S', value='0.00', currency='USD', modelCode=''),\n",
       " AccountValue(account='U10394496', tag='IndianStockHaircut', value='0.00', currency='USD', modelCode=''),\n",
       " AccountValue(account='U10394496', tag='IndianStockHaircut-C', value='0.00', currency='USD', modelCode=''),\n",
       " AccountValue(account='U10394496', tag='IndianStockHaircut-P', value='0.00', currency='USD', modelCode=''),\n",
       " AccountValue(account='U10394496', tag='IndianStockHaircut-S', value='0.00', currency='USD', modelCode=''),\n",
       " AccountValue(account='U10394496', tag='InitMarginReq', value='49802.61', currency='USD', modelCode=''),\n",
       " AccountValue(account='U10394496', tag='InitMarginReq-C', value='49802.61', currency='USD', modelCode=''),\n",
       " AccountValue(account='U10394496', tag='InitMarginReq-P', value='0.00', currency='USD', modelCode=''),\n",
       " AccountValue(account='U10394496', tag='InitMarginReq-S', value='0.00', currency='USD', modelCode=''),\n",
       " AccountValue(account='U10394496', tag='LookAheadAvailableFunds', value='180086.06', currency='USD', modelCode=''),\n",
       " AccountValue(account='U10394496', tag='LookAheadAvailableFunds-C', value='180086.06', currency='USD', modelCode=''),\n",
       " AccountValue(account='U10394496', tag='LookAheadAvailableFunds-P', value='0.00', currency='USD', modelCode=''),\n",
       " AccountValue(account='U10394496', tag='LookAheadAvailableFunds-S', value='0.00', currency='USD', modelCode=''),\n",
       " AccountValue(account='U10394496', tag='LookAheadExcessLiquidity', value='183255.32', currency='USD', modelCode=''),\n",
       " AccountValue(account='U10394496', tag='LookAheadExcessLiquidity-C', value='183255.32', currency='USD', modelCode=''),\n",
       " AccountValue(account='U10394496', tag='LookAheadExcessLiquidity-P', value='0.00', currency='USD', modelCode=''),\n",
       " AccountValue(account='U10394496', tag='LookAheadExcessLiquidity-S', value='0.00', currency='USD', modelCode=''),\n",
       " AccountValue(account='U10394496', tag='LookAheadInitMarginReq', value='34861.82', currency='USD', modelCode=''),\n",
       " AccountValue(account='U10394496', tag='LookAheadInitMarginReq-C', value='34861.82', currency='USD', modelCode=''),\n",
       " AccountValue(account='U10394496', tag='LookAheadInitMarginReq-P', value='0.00', currency='USD', modelCode=''),\n",
       " AccountValue(account='U10394496', tag='LookAheadInitMarginReq-S', value='0.00', currency='USD', modelCode=''),\n",
       " AccountValue(account='U10394496', tag='LookAheadMaintMarginReq', value='31692.57', currency='USD', modelCode=''),\n",
       " AccountValue(account='U10394496', tag='LookAheadMaintMarginReq-C', value='31692.57', currency='USD', modelCode=''),\n",
       " AccountValue(account='U10394496', tag='LookAheadMaintMarginReq-P', value='0.00', currency='USD', modelCode=''),\n",
       " AccountValue(account='U10394496', tag='LookAheadMaintMarginReq-S', value='0.00', currency='USD', modelCode=''),\n",
       " AccountValue(account='U10394496', tag='MaintMarginReq', value='45275.10', currency='USD', modelCode=''),\n",
       " AccountValue(account='U10394496', tag='MaintMarginReq-C', value='45275.10', currency='USD', modelCode=''),\n",
       " AccountValue(account='U10394496', tag='MaintMarginReq-P', value='0.00', currency='USD', modelCode=''),\n",
       " AccountValue(account='U10394496', tag='MaintMarginReq-S', value='0.00', currency='USD', modelCode=''),\n",
       " AccountValue(account='U10394496', tag='NetLiquidation', value='218718.98', currency='USD', modelCode=''),\n",
       " AccountValue(account='U10394496', tag='NetLiquidation-C', value='214947.89', currency='USD', modelCode=''),\n",
       " AccountValue(account='U10394496', tag='NetLiquidation-P', value='0.00', currency='USD', modelCode=''),\n",
       " AccountValue(account='U10394496', tag='NetLiquidation-S', value='3771.09', currency='USD', modelCode=''),\n",
       " AccountValue(account='U10394496', tag='NetLiquidationUncertainty', value='8.87', currency='USD', modelCode=''),\n",
       " AccountValue(account='U10394496', tag='PASharesValue', value='0.00', currency='USD', modelCode=''),\n",
       " AccountValue(account='U10394496', tag='PASharesValue-C', value='0.00', currency='USD', modelCode=''),\n",
       " AccountValue(account='U10394496', tag='PASharesValue-P', value='0.00', currency='USD', modelCode=''),\n",
       " AccountValue(account='U10394496', tag='PASharesValue-S', value='0.00', currency='USD', modelCode=''),\n",
       " AccountValue(account='U10394496', tag='PhysicalCertificateValue', value='0.00', currency='USD', modelCode=''),\n",
       " AccountValue(account='U10394496', tag='PhysicalCertificateValue-C', value='0.00', currency='USD', modelCode=''),\n",
       " AccountValue(account='U10394496', tag='PhysicalCertificateValue-P', value='0.00', currency='USD', modelCode=''),\n",
       " AccountValue(account='U10394496', tag='PhysicalCertificateValue-S', value='0.00', currency='USD', modelCode=''),\n",
       " AccountValue(account='U10394496', tag='PostExpirationExcess', value='0.00', currency='USD', modelCode=''),\n",
       " AccountValue(account='U10394496', tag='PostExpirationExcess-C', value='0.00', currency='USD', modelCode=''),\n",
       " AccountValue(account='U10394496', tag='PostExpirationExcess-P', value='0.00', currency='USD', modelCode=''),\n",
       " AccountValue(account='U10394496', tag='PostExpirationExcess-S', value='0.00', currency='USD', modelCode=''),\n",
       " AccountValue(account='U10394496', tag='PostExpirationMargin', value='0.00', currency='USD', modelCode=''),\n",
       " AccountValue(account='U10394496', tag='PostExpirationMargin-C', value='0.00', currency='USD', modelCode=''),\n",
       " AccountValue(account='U10394496', tag='PostExpirationMargin-P', value='0.00', currency='USD', modelCode=''),\n",
       " AccountValue(account='U10394496', tag='PostExpirationMargin-S', value='0.00', currency='USD', modelCode=''),\n",
       " AccountValue(account='U10394496', tag='PreviousDayEquityWithLoanValue', value='0.00', currency='USD', modelCode=''),\n",
       " AccountValue(account='U10394496', tag='PreviousDayEquityWithLoanValue-S', value='0.00', currency='USD', modelCode=''),\n",
       " AccountValue(account='U10394496', tag='RegTEquity', value='0.00', currency='USD', modelCode=''),\n",
       " AccountValue(account='U10394496', tag='RegTEquity-S', value='0.00', currency='USD', modelCode=''),\n",
       " AccountValue(account='U10394496', tag='RegTMargin', value='0.00', currency='USD', modelCode=''),\n",
       " AccountValue(account='U10394496', tag='RegTMargin-S', value='0.00', currency='USD', modelCode=''),\n",
       " AccountValue(account='U10394496', tag='SMA', value='623475.35', currency='USD', modelCode=''),\n",
       " AccountValue(account='U10394496', tag='SMA-S', value='623475.35', currency='USD', modelCode=''),\n",
       " AccountValue(account='U10394496', tag='TotalCashValue', value='214947.89', currency='USD', modelCode=''),\n",
       " AccountValue(account='U10394496', tag='TotalCashValue-C', value='214947.89', currency='USD', modelCode=''),\n",
       " AccountValue(account='U10394496', tag='TotalCashValue-P', value='0.00', currency='USD', modelCode=''),\n",
       " AccountValue(account='U10394496', tag='TotalCashValue-S', value='0.00', currency='USD', modelCode=''),\n",
       " AccountValue(account='U10394496', tag='TotalDebitCardPendingCharges', value='0.00', currency='USD', modelCode=''),\n",
       " AccountValue(account='U10394496', tag='TotalDebitCardPendingCharges-C', value='0.00', currency='USD', modelCode=''),\n",
       " AccountValue(account='U10394496', tag='TotalDebitCardPendingCharges-P', value='0.00', currency='USD', modelCode=''),\n",
       " AccountValue(account='U10394496', tag='TotalDebitCardPendingCharges-S', value='0.00', currency='USD', modelCode=''),\n",
       " AccountValue(account='U10394496', tag='AccountOrGroup', value='U10394496', currency='BASE', modelCode=''),\n",
       " AccountValue(account='U10394496', tag='AccountOrGroup', value='U10394496', currency='USD', modelCode=''),\n",
       " AccountValue(account='U10394496', tag='AccruedCash', value='0.00', currency='BASE', modelCode=''),\n",
       " AccountValue(account='U10394496', tag='CashBalance', value='214947.8888', currency='BASE', modelCode=''),\n",
       " AccountValue(account='U10394496', tag='CashBalance', value='214947.8888', currency='USD', modelCode=''),\n",
       " AccountValue(account='U10394496', tag='CorporateBondValue', value='0.00', currency='BASE', modelCode=''),\n",
       " AccountValue(account='U10394496', tag='CorporateBondValue', value='0.00', currency='USD', modelCode=''),\n",
       " AccountValue(account='U10394496', tag='Cryptocurrency', value='0.00', currency='BASE', modelCode=''),\n",
       " AccountValue(account='U10394496', tag='Cryptocurrency', value='0.00', currency='USD', modelCode=''),\n",
       " AccountValue(account='U10394496', tag='Currency', value='BASE', currency='BASE', modelCode=''),\n",
       " AccountValue(account='U10394496', tag='Currency', value='USD', currency='USD', modelCode=''),\n",
       " AccountValue(account='U10394496', tag='ExchangeRate', value='1.00', currency='BASE', modelCode=''),\n",
       " AccountValue(account='U10394496', tag='ExchangeRate', value='1.00', currency='USD', modelCode=''),\n",
       " AccountValue(account='U10394496', tag='FundValue', value='0.00', currency='BASE', modelCode=''),\n",
       " AccountValue(account='U10394496', tag='FundValue', value='0.00', currency='USD', modelCode=''),\n",
       " AccountValue(account='U10394496', tag='FutureOptionValue', value='0.00', currency='BASE', modelCode=''),\n",
       " AccountValue(account='U10394496', tag='FutureOptionValue', value='0.00', currency='USD', modelCode=''),\n",
       " AccountValue(account='U10394496', tag='FuturesPNL', value='30036.02', currency='BASE', modelCode=''),\n",
       " AccountValue(account='U10394496', tag='FuturesPNL', value='30036.02', currency='USD', modelCode=''),\n",
       " AccountValue(account='U10394496', tag='FxCashBalance', value='0.00', currency='BASE', modelCode=''),\n",
       " AccountValue(account='U10394496', tag='FxCashBalance', value='0.00', currency='USD', modelCode=''),\n",
       " AccountValue(account='U10394496', tag='IssuerOptionValue', value='0.00', currency='BASE', modelCode=''),\n",
       " AccountValue(account='U10394496', tag='IssuerOptionValue', value='0.00', currency='USD', modelCode=''),\n",
       " AccountValue(account='U10394496', tag='MoneyMarketFundValue', value='0.00', currency='BASE', modelCode=''),\n",
       " AccountValue(account='U10394496', tag='MoneyMarketFundValue', value='0.00', currency='USD', modelCode=''),\n",
       " AccountValue(account='U10394496', tag='MutualFundValue', value='0.00', currency='BASE', modelCode=''),\n",
       " AccountValue(account='U10394496', tag='MutualFundValue', value='0.00', currency='USD', modelCode=''),\n",
       " AccountValue(account='U10394496', tag='NetDividend', value='0.00', currency='BASE', modelCode=''),\n",
       " AccountValue(account='U10394496', tag='NetDividend', value='0.00', currency='USD', modelCode=''),\n",
       " AccountValue(account='U10394496', tag='NetLiquidationByCurrency', value='218718.9797', currency='BASE', modelCode=''),\n",
       " AccountValue(account='U10394496', tag='NetLiquidationByCurrency', value='218718.9797', currency='USD', modelCode=''),\n",
       " AccountValue(account='U10394496', tag='OptionMarketValue', value='3771.09', currency='BASE', modelCode=''),\n",
       " AccountValue(account='U10394496', tag='OptionMarketValue', value='3771.09', currency='USD', modelCode=''),\n",
       " AccountValue(account='U10394496', tag='RealCurrency', value='BASE', currency='BASE', modelCode=''),\n",
       " AccountValue(account='U10394496', tag='RealCurrency', value='USD', currency='USD', modelCode=''),\n",
       " AccountValue(account='U10394496', tag='RealizedPnL', value='28454.77', currency='BASE', modelCode=''),\n",
       " AccountValue(account='U10394496', tag='RealizedPnL', value='28454.77', currency='USD', modelCode=''),\n",
       " AccountValue(account='U10394496', tag='StockMarketValue', value='0.00', currency='BASE', modelCode=''),\n",
       " AccountValue(account='U10394496', tag='StockMarketValue', value='0.00', currency='USD', modelCode=''),\n",
       " AccountValue(account='U10394496', tag='TBillValue', value='0.00', currency='BASE', modelCode=''),\n",
       " AccountValue(account='U10394496', tag='TBillValue', value='0.00', currency='USD', modelCode=''),\n",
       " AccountValue(account='U10394496', tag='TBondValue', value='0.00', currency='BASE', modelCode=''),\n",
       " AccountValue(account='U10394496', tag='TBondValue', value='0.00', currency='USD', modelCode=''),\n",
       " AccountValue(account='U10394496', tag='TotalCashBalance', value='214947.8888', currency='BASE', modelCode=''),\n",
       " AccountValue(account='U10394496', tag='TotalCashBalance', value='214947.8888', currency='USD', modelCode=''),\n",
       " AccountValue(account='U10394496', tag='UnrealizedPnL', value='721.44', currency='BASE', modelCode=''),\n",
       " AccountValue(account='U10394496', tag='UnrealizedPnL', value='721.44', currency='USD', modelCode=''),\n",
       " AccountValue(account='U10394496', tag='WarrantValue', value='0.00', currency='BASE', modelCode=''),\n",
       " AccountValue(account='U10394496', tag='WarrantValue', value='0.00', currency='USD', modelCode='')]"
      ]
     },
     "execution_count": 6,
     "metadata": {},
     "output_type": "execute_result"
    }
   ],
   "source": [
    "ib.accountValues(account=\"U10394496\")"
   ]
  },
  {
   "cell_type": "code",
   "execution_count": 5,
   "metadata": {},
   "outputs": [
    {
     "data": {
      "text/plain": [
       "[AccountValue(account='U172554', tag='NetLiquidationByCurrency', value='2039.4021', currency='BASE', modelCode='')]"
      ]
     },
     "execution_count": 5,
     "metadata": {},
     "output_type": "execute_result"
    }
   ],
   "source": [
    "[v for v in ib.accountValues() if v.tag == 'NetLiquidationByCurrency' and v.currency == 'BASE']"
   ]
  },
  {
   "cell_type": "markdown",
   "metadata": {},
   "source": [
    "The \"current state\" will automatically be kept in sync with TWS/IBG. So an order fill will be added as soon as it is reported, or account values will be updated as soon as they change in TWS."
   ]
  },
  {
   "cell_type": "markdown",
   "metadata": {},
   "source": [
    "### Contracts\n",
    "\n",
    "Contracts can be specified in different ways:\n",
    "* The ibapi way, by creating an empty Contract object and setting its attributes one by one;\n",
    "* By using Contract and giving the attributes as keyword argument;\n",
    "* By using the specialized Stock, Option, Future, Forex, Index, CFD, Commodity,\n",
    "  Bond, FuturesOption, MutualFund or Warrant contracts.\n",
    "\n",
    "Some examples:"
   ]
  },
  {
   "cell_type": "code",
   "execution_count": 6,
   "metadata": {},
   "outputs": [],
   "source": [
    "Contract(conId=270639)\n",
    "Stock('AMD', 'SMART', 'USD')\n",
    "Stock('INTC', 'SMART', 'USD', primaryExchange='NASDAQ')\n",
    "Forex('EURUSD')\n",
    "CFD('IBUS30')\n",
    "Future('ES', '20180921', 'GLOBEX')\n",
    "Option('SPY', '20170721', 240, 'C', 'SMART')\n",
    "Bond(secIdType='ISIN', secId='US03076KAA60');"
   ]
  },
  {
   "cell_type": "markdown",
   "metadata": {},
   "source": [
    "### Sending a request\n",
    "\n",
    "The IB class has nearly all request methods that the IB API offers. The methods that return a result will block until finished and then return the result. Take for example reqContractDetails:"
   ]
  },
  {
   "cell_type": "code",
   "execution_count": 7,
   "metadata": {},
   "outputs": [
    {
     "data": {
      "text/plain": [
       "[ContractDetails(contract=Contract(secType='STK', conId=76792991, symbol='TSLA', exchange='SMART', primaryExchange='NASDAQ', currency='USD', localSymbol='TSLA', tradingClass='NMS', comboLegs=[]), marketName='NMS', minTick=0.01, orderTypes='ACTIVETIM,ADJUST,ALERT,ALGO,ALLOC,AON,AVGCOST,BASKET,BENCHPX,COND,CONDORDER,DARKONLY,DARKPOLL,DAY,DEACT,DEACTDIS,DEACTEOD,DIS,GAT,GTC,GTD,GTT,HID,IBKRATS,ICE,IMB,IOC,LIT,LMT,LOC,MIDPX,MIT,MKT,MOC,MTL,NGCOMB,NODARK,NONALGO,OCA,OPG,OPGREROUT,PEGBENCH,POSTONLY,PREOPGRTH,REL,RPI,RTH,SCALE,SCALEODD,SCALERST,SNAPMID,SNAPMKT,SNAPREL,STP,STPLMT,SWEEP,TRAIL,TRAILLIT,TRAILLMT,TRAILMIT,WHATIF', validExchanges='SMART,AMEX,NYSE,CBOE,PHLX,ISE,CHX,ARCA,ISLAND,DRCTEDGE,BEX,BATS,EDGEA,CSFBALGO,JEFFALGO,BYX,IEX,EDGX,FOXRIVER,TPLUS1,NYSENAT,PSX', priceMagnifier=1, underConId=0, longName='TESLA INC', contractMonth='', industry='Consumer, Cyclical', category='Auto Manufacturers', subcategory='Auto-Cars/Light Trucks', timeZoneId='EST (Eastern Standard Time)', tradingHours='20191231:0400-20191231:2000;20200101:CLOSED;20200102:0400-20200102:2000;20200103:0400-20200103:2000;20200104:CLOSED;20200105:CLOSED;20200106:0400-20200106:2000;20200107:0400-20200107:2000;20200108:0400-20200108:2000;20200109:0400-20200109:2000;20200110:0400-20200110:2000;20200111:CLOSED;20200112:CLOSED;20200113:0400-20200113:2000;20200114:0400-20200114:2000;20200115:0400-20200115:2000;20200116:0400-20200116:2000;20200117:0400-20200117:2000;20200118:CLOSED;20200119:CLOSED;20200120:0400-20200120:2000;20200121:0400-20200121:2000;20200122:0400-20200122:2000;20200123:0400-20200123:2000;20200124:0400-20200124:2000;20200125:CLOSED;20200126:CLOSED;20200127:0400-20200127:2000;20200128:0400-20200128:2000;20200129:0400-20200129:2000;20200130:0400-20200130:2000;20200131:0400-20200131:2000;20200201:CLOSED;20200202:CLOSED;20200203:0400-20200203:2000', liquidHours='20191231:0930-20191231:1600;20200101:CLOSED;20200102:0930-20200102:1600;20200103:0930-20200103:1600;20200104:CLOSED;20200105:CLOSED;20200106:0930-20200106:1600;20200107:0930-20200107:1600;20200108:0930-20200108:1600;20200109:0930-20200109:1600;20200110:0930-20200110:1600;20200111:CLOSED;20200112:CLOSED;20200113:0930-20200113:1600;20200114:0930-20200114:1600;20200115:0930-20200115:1600;20200116:0930-20200116:1600;20200117:0930-20200117:1600;20200118:CLOSED;20200119:CLOSED;20200120:0930-20200120:1600;20200121:0930-20200121:1600;20200122:0930-20200122:1600;20200123:0930-20200123:1600;20200124:0930-20200124:1600;20200125:CLOSED;20200126:CLOSED;20200127:0930-20200127:1600;20200128:0930-20200128:1600;20200129:0930-20200129:1600;20200130:0930-20200130:1600;20200131:0930-20200131:1600;20200201:CLOSED;20200202:CLOSED;20200203:0930-20200203:1600', evRule='', evMultiplier=0, mdSizeMultiplier=100, aggGroup=1, underSymbol='', underSecType='', marketRuleIds='26,26,26,26,26,26,26,26,26,26,26,26,26,26,26,26,26,26,26,26,26,26', secIdList=[], realExpirationDate='', lastTradeTime='', stockType='COMMON', cusip='', ratings='', descAppend='', bondType='', couponType='', callable=False, putable=False, coupon=0, convertible=False, maturity='', issueDate='', nextOptionDate='', nextOptionType='', nextOptionPartial=False, notes='')]"
      ]
     },
     "execution_count": 7,
     "metadata": {},
     "output_type": "execute_result"
    }
   ],
   "source": [
    "contract = Stock('TSLA', 'SMART', 'USD')\n",
    "ib.reqContractDetails(contract)"
   ]
  },
  {
   "cell_type": "markdown",
   "metadata": {},
   "source": [
    "### Current state vs request\n",
    "\n",
    "Doing a request involves network traffic going up and down and can take considerable time. The current state on the other hand is always immediately available. So it is preferable to use the current state methods over requests. For example, use ``ib.openOrders()`` in preference over ``ib.reqOpenOrders()``, or ``ib.positions()`` over ``ib.reqPositions()``, etc:"
   ]
  },
  {
   "cell_type": "code",
   "execution_count": 8,
   "metadata": {},
   "outputs": [
    {
     "name": "stdout",
     "output_type": "stream",
     "text": [
      "CPU times: user 5 µs, sys: 3 µs, total: 8 µs\n",
      "Wall time: 9.06 µs\n"
     ]
    }
   ],
   "source": [
    "%time l = ib.positions()"
   ]
  },
  {
   "cell_type": "code",
   "execution_count": 9,
   "metadata": {},
   "outputs": [
    {
     "name": "stdout",
     "output_type": "stream",
     "text": [
      "CPU times: user 0 ns, sys: 745 µs, total: 745 µs\n",
      "Wall time: 32.7 ms\n"
     ]
    }
   ],
   "source": [
    "%time l = ib.reqPositions()"
   ]
  },
  {
   "cell_type": "markdown",
   "metadata": {},
   "source": [
    "### Logging\n",
    "\n",
    "The following will put log messages of INFO and higher level under the current active cell:"
   ]
  },
  {
   "cell_type": "code",
   "execution_count": 10,
   "metadata": {},
   "outputs": [],
   "source": [
    "util.logToConsole()"
   ]
  },
  {
   "cell_type": "markdown",
   "metadata": {},
   "source": [
    "To see all debug messages (including network traffic):"
   ]
  },
  {
   "cell_type": "code",
   "execution_count": 11,
   "metadata": {},
   "outputs": [],
   "source": [
    "import logging\n",
    "util.logToConsole(logging.DEBUG)"
   ]
  },
  {
   "cell_type": "markdown",
   "metadata": {},
   "source": [
    "### Disconnecting\n",
    "\n",
    "The following will disconnect ``ib`` and clear all its state:"
   ]
  },
  {
   "cell_type": "code",
   "execution_count": 12,
   "metadata": {},
   "outputs": [
    {
     "name": "stderr",
     "output_type": "stream",
     "text": [
      "2019-12-31 13:28:29,252 ib_async.ib INFO Disconnecting from 127.0.0.1:7497, 160 B sent in 9 messages, 21.0 kB received in 418 messages, session time 920 ms.\n",
      "2019-12-31 13:28:29,255 ib_async.client INFO Disconnecting\n"
     ]
    }
   ],
   "source": [
    "ib.disconnect()"
   ]
  }
 ],
 "metadata": {
  "kernelspec": {
   "display_name": "Python 3",
   "language": "python",
   "name": "python3"
  },
  "language_info": {
   "codemirror_mode": {
    "name": "ipython",
    "version": 3
   },
   "file_extension": ".py",
   "mimetype": "text/x-python",
   "name": "python",
   "nbconvert_exporter": "python",
   "pygments_lexer": "ipython3",
   "version": "3.12.2"
  }
 },
 "nbformat": 4,
 "nbformat_minor": 4
}
