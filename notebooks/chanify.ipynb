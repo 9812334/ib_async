{
 "cells": [
  {
   "cell_type": "code",
   "execution_count": null,
   "metadata": {},
   "outputs": [],
   "source": [
    "from urllib import request, parse\n",
    "\n",
    "data = parse.urlencode({ 'text': 'Hello world!' }).encode()\n",
    "req = request.Request(\"https://api.chanify.net/v1/sender/token\", data=data)\n",
    "request.urlopen(req)"
   ]
  }
 ],
 "metadata": {
  "language_info": {
   "name": "python"
  }
 },
 "nbformat": 4,
 "nbformat_minor": 2
}
