{
 "cells": [
  {
   "cell_type": "markdown",
   "metadata": {},
   "source": [
    "Market depth (order book)\n",
    "=============="
   ]
  },
  {
   "cell_type": "code",
   "execution_count": 21,
   "metadata": {},
   "outputs": [
    {
     "data": {
      "text/plain": [
       "<IB connected to 127.0.0.1:4001 clientId=16>"
      ]
     },
     "execution_count": 21,
     "metadata": {},
     "output_type": "execute_result"
    },
    {
     "name": "stderr",
     "output_type": "stream",
     "text": [
      "Error 1100, reqId -1: Connectivity between IB and Trader Workstation has been lost.\n",
      "Error 1100, reqId -1: Connectivity between IB and Trader Workstation has been lost.\n",
      "Error 317, reqId 6: Market depth data has been RESET. Please empty deep book contents before applying any new entries., contract: Contract(secType='FUT', conId=620730920, symbol='NQ', lastTradeDateOrContractMonth='20240621', multiplier='20', exchange='CME', currency='USD', localSymbol='NQM4', tradingClass='NQ')\n"
     ]
    }
   ],
   "source": [
    "from ib_async import *\n",
    "\n",
    "util.startLoop()\n",
    "\n",
    "ib = IB()\n",
    "ib.connect(\"127.0.0.1\", 4001, clientId=16)"
   ]
  },
  {
   "cell_type": "code",
   "execution_count": null,
   "metadata": {},
   "outputs": [
    {
     "data": {
      "text/html": [
       "<div>\n",
       "<style scoped>\n",
       "    .dataframe tbody tr th:only-of-type {\n",
       "        vertical-align: middle;\n",
       "    }\n",
       "\n",
       "    .dataframe tbody tr th {\n",
       "        vertical-align: top;\n",
       "    }\n",
       "\n",
       "    .dataframe thead th {\n",
       "        text-align: right;\n",
       "    }\n",
       "</style>\n",
       "<table border=\"1\" class=\"dataframe\">\n",
       "  <thead>\n",
       "    <tr style=\"text-align: right;\">\n",
       "      <th></th>\n",
       "      <th>bidSize</th>\n",
       "      <th>bidPrice</th>\n",
       "      <th>askPrice</th>\n",
       "      <th>askSize</th>\n",
       "    </tr>\n",
       "  </thead>\n",
       "  <tbody>\n",
       "    <tr>\n",
       "      <th>0</th>\n",
       "      <td>0</td>\n",
       "      <td>0</td>\n",
       "      <td>0</td>\n",
       "      <td>0</td>\n",
       "    </tr>\n",
       "    <tr>\n",
       "      <th>1</th>\n",
       "      <td>0</td>\n",
       "      <td>0</td>\n",
       "      <td>0</td>\n",
       "      <td>0</td>\n",
       "    </tr>\n",
       "    <tr>\n",
       "      <th>2</th>\n",
       "      <td>0</td>\n",
       "      <td>0</td>\n",
       "      <td>0</td>\n",
       "      <td>0</td>\n",
       "    </tr>\n",
       "    <tr>\n",
       "      <th>3</th>\n",
       "      <td>0</td>\n",
       "      <td>0</td>\n",
       "      <td>0</td>\n",
       "      <td>0</td>\n",
       "    </tr>\n",
       "    <tr>\n",
       "      <th>4</th>\n",
       "      <td>0</td>\n",
       "      <td>0</td>\n",
       "      <td>0</td>\n",
       "      <td>0</td>\n",
       "    </tr>\n",
       "  </tbody>\n",
       "</table>\n",
       "</div>"
      ],
      "text/plain": [
       "  bidSize bidPrice askPrice askSize\n",
       "0       0        0        0       0\n",
       "1       0        0        0       0\n",
       "2       0        0        0       0\n",
       "3       0        0        0       0\n",
       "4       0        0        0       0"
      ]
     },
     "metadata": {},
     "output_type": "display_data"
    }
   ],
   "source": [
    "from IPython.display import display, clear_output\n",
    "import pandas as pd\n",
    "\n",
    "df = pd.DataFrame(index=range(5), columns=\"bidSize bidPrice askPrice askSize\".split())\n",
    "\n",
    "# NQM2024 contract\n",
    "contract = Contract(conId=620730920)\n",
    "\n",
    "ib.qualifyContracts(contract)\n",
    "ticker = ib.reqMktDepth(contract)\n",
    "\n",
    "\n",
    "def onTickerUpdate(ticker):\n",
    "    bids = ticker.domBids\n",
    "    for i in range(5):\n",
    "        df.iloc[i, 0] = bids[i].size if i < len(bids) else 0\n",
    "        df.iloc[i, 1] = bids[i].price if i < len(bids) else 0\n",
    "    asks = ticker.domAsks\n",
    "    for i in range(5):\n",
    "        df.iloc[i, 2] = asks[i].price if i < len(asks) else 0\n",
    "        df.iloc[i, 3] = asks[i].size if i < len(asks) else 0\n",
    "    clear_output(wait=True)\n",
    "    display(df)\n",
    "\n",
    "\n",
    "ticker.updateEvent += onTickerUpdate\n",
    "\n",
    "IB.sleep(15)"
   ]
  },
  {
   "cell_type": "code",
   "execution_count": 14,
   "metadata": {},
   "outputs": [],
   "source": [
    "ib.cancelMktDepth(contract)"
   ]
  },
  {
   "cell_type": "code",
   "execution_count": 16,
   "metadata": {},
   "outputs": [
    {
     "data": {
      "text/plain": [
       "[Position(account='U10394496', contract=Future(conId=620730920, symbol='NQ', lastTradeDateOrContractMonth='20240621', multiplier='20', currency='USD', localSymbol='NQM4', tradingClass='NQ'), position=6.0, avgCost=344900.6149234)]"
      ]
     },
     "execution_count": 16,
     "metadata": {},
     "output_type": "execute_result"
    }
   ],
   "source": [
    "ib.positions(account=\"U10394496\")"
   ]
  },
  {
   "cell_type": "code",
   "execution_count": 17,
   "metadata": {},
   "outputs": [
    {
     "data": {
      "text/plain": [
       "[Order(permId=827631043, action='BUY', totalQuantity=1.0, orderType='LMT', lmtPrice=17248.0, auxPrice=0.0, tif='GTC', ocaType=3, orderRef='cLnpF0mGeHCl', displaySize=2147483647, rule80A='0', openClose='', volatilityType=0, deltaNeutralOrderType='None', referencePriceType=0, account='U10394496', clearingIntent='IB', cashQty=0.0, dontUseAutoPriceForHedge=True, autoCancelDate='20240930 17:00:00 Central Standard Time', filledQuantity=0.0, refFuturesConId=2147483647, shareholder='Not an insider or substantial shareholder'),\n",
       " Order(permId=827631052, action='BUY', totalQuantity=1.0, orderType='LMT', lmtPrice=17261.0, auxPrice=0.0, tif='GTC', ocaType=3, orderRef='o96F4l68Y3GT', displaySize=2147483647, rule80A='0', openClose='', volatilityType=0, deltaNeutralOrderType='None', referencePriceType=0, account='U10394496', clearingIntent='IB', cashQty=0.0, dontUseAutoPriceForHedge=True, autoCancelDate='20240930 17:00:00 Central Standard Time', filledQuantity=0.0, refFuturesConId=2147483647, shareholder='Not an insider or substantial shareholder'),\n",
       " Order(permId=827631055, action='BUY', totalQuantity=1.0, orderType='LMT', lmtPrice=17258.5, auxPrice=0.0, tif='GTC', ocaType=3, orderRef='O355ThZZfnwo', displaySize=2147483647, rule80A='0', openClose='', volatilityType=0, deltaNeutralOrderType='None', referencePriceType=0, account='U10394496', clearingIntent='IB', cashQty=0.0, dontUseAutoPriceForHedge=True, autoCancelDate='20240930 17:00:00 Central Standard Time', filledQuantity=0.0, refFuturesConId=2147483647, shareholder='Not an insider or substantial shareholder'),\n",
       " Order(permId=1478182471, action='BUY', totalQuantity=1.0, orderType='LMT', lmtPrice=17245.75, auxPrice=0.0, tif='GTC', ocaType=3, orderRef='1Lv3mPtZGV06', displaySize=2147483647, rule80A='0', openClose='', volatilityType=0, deltaNeutralOrderType='None', referencePriceType=0, account='U10394496', clearingIntent='IB', cashQty=0.0, dontUseAutoPriceForHedge=True, autoCancelDate='20240930 17:00:00 Central Standard Time', filledQuantity=0.0, refFuturesConId=2147483647, shareholder='Not an insider or substantial shareholder'),\n",
       " Order(permId=1478182472, action='BUY', orderType='LMT', lmtPrice=17246.75, auxPrice=0.0, tif='GTC', ocaType=3, orderRef='TVRwEKpnevxG', displaySize=2147483647, rule80A='0', openClose='', volatilityType=0, deltaNeutralOrderType='None', referencePriceType=0, account='U10394496', clearingIntent='IB', cashQty=0.0, dontUseAutoPriceForHedge=True, autoCancelDate='20240930 17:00:00 Central Standard Time', filledQuantity=1.0, refFuturesConId=2147483647, shareholder='Not an insider or substantial shareholder'),\n",
       " Order(permId=827631066, action='BUY', orderType='LMT', lmtPrice=17247.0, auxPrice=0.0, tif='GTC', ocaType=3, orderRef='pqfG7G95dfHH', displaySize=2147483647, rule80A='0', openClose='', volatilityType=0, deltaNeutralOrderType='None', referencePriceType=0, account='U10394496', clearingIntent='IB', cashQty=0.0, dontUseAutoPriceForHedge=True, autoCancelDate='20240930 17:00:00 Central Standard Time', filledQuantity=1.0, refFuturesConId=2147483647, shareholder='Not an insider or substantial shareholder'),\n",
       " Order(permId=827631067, action='SELL', orderType='LMT', lmtPrice=17250.75, auxPrice=0.0, tif='GTC', ocaGroup='827631066', ocaType=3, displaySize=2147483647, rule80A='0', openClose='', volatilityType=0, deltaNeutralOrderType='None', referencePriceType=0, account='U10394496', clearingIntent='IB', cashQty=0.0, dontUseAutoPriceForHedge=True, autoCancelDate='20240930 17:00:00 Central Standard Time', filledQuantity=1.0, refFuturesConId=2147483647, shareholder='Not an insider or substantial shareholder', parentPermId=827631066),\n",
       " Order(permId=827631064, action='BUY', orderType='LMT', lmtPrice=17246.5, auxPrice=0.0, tif='GTC', ocaType=3, orderRef='aEBPGGO8csCy', displaySize=2147483647, rule80A='0', openClose='', volatilityType=0, deltaNeutralOrderType='None', referencePriceType=0, account='U10394496', clearingIntent='IB', cashQty=0.0, dontUseAutoPriceForHedge=True, autoCancelDate='20240930 17:00:00 Central Standard Time', filledQuantity=1.0, refFuturesConId=2147483647, shareholder='Not an insider or substantial shareholder'),\n",
       " Order(permId=827631065, action='SELL', orderType='LMT', lmtPrice=17249.0, auxPrice=0.0, tif='GTC', ocaGroup='827631064', ocaType=3, displaySize=2147483647, rule80A='0', openClose='', volatilityType=0, deltaNeutralOrderType='None', referencePriceType=0, account='U10394496', clearingIntent='IB', cashQty=0.0, dontUseAutoPriceForHedge=True, autoCancelDate='20240930 17:00:00 Central Standard Time', filledQuantity=1.0, refFuturesConId=2147483647, shareholder='Not an insider or substantial shareholder', parentPermId=827631064),\n",
       " Order(permId=827631062, action='BUY', orderType='LMT', lmtPrice=17248.5, auxPrice=0.0, tif='GTC', ocaType=3, orderRef='78AWpo5OEG7S', displaySize=2147483647, rule80A='0', openClose='', volatilityType=0, deltaNeutralOrderType='None', referencePriceType=0, account='U10394496', clearingIntent='IB', cashQty=0.0, dontUseAutoPriceForHedge=True, autoCancelDate='20240930 17:00:00 Central Standard Time', filledQuantity=1.0, refFuturesConId=2147483647, shareholder='Not an insider or substantial shareholder'),\n",
       " Order(permId=827631063, action='SELL', orderType='LMT', lmtPrice=17251.0, auxPrice=0.0, tif='GTC', ocaGroup='827631062', ocaType=3, displaySize=2147483647, rule80A='0', openClose='', volatilityType=0, deltaNeutralOrderType='None', referencePriceType=0, account='U10394496', clearingIntent='IB', cashQty=0.0, dontUseAutoPriceForHedge=True, autoCancelDate='20240930 17:00:00 Central Standard Time', filledQuantity=1.0, refFuturesConId=2147483647, shareholder='Not an insider or substantial shareholder', parentPermId=827631062),\n",
       " Order(permId=827631060, action='BUY', totalQuantity=1.0, orderType='LMT', lmtPrice=17228.5, auxPrice=0.0, tif='GTC', ocaType=3, orderRef='mXqSyWPYmB0G', displaySize=2147483647, rule80A='0', openClose='', volatilityType=0, deltaNeutralOrderType='None', referencePriceType=0, account='U10394496', clearingIntent='IB', cashQty=0.0, dontUseAutoPriceForHedge=True, autoCancelDate='20240930 17:00:00 Central Standard Time', filledQuantity=0.0, refFuturesConId=2147483647, shareholder='Not an insider or substantial shareholder'),\n",
       " Order(permId=827631061, action='SELL', totalQuantity=1.0, orderType='LMT', lmtPrice=17231.0, auxPrice=0.0, tif='GTC', ocaGroup='827631060', ocaType=3, displaySize=2147483647, rule80A='0', openClose='', volatilityType=0, deltaNeutralOrderType='None', referencePriceType=0, account='U10394496', clearingIntent='IB', cashQty=0.0, dontUseAutoPriceForHedge=True, autoCancelDate='20240930 17:00:00 Central Standard Time', filledQuantity=0.0, refFuturesConId=2147483647, shareholder='Not an insider or substantial shareholder', parentPermId=827631060),\n",
       " Order(permId=827631058, action='BUY', orderType='LMT', lmtPrice=17231.0, auxPrice=0.0, tif='GTC', ocaType=3, orderRef='lSKrrCRfAQ3T', displaySize=2147483647, rule80A='0', openClose='', volatilityType=0, deltaNeutralOrderType='None', referencePriceType=0, account='U10394496', clearingIntent='IB', cashQty=0.0, dontUseAutoPriceForHedge=True, autoCancelDate='20240930 17:00:00 Central Standard Time', filledQuantity=1.0, refFuturesConId=2147483647, shareholder='Not an insider or substantial shareholder'),\n",
       " Order(permId=827631059, action='SELL', orderType='LMT', lmtPrice=17233.5, auxPrice=0.0, tif='GTC', ocaGroup='827631058', ocaType=3, displaySize=2147483647, rule80A='0', openClose='', volatilityType=0, deltaNeutralOrderType='None', referencePriceType=0, account='U10394496', clearingIntent='IB', cashQty=0.0, dontUseAutoPriceForHedge=True, autoCancelDate='20240930 17:00:00 Central Standard Time', filledQuantity=1.0, refFuturesConId=2147483647, shareholder='Not an insider or substantial shareholder', parentPermId=827631058),\n",
       " Order(permId=827631056, action='BUY', orderType='LMT', lmtPrice=17258.5, auxPrice=0.0, tif='GTC', ocaType=3, orderRef='JEC0HhTBmLS1', displaySize=2147483647, rule80A='0', openClose='', volatilityType=0, deltaNeutralOrderType='None', referencePriceType=0, account='U10394496', clearingIntent='IB', cashQty=0.0, dontUseAutoPriceForHedge=True, autoCancelDate='20240930 17:00:00 Central Standard Time', filledQuantity=1.0, refFuturesConId=2147483647, shareholder='Not an insider or substantial shareholder'),\n",
       " Order(permId=827631053, action='BUY', orderType='LMT', lmtPrice=17262.75, auxPrice=0.0, tif='GTC', ocaType=3, orderRef='NuOgyFxHgGsM', displaySize=2147483647, rule80A='0', openClose='', volatilityType=0, deltaNeutralOrderType='None', referencePriceType=0, account='U10394496', clearingIntent='IB', cashQty=0.0, dontUseAutoPriceForHedge=True, autoCancelDate='20240930 17:00:00 Central Standard Time', filledQuantity=1.0, refFuturesConId=2147483647, shareholder='Not an insider or substantial shareholder'),\n",
       " Order(permId=827631054, action='SELL', orderType='LMT', lmtPrice=17268.0, auxPrice=0.0, tif='GTC', ocaGroup='827631053', ocaType=3, displaySize=2147483647, rule80A='0', openClose='', volatilityType=0, deltaNeutralOrderType='None', referencePriceType=0, account='U10394496', clearingIntent='IB', cashQty=0.0, dontUseAutoPriceForHedge=True, autoCancelDate='20240930 17:00:00 Central Standard Time', filledQuantity=1.0, refFuturesConId=2147483647, shareholder='Not an insider or substantial shareholder', parentPermId=827631053),\n",
       " Order(permId=827631050, action='BUY', orderType='LMT', lmtPrice=17264.75, auxPrice=0.0, tif='GTC', ocaType=3, orderRef='6z06ovFdjfwF', displaySize=2147483647, rule80A='0', openClose='', volatilityType=0, deltaNeutralOrderType='None', referencePriceType=0, account='U10394496', clearingIntent='IB', cashQty=0.0, dontUseAutoPriceForHedge=True, autoCancelDate='20240930 17:00:00 Central Standard Time', filledQuantity=1.0, refFuturesConId=2147483647, shareholder='Not an insider or substantial shareholder'),\n",
       " Order(permId=827631051, action='SELL', orderType='LMT', lmtPrice=17268.25, auxPrice=0.0, tif='GTC', ocaGroup='827631050', ocaType=3, displaySize=2147483647, rule80A='0', openClose='', volatilityType=0, deltaNeutralOrderType='None', referencePriceType=0, account='U10394496', clearingIntent='IB', cashQty=0.0, dontUseAutoPriceForHedge=True, autoCancelDate='20240930 17:00:00 Central Standard Time', filledQuantity=1.0, refFuturesConId=2147483647, shareholder='Not an insider or substantial shareholder', parentPermId=827631050),\n",
       " Order(permId=827631048, action='BUY', orderType='LMT', lmtPrice=17266.0, auxPrice=0.0, tif='GTC', ocaType=3, orderRef='bnGSDINfc2CY', displaySize=2147483647, rule80A='0', openClose='', volatilityType=0, deltaNeutralOrderType='None', referencePriceType=0, account='U10394496', clearingIntent='IB', cashQty=0.0, dontUseAutoPriceForHedge=True, autoCancelDate='20240930 17:00:00 Central Standard Time', filledQuantity=1.0, refFuturesConId=2147483647, shareholder='Not an insider or substantial shareholder'),\n",
       " Order(permId=827631049, action='SELL', orderType='LMT', lmtPrice=17268.5, auxPrice=0.0, tif='GTC', ocaGroup='827631048', ocaType=3, displaySize=2147483647, rule80A='0', openClose='', volatilityType=0, deltaNeutralOrderType='None', referencePriceType=0, account='U10394496', clearingIntent='IB', cashQty=0.0, dontUseAutoPriceForHedge=True, autoCancelDate='20240930 17:00:00 Central Standard Time', filledQuantity=1.0, refFuturesConId=2147483647, shareholder='Not an insider or substantial shareholder', parentPermId=827631048),\n",
       " Order(permId=827631044, action='BUY', orderType='LMT', lmtPrice=17250.0, auxPrice=0.0, tif='GTC', ocaType=3, orderRef='YqOZXMA8sdT1', displaySize=2147483647, rule80A='0', openClose='', volatilityType=0, deltaNeutralOrderType='None', referencePriceType=0, account='U10394496', clearingIntent='IB', cashQty=0.0, dontUseAutoPriceForHedge=True, autoCancelDate='20240930 17:00:00 Central Standard Time', filledQuantity=1.0, refFuturesConId=2147483647, shareholder='Not an insider or substantial shareholder'),\n",
       " Order(permId=827631045, action='SELL', orderType='LMT', lmtPrice=17256.25, auxPrice=0.0, tif='GTC', ocaGroup='827631044', ocaType=3, displaySize=2147483647, rule80A='0', openClose='', volatilityType=0, deltaNeutralOrderType='None', referencePriceType=0, account='U10394496', clearingIntent='IB', cashQty=0.0, dontUseAutoPriceForHedge=True, autoCancelDate='20240930 17:00:00 Central Standard Time', filledQuantity=1.0, refFuturesConId=2147483647, shareholder='Not an insider or substantial shareholder', parentPermId=827631044),\n",
       " Order(permId=827631041, action='BUY', orderType='LMT', lmtPrice=17250.25, auxPrice=0.0, tif='GTC', ocaType=3, orderRef='eKyjok3RwRZz', displaySize=2147483647, rule80A='0', openClose='', volatilityType=0, deltaNeutralOrderType='None', referencePriceType=0, account='U10394496', clearingIntent='IB', cashQty=0.0, dontUseAutoPriceForHedge=True, autoCancelDate='20240930 17:00:00 Central Standard Time', filledQuantity=1.0, refFuturesConId=2147483647, shareholder='Not an insider or substantial shareholder'),\n",
       " Order(permId=827631042, action='SELL', orderType='LMT', lmtPrice=17253.75, auxPrice=0.0, tif='GTC', ocaGroup='827631041', ocaType=3, displaySize=2147483647, rule80A='0', openClose='', volatilityType=0, deltaNeutralOrderType='None', referencePriceType=0, account='U10394496', clearingIntent='IB', cashQty=0.0, dontUseAutoPriceForHedge=True, autoCancelDate='20240930 17:00:00 Central Standard Time', filledQuantity=1.0, refFuturesConId=2147483647, shareholder='Not an insider or substantial shareholder', parentPermId=827631041),\n",
       " Order(permId=827631039, action='BUY', orderType='LMT', lmtPrice=17251.0, auxPrice=0.0, tif='GTC', ocaType=3, orderRef='ltrh87St5EBW', displaySize=2147483647, rule80A='0', openClose='', volatilityType=0, deltaNeutralOrderType='None', referencePriceType=0, account='U10394496', clearingIntent='IB', cashQty=0.0, dontUseAutoPriceForHedge=True, autoCancelDate='20240930 17:00:00 Central Standard Time', filledQuantity=1.0, refFuturesConId=2147483647, shareholder='Not an insider or substantial shareholder'),\n",
       " Order(permId=827631040, action='SELL', orderType='LMT', lmtPrice=17254.75, auxPrice=0.0, tif='GTC', ocaGroup='827631039', ocaType=3, displaySize=2147483647, rule80A='0', openClose='', volatilityType=0, deltaNeutralOrderType='None', referencePriceType=0, account='U10394496', clearingIntent='IB', cashQty=0.0, dontUseAutoPriceForHedge=True, autoCancelDate='20240930 17:00:00 Central Standard Time', filledQuantity=1.0, refFuturesConId=2147483647, shareholder='Not an insider or substantial shareholder', parentPermId=827631039),\n",
       " Order(permId=2056564475, action='BUY', orderType='LMT', lmtPrice=17240.75, auxPrice=0.0, tif='GTC', ocaType=3, orderRef='CVjblMQFj9aU', displaySize=2147483647, rule80A='0', openClose='', volatilityType=0, deltaNeutralOrderType='None', referencePriceType=0, account='U10394496', clearingIntent='IB', cashQty=0.0, dontUseAutoPriceForHedge=True, autoCancelDate='20240930 17:00:00 Central Standard Time', filledQuantity=1.0, refFuturesConId=2147483647, shareholder='Not an insider or substantial shareholder'),\n",
       " Order(permId=2056564476, action='SELL', orderType='LMT', lmtPrice=17243.25, auxPrice=0.0, tif='GTC', ocaGroup='2056564475', ocaType=3, displaySize=2147483647, rule80A='0', openClose='', volatilityType=0, deltaNeutralOrderType='None', referencePriceType=0, account='U10394496', clearingIntent='IB', cashQty=0.0, dontUseAutoPriceForHedge=True, autoCancelDate='20240930 17:00:00 Central Standard Time', filledQuantity=1.0, refFuturesConId=2147483647, shareholder='Not an insider or substantial shareholder', parentPermId=2056564475),\n",
       " Order(permId=2056564473, action='BUY', totalQuantity=1.0, orderType='LMT', lmtPrice=17216.0, auxPrice=0.0, tif='GTC', ocaType=3, orderRef='t3SDXSxC6V7C', displaySize=2147483647, rule80A='0', openClose='', volatilityType=0, deltaNeutralOrderType='None', referencePriceType=0, account='U10394496', clearingIntent='IB', cashQty=0.0, dontUseAutoPriceForHedge=True, autoCancelDate='20240930 17:00:00 Central Standard Time', filledQuantity=0.0, refFuturesConId=2147483647, shareholder='Not an insider or substantial shareholder'),\n",
       " Order(permId=2056564474, action='SELL', totalQuantity=1.0, orderType='LMT', lmtPrice=17218.5, auxPrice=0.0, tif='GTC', ocaGroup='2056564473', ocaType=3, displaySize=2147483647, rule80A='0', openClose='', volatilityType=0, deltaNeutralOrderType='None', referencePriceType=0, account='U10394496', clearingIntent='IB', cashQty=0.0, dontUseAutoPriceForHedge=True, autoCancelDate='20240930 17:00:00 Central Standard Time', filledQuantity=0.0, refFuturesConId=2147483647, shareholder='Not an insider or substantial shareholder', parentPermId=2056564473),\n",
       " Order(permId=2056564471, action='BUY', orderType='LMT', lmtPrice=17212.75, auxPrice=0.0, tif='GTC', ocaType=3, orderRef='iertEzkFwWTG', displaySize=2147483647, rule80A='0', openClose='', volatilityType=0, deltaNeutralOrderType='None', referencePriceType=0, account='U10394496', clearingIntent='IB', cashQty=0.0, dontUseAutoPriceForHedge=True, autoCancelDate='20240930 17:00:00 Central Standard Time', filledQuantity=1.0, refFuturesConId=2147483647, shareholder='Not an insider or substantial shareholder'),\n",
       " Order(permId=2056564472, action='SELL', orderType='LMT', lmtPrice=17215.25, auxPrice=0.0, tif='GTC', ocaGroup='2056564471', ocaType=3, displaySize=2147483647, rule80A='0', openClose='', volatilityType=0, deltaNeutralOrderType='None', referencePriceType=0, account='U10394496', clearingIntent='IB', cashQty=0.0, dontUseAutoPriceForHedge=True, autoCancelDate='20240930 17:00:00 Central Standard Time', filledQuantity=1.0, refFuturesConId=2147483647, shareholder='Not an insider or substantial shareholder', parentPermId=2056564471),\n",
       " Order(permId=1785592737, action='SELL', orderType='LMT', lmtPrice=17255.25, auxPrice=0.0, tif='GTC', ocaGroup='1785592736', ocaType=3, displaySize=2147483647, rule80A='0', openClose='', volatilityType=0, deltaNeutralOrderType='None', referencePriceType=0, account='U10394496', clearingIntent='IB', cashQty=0.0, dontUseAutoPriceForHedge=True, autoCancelDate='20240930 17:00:00 Central Standard Time', filledQuantity=1.0, refFuturesConId=2147483647, shareholder='Not an insider or substantial shareholder', parentPermId=1785592736)]"
      ]
     },
     "execution_count": 17,
     "metadata": {},
     "output_type": "execute_result"
    }
   ],
   "source": [
    "ib.orders()"
   ]
  },
  {
   "cell_type": "code",
   "execution_count": 6,
   "metadata": {},
   "outputs": [],
   "source": [
    "ib.disconnect()"
   ]
  }
 ],
 "metadata": {
  "kernelspec": {
   "display_name": "Python 3",
   "language": "python",
   "name": "python3"
  },
  "language_info": {
   "codemirror_mode": {
    "name": "ipython",
    "version": 3
   },
   "file_extension": ".py",
   "mimetype": "text/x-python",
   "name": "python",
   "nbconvert_exporter": "python",
   "pygments_lexer": "ipython3",
   "version": "3.12.2"
  }
 },
 "nbformat": 4,
 "nbformat_minor": 4
}
