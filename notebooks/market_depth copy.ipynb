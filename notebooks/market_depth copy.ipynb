{
 "cells": [
  {
   "cell_type": "markdown",
   "metadata": {},
   "source": [
    "Market depth (order book)\n",
    "=============="
   ]
  },
  {
   "cell_type": "code",
   "execution_count": 2,
   "metadata": {},
   "outputs": [],
   "source": [
    "from ib_async import *\n",
    "\n",
    "util.startLoop()\n",
    "\n",
    "ib = IB()\n",
    "ib.connect(\"127.0.0.1\", 4001, clientId=10)\n",
    "util.logToConsole()"
   ]
  },
  {
   "cell_type": "code",
   "execution_count": null,
   "metadata": {},
   "outputs": [
    {
     "data": {
      "text/html": [
       "<div>\n",
       "<style scoped>\n",
       "    .dataframe tbody tr th:only-of-type {\n",
       "        vertical-align: middle;\n",
       "    }\n",
       "\n",
       "    .dataframe tbody tr th {\n",
       "        vertical-align: top;\n",
       "    }\n",
       "\n",
       "    .dataframe thead th {\n",
       "        text-align: right;\n",
       "    }\n",
       "</style>\n",
       "<table border=\"1\" class=\"dataframe\">\n",
       "  <thead>\n",
       "    <tr style=\"text-align: right;\">\n",
       "      <th></th>\n",
       "      <th>bidSize</th>\n",
       "      <th>bidPrice</th>\n",
       "      <th>askPrice</th>\n",
       "      <th>askSize</th>\n",
       "    </tr>\n",
       "  </thead>\n",
       "  <tbody>\n",
       "    <tr>\n",
       "      <th>0</th>\n",
       "      <td>2.0</td>\n",
       "      <td>17909.75</td>\n",
       "      <td>17910.5</td>\n",
       "      <td>2.0</td>\n",
       "    </tr>\n",
       "    <tr>\n",
       "      <th>1</th>\n",
       "      <td>3.0</td>\n",
       "      <td>17909.5</td>\n",
       "      <td>17910.75</td>\n",
       "      <td>3.0</td>\n",
       "    </tr>\n",
       "    <tr>\n",
       "      <th>2</th>\n",
       "      <td>2.0</td>\n",
       "      <td>17909.25</td>\n",
       "      <td>17911.0</td>\n",
       "      <td>4.0</td>\n",
       "    </tr>\n",
       "    <tr>\n",
       "      <th>3</th>\n",
       "      <td>7.0</td>\n",
       "      <td>17909.0</td>\n",
       "      <td>17911.25</td>\n",
       "      <td>4.0</td>\n",
       "    </tr>\n",
       "    <tr>\n",
       "      <th>4</th>\n",
       "      <td>3.0</td>\n",
       "      <td>17908.75</td>\n",
       "      <td>17911.5</td>\n",
       "      <td>7.0</td>\n",
       "    </tr>\n",
       "  </tbody>\n",
       "</table>\n",
       "</div>"
      ],
      "text/plain": [
       "  bidSize  bidPrice  askPrice askSize\n",
       "0     2.0  17909.75   17910.5     2.0\n",
       "1     3.0   17909.5  17910.75     3.0\n",
       "2     2.0  17909.25   17911.0     4.0\n",
       "3     7.0   17909.0  17911.25     4.0\n",
       "4     3.0  17908.75   17911.5     7.0"
      ]
     },
     "metadata": {},
     "output_type": "display_data"
    },
    {
     "data": {
      "text/plain": [
       "True"
      ]
     },
     "execution_count": 81,
     "metadata": {},
     "output_type": "execute_result"
    }
   ],
   "source": [
    "from IPython.display import display, clear_output\n",
    "import pandas as pd\n",
    "\n",
    "df = pd.DataFrame(index=range(5), columns=\"bidSize bidPrice askPrice askSize\".split())\n",
    "\n",
    "# NQM2024 contract\n",
    "contract = Contract(conId=620730920)\n",
    "\n",
    "ib.qualifyContracts(contract)\n",
    "ticker = ib.reqMktDepth(contract)\n",
    "\n",
    "\n",
    "def onTickerUpdate(ticker):\n",
    "    bids = ticker.domBids\n",
    "    for i in range(5):\n",
    "        df.iloc[i, 0] = bids[i].size if i < len(bids) else 0\n",
    "        df.iloc[i, 1] = bids[i].price if i < len(bids) else 0\n",
    "    asks = ticker.domAsks\n",
    "    for i in range(5):\n",
    "        df.iloc[i, 2] = asks[i].price if i < len(asks) else 0\n",
    "        df.iloc[i, 3] = asks[i].size if i < len(asks) else 0\n",
    "    clear_output(wait=True)\n",
    "    display(df)\n",
    "\n",
    "\n",
    "ticker.updateEvent += onTickerUpdate\n",
    "\n",
    "IB.sleep(15)"
   ]
  },
  {
   "cell_type": "code",
   "execution_count": null,
   "metadata": {},
   "outputs": [
    {
     "data": {
      "text/html": [
       "<div>\n",
       "<style scoped>\n",
       "    .dataframe tbody tr th:only-of-type {\n",
       "        vertical-align: middle;\n",
       "    }\n",
       "\n",
       "    .dataframe tbody tr th {\n",
       "        vertical-align: top;\n",
       "    }\n",
       "\n",
       "    .dataframe thead th {\n",
       "        text-align: right;\n",
       "    }\n",
       "</style>\n",
       "<table border=\"1\" class=\"dataframe\">\n",
       "  <thead>\n",
       "    <tr style=\"text-align: right;\">\n",
       "      <th></th>\n",
       "      <th>bidSize</th>\n",
       "      <th>bidPrice</th>\n",
       "      <th>askPrice</th>\n",
       "      <th>askSize</th>\n",
       "    </tr>\n",
       "  </thead>\n",
       "  <tbody>\n",
       "    <tr>\n",
       "      <th>0</th>\n",
       "      <td>2.0</td>\n",
       "      <td>17909.75</td>\n",
       "      <td>17910.5</td>\n",
       "      <td>2.0</td>\n",
       "    </tr>\n",
       "    <tr>\n",
       "      <th>1</th>\n",
       "      <td>3.0</td>\n",
       "      <td>17909.5</td>\n",
       "      <td>17910.75</td>\n",
       "      <td>4.0</td>\n",
       "    </tr>\n",
       "    <tr>\n",
       "      <th>2</th>\n",
       "      <td>3.0</td>\n",
       "      <td>17909.25</td>\n",
       "      <td>17911.0</td>\n",
       "      <td>3.0</td>\n",
       "    </tr>\n",
       "    <tr>\n",
       "      <th>3</th>\n",
       "      <td>7.0</td>\n",
       "      <td>17909.0</td>\n",
       "      <td>17911.25</td>\n",
       "      <td>3.0</td>\n",
       "    </tr>\n",
       "    <tr>\n",
       "      <th>4</th>\n",
       "      <td>4.0</td>\n",
       "      <td>17908.75</td>\n",
       "      <td>17911.5</td>\n",
       "      <td>3.0</td>\n",
       "    </tr>\n",
       "  </tbody>\n",
       "</table>\n",
       "</div>"
      ],
      "text/plain": [
       "  bidSize  bidPrice  askPrice askSize\n",
       "0     2.0  17909.75   17910.5     2.0\n",
       "1     3.0   17909.5  17910.75     4.0\n",
       "2     3.0  17909.25   17911.0     3.0\n",
       "3     7.0   17909.0  17911.25     3.0\n",
       "4     4.0  17908.75   17911.5     3.0"
      ]
     },
     "metadata": {},
     "output_type": "display_data"
    }
   ],
   "source": [
    "ib.cancelMktDepth(contract)"
   ]
  },
  {
   "cell_type": "code",
   "execution_count": 13,
   "metadata": {},
   "outputs": [
    {
     "data": {
      "text/plain": [
       "[Position(account='U10394496', contract=Future(conId=620730920, symbol='NQ', lastTradeDateOrContractMonth='20240621', multiplier='20', currency='USD', localSymbol='NQM4', tradingClass='NQ'), position=-6.0, avgCost=357512.13917185),\n",
       " Position(account='U10394496', contract=Option(conId=669333316, symbol='NVDA', lastTradeDateOrContractMonth='20240719', strike=555.0, right='P', multiplier='100', currency='USD', localSymbol='NVDA  240719P00555000', tradingClass='NVDA'), position=1.0, avgCost=493.0494),\n",
       " Position(account='U10394496', contract=Option(conId=613471094, symbol='GOOGL', lastTradeDateOrContractMonth='20240920', strike=120.0, right='P', multiplier='100', currency='USD', localSymbol='GOOGL 240920P00120000', tradingClass='GOOGL'), position=10.0, avgCost=51.44685),\n",
       " Position(account='U10394496', contract=Option(conId=699532596, symbol='QQQ', lastTradeDateOrContractMonth='20240607', strike=400.0, right='P', multiplier='100', currency='USD', localSymbol='QQQ   240607P00400000', tradingClass='QQQ'), position=2.0, avgCost=207.69685)]"
      ]
     },
     "execution_count": 13,
     "metadata": {},
     "output_type": "execute_result"
    }
   ],
   "source": [
    "ib.positions(account=\"U10394496\")"
   ]
  },
  {
   "cell_type": "code",
   "execution_count": 45,
   "metadata": {
    "notebookRunGroups": {
     "groupValue": "1"
    }
   },
   "outputs": [],
   "source": [
    "def print_all_openorders(sym=\"NQ\"):\n",
    "    print(\"All Open Orders\")\n",
    "    print(f\"symbol\\tpermId\\t\\tstatus\\t\\taction\\tfilled\\tremaining\\tlmtPrice\")\n",
    "\n",
    "    trades = ib.reqAllOpenOrders()\n",
    "\n",
    "    trades.sort(key=lambda trade: trade.order.lmtPrice)\n",
    "\n",
    "    for trade in trades:\n",
    "        orderstatus = trade.orderStatus\n",
    "        order = trade.order\n",
    "\n",
    "        if trade.contract.symbol != sym:\n",
    "            continue\n",
    "\n",
    "        print(\n",
    "            f\"{trade.contract.symbol}\\t{order.permId}\\t{orderstatus.status}\\t{order.action}\\t{orderstatus.filled}\\t{orderstatus.remaining}\\t\\t{order.lmtPrice}\\t\"\n",
    "        )\n",
    "\n",
    "\n",
    "def print_trades(trades):\n",
    "    print(f\"symbol\\tpermId\\t\\tstatus\\t\\taction\\tfilled\\tremaining\\tlmtPrice\")\n",
    "\n",
    "    trades.sort(key=lambda trade: trade.order.lmtPrice)\n",
    "\n",
    "    for trade in trades:\n",
    "        orderstatus = trade.orderStatus\n",
    "        order = trade.order\n",
    "\n",
    "        print(\n",
    "            f\"{trade.contract.symbol}\\t{order.permId}\\t{orderstatus.status}\\t{order.action}\\t{orderstatus.filled}\\t{orderstatus.remaining}\\t\\t{order.lmtPrice}\\t\"\n",
    "        )\n",
    "\n",
    "\n",
    "def get_all_openorders(sym=\"NQ\"):\n",
    "    trades = ib.reqAllOpenOrders()\n",
    "    trades.sort(key=lambda trade: trade.order.lmtPrice)\n",
    "\n",
    "    trades = [trade for trade in trades if trade.contract.symbol == sym]\n",
    "    return trades\n",
    "\n",
    "\n",
    "# print_all_openorders()"
   ]
  },
  {
   "cell_type": "code",
   "execution_count": 31,
   "metadata": {},
   "outputs": [
    {
     "name": "stdout",
     "output_type": "stream",
     "text": [
      "symbol\tpermId\t\tstatus\t\taction\tfilled\tremaining\tlmtPrice\n",
      "NQ\t740241587\tSubmitted\tSELL\t0.0\t1.0\t\t17912.25\t\n"
     ]
    }
   ],
   "source": [
    "def print_order(o):\n",
    "    order = o.order\n",
    "    contract = o.contract\n",
    "    orderStatus = o.orderStatus\n",
    "\n",
    "    print(f\"symbol\\tpermId\\t\\tstatus\\t\\taction\\tfilled\\tremaining\\tlmtPrice\")\n",
    "\n",
    "    print(\n",
    "        f\"{contract.symbol}\\t{order.permId}\\t{orderStatus.status}\\t{order.action}\\t{orderStatus.filled}\\t{orderStatus.remaining}\\t\\t{order.lmtPrice}\\t\"\n",
    "    )\n",
    "\n",
    "\n",
    "print_order(takeprofit)"
   ]
  },
  {
   "cell_type": "code",
   "execution_count": 11,
   "metadata": {},
   "outputs": [
    {
     "name": "stdout",
     "output_type": "stream",
     "text": [
      "[Trade(contract=Future(conId=620730920, symbol='NQ', lastTradeDateOrContractMonth='20240621', right='?', multiplier='20', exchange='CME', currency='USD', localSymbol='NQM4', tradingClass='NQ'), order=Order(permId=740241587, action='SELL', totalQuantity=1.0, orderType='LMT', lmtPrice=17912.25, auxPrice=0.0, tif='GTC', ocaGroup='740241586', ocaType=3, parentId=2147483647, displaySize=2147483647, rule80A='0', openClose='', volatilityType=0, deltaNeutralOrderType='None', referencePriceType=0, account='U10394496', clearingIntent='IB', adjustedOrderType='None', cashQty=0.0, dontUseAutoPriceForHedge=True), orderStatus=OrderStatus(orderId=0, status='Submitted', filled=0.0, remaining=1.0, avgFillPrice=0.0, permId=740241587, parentId=2147483647, lastFillPrice=0.0, clientId=0, whyHeld='', mktCapPrice=0.0), fills=[], log=[TradeLogEntry(time=datetime.datetime(2024, 4, 29, 6, 40, 29, 121688, tzinfo=datetime.timezone.utc), status='Submitted', message='', errorCode=0)], advancedError='')]\n"
     ]
    }
   ],
   "source": [
    "openorders = get_all_openorders()\n",
    "print([o for o in openorders if o.order.permId == 740241587])"
   ]
  },
  {
   "cell_type": "code",
   "execution_count": 44,
   "metadata": {},
   "outputs": [
    {
     "name": "stdout",
     "output_type": "stream",
     "text": [
      "Open to Buy Order:\n",
      "None\n",
      "\n",
      "Take Profit Order:\n",
      "symbol\tpermId\t\tstatus\t\taction\tfilled\tremaining\tlmtPrice\n",
      "NQ\t740241587\tSubmitted\tSELL\t0.0\t1.0\t\t17912.25\t\n",
      "\n",
      "future.position -6.0 > -7 qty_target\n",
      "Take Profit Order exists...\n",
      "\n"
     ]
    }
   ],
   "source": [
    "# L1 = buy @ mid - 10 tickets , tp + 10 ticks\n",
    "\n",
    "qty_target = -7\n",
    "nq24 = Contract(conId=620730920)\n",
    "\n",
    "# get current position of contract nq24\n",
    "position = ib.positions(account=\"U10394496\")\n",
    "future = position[0]\n",
    "\n",
    "openorders = get_all_openorders(sym=\"NQ\")\n",
    "\n",
    "# seed parameters\n",
    "opentobuy = None\n",
    "takeprofit = [o for o in openorders if o.order.permId == 740241587][0]\n",
    "\n",
    "print(\"Open to Buy Order:\")\n",
    "print(opentobuy)\n",
    "print()\n",
    "print(\"Take Profit Order:\")\n",
    "print_order(takeprofit)\n",
    "print()\n",
    "\n",
    "if future.position == qty_target:\n",
    "    print(\"Position is at target quantity / {}, {}\".format(future.position, qty_target))\n",
    "    # check for initiation order (L1.buy)\n",
    "    if opentobuy is None:\n",
    "        print(\"Initiation Order does not exist\")\n",
    "        print()\n",
    "        # get current market price\n",
    "        \n",
    "        # place L1.buy\n",
    "    else:\n",
    "        print(\"Initiation Order exists...\")\n",
    "        print()\n",
    "\n",
    "if future.position > qty_target:\n",
    "    print(\"future.position {} > {} qty_target\".format(future.position, qty_target))\n",
    "    # check for take profit order (L1.sell)\n",
    "    if takeprofit is None:\n",
    "        print(\"Take Profit Order does not exist\")\n",
    "        print()\n",
    "        # place L1.sell\n",
    "    else:\n",
    "        print(\"Take Profit Order exists...\")\n",
    "        print()"
   ]
  },
  {
   "cell_type": "code",
   "execution_count": 46,
   "metadata": {},
   "outputs": [
    {
     "ename": "NameError",
     "evalue": "name 'ticker' is not defined",
     "output_type": "error",
     "traceback": [
      "\u001b[0;31m---------------------------------------------------------------------------\u001b[0m",
      "\u001b[0;31mNameError\u001b[0m                                 Traceback (most recent call last)",
      "Cell \u001b[0;32mIn[46], line 1\u001b[0m\n\u001b[0;32m----> 1\u001b[0m \u001b[43mticker\u001b[49m\n",
      "\u001b[0;31mNameError\u001b[0m: name 'ticker' is not defined"
     ]
    }
   ],
   "source": [
    "ticker"
   ]
  },
  {
   "cell_type": "code",
   "execution_count": 37,
   "metadata": {},
   "outputs": [
    {
     "name": "stdout",
     "output_type": "stream",
     "text": [
      "All Open Orders:\n",
      "\n",
      "symbol\tpermId\t\tstatus\t\taction\tfilled\tremaining\tlmtPrice\n",
      "NQ\t1528433802\tSubmitted\tBUY\t0.0\t3.0\t\t17526.0\t\n",
      "NQ\t1436152242\tSubmitted\tBUY\t0.0\t1.0\t\t17547.25\t\n",
      "NQ\t1786380178\tSubmitted\tBUY\t0.0\t1.0\t\t17623.25\t\n",
      "NQ\t1786380182\tSubmitted\tBUY\t0.0\t1.0\t\t17650.0\t\n",
      "NQ\t740241587\tSubmitted\tSELL\t0.0\t1.0\t\t17912.25\t\n",
      "NQ\t1056387955\tPreSubmitted\tSELL\t0.0\t2.0\t\t20880.0\t\n"
     ]
    }
   ],
   "source": [
    "def print_all_openorders(sym=\"NQ\"):\n",
    "    print(\"All Open Orders:\\n\")\n",
    "    print(f\"symbol\\tpermId\\t\\tstatus\\t\\taction\\tfilled\\tremaining\\tlmtPrice\")\n",
    "\n",
    "    trades = ib.reqAllOpenOrders()\n",
    "\n",
    "    # order every Trade object by its order.lmtPrice field\n",
    "    trades.sort(key=lambda trade: trade.order.lmtPrice)\n",
    "\n",
    "    for trade in trades:\n",
    "        orderstatus = trade.orderStatus\n",
    "        order = trade.order\n",
    "\n",
    "        if trade.contract.symbol != sym:\n",
    "            continue\n",
    "\n",
    "        print(\n",
    "            f\"{trade.contract.symbol}\\t{order.permId}\\t{orderstatus.status}\\t{order.action}\\t{orderstatus.filled}\\t{orderstatus.remaining}\\t\\t{order.lmtPrice}\\t\"\n",
    "        )\n",
    "\n",
    "\n",
    "def get_all_openorders(sym=\"NQ\"):\n",
    "    trades = ib.reqAllOpenOrders()\n",
    "    trades.sort(key=lambda trade: trade.order.lmtPrice)\n",
    "\n",
    "    # or return trades where contract.conId == 620730920\n",
    "    trades = [trade for trade in trades if trade.contract.symbol == sym]\n",
    "    return trades\n",
    "\n",
    "\n",
    "trades = get_all_openorders()\n",
    "\n",
    "print_all_openorders()"
   ]
  },
  {
   "cell_type": "code",
   "execution_count": 47,
   "metadata": {},
   "outputs": [
    {
     "name": "stdout",
     "output_type": "stream",
     "text": [
      "Trade(contract=Future(conId=620730920, symbol='NQ', lastTradeDateOrContractMonth='20240621', right='?', multiplier='20', exchange='CME', currency='USD', localSymbol='NQM4', tradingClass='NQ'), order=Order(permId=1528433802, action='BUY', totalQuantity=3.0, orderType='LMT', lmtPrice=17526.0, auxPrice=0.0, tif='GTC', ocaGroup='1528433801', ocaType=3, displaySize=2147483647, rule80A='0', openClose='', volatilityType=0, deltaNeutralOrderType='None', referencePriceType=0, account='U10394496', clearingIntent='IB', adjustedOrderType='None', cashQty=0.0, dontUseAutoPriceForHedge=True), orderStatus=OrderStatus(orderId=0, status='Submitted', filled=0.0, remaining=3.0, avgFillPrice=0.0, permId=1528433802, parentId=0, lastFillPrice=0.0, clientId=0, whyHeld='', mktCapPrice=0.0), fills=[], log=[TradeLogEntry(time=datetime.datetime(2024, 4, 29, 2, 30, 39, 407388, tzinfo=datetime.timezone.utc), status='Submitted', message='', errorCode=0)], advancedError='')\n",
      "Trade(contract=Future(conId=620730920, symbol='NQ', lastTradeDateOrContractMonth='20240621', right='?', multiplier='20', exchange='CME', currency='USD', localSymbol='NQM4', tradingClass='NQ'), order=Order(permId=1056387955, action='SELL', totalQuantity=2.0, orderType='LMT', lmtPrice=20880.0, auxPrice=0.0, tif='GTC', ocaGroup='1056387954', ocaType=3, displaySize=2147483647, rule80A='0', openClose='', volatilityType=0, deltaNeutralOrderType='None', referencePriceType=0, account='U10394496', clearingIntent='IB', adjustedOrderType='None', cashQty=0.0, dontUseAutoPriceForHedge=True), orderStatus=OrderStatus(orderId=0, status='PreSubmitted', filled=0.0, remaining=2.0, avgFillPrice=0.0, permId=1056387955, parentId=0, lastFillPrice=0.0, clientId=0, whyHeld='', mktCapPrice=0.0), fills=[], log=[TradeLogEntry(time=datetime.datetime(2024, 4, 29, 2, 30, 39, 415964, tzinfo=datetime.timezone.utc), status='PreSubmitted', message='', errorCode=0)], advancedError='')\n",
      "Trade(contract=Future(conId=620730920, symbol='NQ', lastTradeDateOrContractMonth='20240621', right='?', multiplier='20', exchange='CME', currency='USD', localSymbol='NQM4', tradingClass='NQ'), order=Order(permId=1436152242, action='BUY', totalQuantity=1.0, orderType='LMT', lmtPrice=17547.25, auxPrice=0.0, tif='GTC', ocaGroup='1436152241', ocaType=3, displaySize=2147483647, rule80A='0', openClose='', volatilityType=0, deltaNeutralOrderType='None', referencePriceType=0, account='U10394496', clearingIntent='IB', adjustedOrderType='None', cashQty=0.0, dontUseAutoPriceForHedge=True), orderStatus=OrderStatus(orderId=0, status='Submitted', filled=0.0, remaining=1.0, avgFillPrice=0.0, permId=1436152242, parentId=0, lastFillPrice=0.0, clientId=0, whyHeld='', mktCapPrice=0.0), fills=[], log=[TradeLogEntry(time=datetime.datetime(2024, 4, 29, 2, 30, 39, 419303, tzinfo=datetime.timezone.utc), status='Submitted', message='', errorCode=0)], advancedError='')\n",
      "Trade(contract=Future(conId=620730920, symbol='NQ', lastTradeDateOrContractMonth='20240621', right='?', multiplier='20', exchange='CME', currency='USD', localSymbol='NQM4', tradingClass='NQ'), order=Order(permId=1786380178, action='BUY', totalQuantity=1.0, orderType='LMT', lmtPrice=17623.25, auxPrice=0.0, tif='GTC', ocaGroup='1786380177', ocaType=3, displaySize=2147483647, rule80A='0', openClose='', volatilityType=0, deltaNeutralOrderType='None', referencePriceType=0, account='U10394496', clearingIntent='IB', adjustedOrderType='None', cashQty=0.0, dontUseAutoPriceForHedge=True), orderStatus=OrderStatus(orderId=0, status='Submitted', filled=0.0, remaining=1.0, avgFillPrice=0.0, permId=1786380178, parentId=0, lastFillPrice=0.0, clientId=0, whyHeld='', mktCapPrice=0.0), fills=[], log=[TradeLogEntry(time=datetime.datetime(2024, 4, 29, 2, 30, 39, 421015, tzinfo=datetime.timezone.utc), status='Submitted', message='', errorCode=0)], advancedError='')\n",
      "Trade(contract=Future(conId=620730920, symbol='NQ', lastTradeDateOrContractMonth='20240621', right='?', multiplier='20', exchange='CME', currency='USD', localSymbol='NQM4', tradingClass='NQ'), order=Order(permId=1574052460, action='SELL', totalQuantity=1.0, orderType='LMT', lmtPrice=17910.5, auxPrice=0.0, tif='GTC', ocaGroup='1574052459', ocaType=3, parentId=2147483647, displaySize=2147483647, rule80A='0', openClose='', volatilityType=0, deltaNeutralOrderType='None', referencePriceType=0, account='U10394496', clearingIntent='IB', adjustedOrderType='None', cashQty=0.0, dontUseAutoPriceForHedge=True), orderStatus=OrderStatus(orderId=0, status='Submitted', filled=0.0, remaining=1.0, avgFillPrice=0.0, permId=1574052460, parentId=2147483647, lastFillPrice=0.0, clientId=0, whyHeld='', mktCapPrice=0.0), fills=[], log=[TradeLogEntry(time=datetime.datetime(2024, 4, 29, 2, 30, 39, 422433, tzinfo=datetime.timezone.utc), status='Submitted', message='', errorCode=0)], advancedError='')\n",
      "Trade(contract=Future(conId=620730920, symbol='NQ', lastTradeDateOrContractMonth='20240621', right='?', multiplier='20', exchange='CME', currency='USD', localSymbol='NQM4', tradingClass='NQ'), order=Order(permId=1786380182, action='BUY', totalQuantity=1.0, orderType='LMT', lmtPrice=17650.0, auxPrice=0.0, tif='GTC', ocaGroup='1786380181', ocaType=3, displaySize=2147483647, rule80A='0', openClose='', volatilityType=0, deltaNeutralOrderType='None', referencePriceType=0, account='U10394496', clearingIntent='IB', adjustedOrderType='None', cashQty=0.0, dontUseAutoPriceForHedge=True), orderStatus=OrderStatus(orderId=0, status='Submitted', filled=0.0, remaining=1.0, avgFillPrice=0.0, permId=1786380182, parentId=0, lastFillPrice=0.0, clientId=0, whyHeld='', mktCapPrice=0.0), fills=[], log=[TradeLogEntry(time=datetime.datetime(2024, 4, 29, 2, 30, 39, 422433, tzinfo=datetime.timezone.utc), status='Submitted', message='', errorCode=0)], advancedError='')\n"
     ]
    }
   ],
   "source": [
    "openOrders = ib.reqAllOpenOrders()\n",
    "for order in openOrders:\n",
    "    if order.contract.conId == 620730920:\n",
    "        print(order)\n",
    "\n",
    "# print(openOrders)"
   ]
  },
  {
   "cell_type": "code",
   "execution_count": 35,
   "metadata": {},
   "outputs": [
    {
     "name": "stdout",
     "output_type": "stream",
     "text": [
      "permId\t\taction\t\ttotalQuantity\tfilledQuantity\t\tlmtPrice\n",
      "986847725\tBUY\t\t1.0\t\t0.0\t\t\t17875.0\n",
      "986847726\tSELL\t\t1.0\t\t0.0\t\t\t17877.5\n",
      "986847719\tBUY\t\t1.0\t\t0.0\t\t\t17862.25\n",
      "986847720\tSELL\t\t1.0\t\t0.0\t\t\t17865.75\n",
      "986847669\tBUY\t\t1.0\t\t0.0\t\t\t17855.0\n",
      "986847670\tSELL\t\t1.0\t\t0.0\t\t\t17857.5\n"
     ]
    },
    {
     "data": {
      "text/plain": [
       "[None, None, None, None, None, None]"
      ]
     },
     "execution_count": 35,
     "metadata": {},
     "output_type": "execute_result"
    }
   ],
   "source": [
    "# canceled orders\n",
    "print(f\"permId\\t\\taction\\t\\ttotalQuantity\\tfilledQuantity\\t\\tlmtPrice\")\n",
    "\n",
    "closedOrders = ib.orders()\n",
    "[\n",
    "    print(\n",
    "        f\"{order.permId}\\t{order.action}\\t\\t{order.totalQuantity}\\t\\t{order.filledQuantity}\\t\\t\\t{order.lmtPrice}\"\n",
    "    )\n",
    "    for order in closedOrders\n",
    "    if order.filledQuantity == 0\n",
    "]"
   ]
  },
  {
   "cell_type": "code",
   "execution_count": 36,
   "metadata": {},
   "outputs": [
    {
     "ename": "KeyboardInterrupt",
     "evalue": "",
     "output_type": "error",
     "traceback": [
      "\u001b[0;31m---------------------------------------------------------------------------\u001b[0m",
      "\u001b[0;31mKeyboardInterrupt\u001b[0m                         Traceback (most recent call last)",
      "Cell \u001b[0;32mIn[36], line 1\u001b[0m\n\u001b[0;32m----> 1\u001b[0m \u001b[43mib\u001b[49m\u001b[38;5;241;43m.\u001b[39;49m\u001b[43mreqOpenOrders\u001b[49m\u001b[43m(\u001b[49m\u001b[43m)\u001b[49m\n",
      "File \u001b[0;32m~/GitHub/ib_async/.venv/lib/python3.12/site-packages/ib_async/ib.py:893\u001b[0m, in \u001b[0;36mIB.reqOpenOrders\u001b[0;34m(self)\u001b[0m\n\u001b[1;32m    882\u001b[0m \u001b[38;5;28;01mdef\u001b[39;00m \u001b[38;5;21mreqOpenOrders\u001b[39m(\u001b[38;5;28mself\u001b[39m) \u001b[38;5;241m-\u001b[39m\u001b[38;5;241m>\u001b[39m List[Trade]:\n\u001b[1;32m    883\u001b[0m \u001b[38;5;250m    \u001b[39m\u001b[38;5;124;03m\"\"\"\u001b[39;00m\n\u001b[1;32m    884\u001b[0m \u001b[38;5;124;03m    Request and return a list of open orders.\u001b[39;00m\n\u001b[1;32m    885\u001b[0m \n\u001b[0;32m   (...)\u001b[0m\n\u001b[1;32m    891\u001b[0m \u001b[38;5;124;03m    This method is blocking.\u001b[39;00m\n\u001b[1;32m    892\u001b[0m \u001b[38;5;124;03m    \"\"\"\u001b[39;00m\n\u001b[0;32m--> 893\u001b[0m     \u001b[38;5;28;01mreturn\u001b[39;00m \u001b[38;5;28;43mself\u001b[39;49m\u001b[38;5;241;43m.\u001b[39;49m\u001b[43m_run\u001b[49m\u001b[43m(\u001b[49m\u001b[38;5;28;43mself\u001b[39;49m\u001b[38;5;241;43m.\u001b[39;49m\u001b[43mreqOpenOrdersAsync\u001b[49m\u001b[43m(\u001b[49m\u001b[43m)\u001b[49m\u001b[43m)\u001b[49m\n",
      "File \u001b[0;32m~/GitHub/ib_async/.venv/lib/python3.12/site-packages/ib_async/ib.py:381\u001b[0m, in \u001b[0;36mIB._run\u001b[0;34m(self, *awaitables)\u001b[0m\n\u001b[1;32m    380\u001b[0m \u001b[38;5;28;01mdef\u001b[39;00m \u001b[38;5;21m_run\u001b[39m(\u001b[38;5;28mself\u001b[39m, \u001b[38;5;241m*\u001b[39mawaitables: Awaitable):\n\u001b[0;32m--> 381\u001b[0m     \u001b[38;5;28;01mreturn\u001b[39;00m \u001b[43mutil\u001b[49m\u001b[38;5;241;43m.\u001b[39;49m\u001b[43mrun\u001b[49m\u001b[43m(\u001b[49m\u001b[38;5;241;43m*\u001b[39;49m\u001b[43mawaitables\u001b[49m\u001b[43m,\u001b[49m\u001b[43m \u001b[49m\u001b[43mtimeout\u001b[49m\u001b[38;5;241;43m=\u001b[39;49m\u001b[38;5;28;43mself\u001b[39;49m\u001b[38;5;241;43m.\u001b[39;49m\u001b[43mRequestTimeout\u001b[49m\u001b[43m)\u001b[49m\n",
      "File \u001b[0;32m~/GitHub/ib_async/.venv/lib/python3.12/site-packages/ib_async/util.py:357\u001b[0m, in \u001b[0;36mrun\u001b[0;34m(timeout, *awaitables)\u001b[0m\n\u001b[1;32m    355\u001b[0m globalErrorEvent\u001b[38;5;241m.\u001b[39mconnect(onError)\n\u001b[1;32m    356\u001b[0m \u001b[38;5;28;01mtry\u001b[39;00m:\n\u001b[0;32m--> 357\u001b[0m     result \u001b[38;5;241m=\u001b[39m \u001b[43mloop\u001b[49m\u001b[38;5;241;43m.\u001b[39;49m\u001b[43mrun_until_complete\u001b[49m\u001b[43m(\u001b[49m\u001b[43mtask\u001b[49m\u001b[43m)\u001b[49m\n\u001b[1;32m    358\u001b[0m \u001b[38;5;28;01mexcept\u001b[39;00m asyncio\u001b[38;5;241m.\u001b[39mCancelledError \u001b[38;5;28;01mas\u001b[39;00m e:\n\u001b[1;32m    359\u001b[0m     \u001b[38;5;28;01mraise\u001b[39;00m globalErrorEvent\u001b[38;5;241m.\u001b[39mvalue() \u001b[38;5;129;01mor\u001b[39;00m e\n",
      "File \u001b[0;32m~/GitHub/ib_async/.venv/lib/python3.12/site-packages/nest_asyncio.py:92\u001b[0m, in \u001b[0;36m_patch_loop.<locals>.run_until_complete\u001b[0;34m(self, future)\u001b[0m\n\u001b[1;32m     90\u001b[0m     f\u001b[38;5;241m.\u001b[39m_log_destroy_pending \u001b[38;5;241m=\u001b[39m \u001b[38;5;28;01mFalse\u001b[39;00m\n\u001b[1;32m     91\u001b[0m \u001b[38;5;28;01mwhile\u001b[39;00m \u001b[38;5;129;01mnot\u001b[39;00m f\u001b[38;5;241m.\u001b[39mdone():\n\u001b[0;32m---> 92\u001b[0m     \u001b[38;5;28;43mself\u001b[39;49m\u001b[38;5;241;43m.\u001b[39;49m\u001b[43m_run_once\u001b[49m\u001b[43m(\u001b[49m\u001b[43m)\u001b[49m\n\u001b[1;32m     93\u001b[0m     \u001b[38;5;28;01mif\u001b[39;00m \u001b[38;5;28mself\u001b[39m\u001b[38;5;241m.\u001b[39m_stopping:\n\u001b[1;32m     94\u001b[0m         \u001b[38;5;28;01mbreak\u001b[39;00m\n",
      "File \u001b[0;32m~/GitHub/ib_async/.venv/lib/python3.12/site-packages/nest_asyncio.py:115\u001b[0m, in \u001b[0;36m_patch_loop.<locals>._run_once\u001b[0;34m(self)\u001b[0m\n\u001b[1;32m    108\u001b[0m     heappop(scheduled)\n\u001b[1;32m    110\u001b[0m timeout \u001b[38;5;241m=\u001b[39m (\n\u001b[1;32m    111\u001b[0m     \u001b[38;5;241m0\u001b[39m \u001b[38;5;28;01mif\u001b[39;00m ready \u001b[38;5;129;01mor\u001b[39;00m \u001b[38;5;28mself\u001b[39m\u001b[38;5;241m.\u001b[39m_stopping\n\u001b[1;32m    112\u001b[0m     \u001b[38;5;28;01melse\u001b[39;00m \u001b[38;5;28mmin\u001b[39m(\u001b[38;5;28mmax\u001b[39m(\n\u001b[1;32m    113\u001b[0m         scheduled[\u001b[38;5;241m0\u001b[39m]\u001b[38;5;241m.\u001b[39m_when \u001b[38;5;241m-\u001b[39m \u001b[38;5;28mself\u001b[39m\u001b[38;5;241m.\u001b[39mtime(), \u001b[38;5;241m0\u001b[39m), \u001b[38;5;241m86400\u001b[39m) \u001b[38;5;28;01mif\u001b[39;00m scheduled\n\u001b[1;32m    114\u001b[0m     \u001b[38;5;28;01melse\u001b[39;00m \u001b[38;5;28;01mNone\u001b[39;00m)\n\u001b[0;32m--> 115\u001b[0m event_list \u001b[38;5;241m=\u001b[39m \u001b[38;5;28;43mself\u001b[39;49m\u001b[38;5;241;43m.\u001b[39;49m\u001b[43m_selector\u001b[49m\u001b[38;5;241;43m.\u001b[39;49m\u001b[43mselect\u001b[49m\u001b[43m(\u001b[49m\u001b[43mtimeout\u001b[49m\u001b[43m)\u001b[49m\n\u001b[1;32m    116\u001b[0m \u001b[38;5;28mself\u001b[39m\u001b[38;5;241m.\u001b[39m_process_events(event_list)\n\u001b[1;32m    118\u001b[0m end_time \u001b[38;5;241m=\u001b[39m \u001b[38;5;28mself\u001b[39m\u001b[38;5;241m.\u001b[39mtime() \u001b[38;5;241m+\u001b[39m \u001b[38;5;28mself\u001b[39m\u001b[38;5;241m.\u001b[39m_clock_resolution\n",
      "File \u001b[0;32m/opt/homebrew/Cellar/python@3.12/3.12.2_1/Frameworks/Python.framework/Versions/3.12/lib/python3.12/selectors.py:566\u001b[0m, in \u001b[0;36mKqueueSelector.select\u001b[0;34m(self, timeout)\u001b[0m\n\u001b[1;32m    564\u001b[0m ready \u001b[38;5;241m=\u001b[39m []\n\u001b[1;32m    565\u001b[0m \u001b[38;5;28;01mtry\u001b[39;00m:\n\u001b[0;32m--> 566\u001b[0m     kev_list \u001b[38;5;241m=\u001b[39m \u001b[38;5;28;43mself\u001b[39;49m\u001b[38;5;241;43m.\u001b[39;49m\u001b[43m_selector\u001b[49m\u001b[38;5;241;43m.\u001b[39;49m\u001b[43mcontrol\u001b[49m\u001b[43m(\u001b[49m\u001b[38;5;28;43;01mNone\u001b[39;49;00m\u001b[43m,\u001b[49m\u001b[43m \u001b[49m\u001b[43mmax_ev\u001b[49m\u001b[43m,\u001b[49m\u001b[43m \u001b[49m\u001b[43mtimeout\u001b[49m\u001b[43m)\u001b[49m\n\u001b[1;32m    567\u001b[0m \u001b[38;5;28;01mexcept\u001b[39;00m \u001b[38;5;167;01mInterruptedError\u001b[39;00m:\n\u001b[1;32m    568\u001b[0m     \u001b[38;5;28;01mreturn\u001b[39;00m ready\n",
      "\u001b[0;31mKeyboardInterrupt\u001b[0m: "
     ]
    }
   ],
   "source": [
    "ib.reqOpenOrders()\n",
    "ib.sleep(15)"
   ]
  },
  {
   "cell_type": "code",
   "execution_count": null,
   "metadata": {},
   "outputs": [],
   "source": []
  },
  {
   "cell_type": "code",
   "execution_count": 6,
   "metadata": {},
   "outputs": [],
   "source": [
    "ib.disconnect()"
   ]
  }
 ],
 "metadata": {
  "kernelspec": {
   "display_name": "Python 3",
   "language": "python",
   "name": "python3"
  },
  "language_info": {
   "codemirror_mode": {
    "name": "ipython",
    "version": 3
   },
   "file_extension": ".py",
   "mimetype": "text/x-python",
   "name": "python",
   "nbconvert_exporter": "python",
   "pygments_lexer": "ipython3",
   "version": "3.12.2"
  }
 },
 "nbformat": 4,
 "nbformat_minor": 4
}
