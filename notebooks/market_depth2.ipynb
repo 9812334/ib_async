{
 "cells": [
  {
   "cell_type": "markdown",
   "metadata": {},
   "source": [
    "# Market depth (order book)\n"
   ]
  },
  {
   "cell_type": "code",
   "execution_count": null,
   "metadata": {},
   "outputs": [],
   "source": [
    "from ib_async import *\n",
    "\n",
    "util.startLoop()\n",
    "\n",
    "ib = IB()\n",
    "ib.connect(\"127.0.0.1\", 4001, clientId=10)\n",
    "# util.logToConsole()"
   ]
  },
  {
   "cell_type": "code",
   "execution_count": null,
   "metadata": {},
   "outputs": [],
   "source": [
    "from IPython.display import display, clear_output\n",
    "import pandas as pd\n",
    "\n",
    "df = pd.DataFrame(index=range(5), columns=\"bidSize bidPrice askPrice askSize\".split())\n",
    "\n",
    "# NQM2024 contract\n",
    "contract = Contract(conId=620730920)\n",
    "ib.qualifyContracts(contract)\n",
    "\n",
    "ticker = ib.reqMktDepth(contract)\n",
    "\n",
    "\n",
    "def onTickerUpdate(ticker):\n",
    "    bids = ticker.domBids\n",
    "    for i in range(5):\n",
    "        df.iloc[i, 0] = bids[i].size if i < len(bids) else 0\n",
    "        df.iloc[i, 1] = bids[i].price if i < len(bids) else 0\n",
    "    asks = ticker.domAsks\n",
    "    for i in range(5):\n",
    "        df.iloc[i, 2] = asks[i].price if i < len(asks) else 0\n",
    "        df.iloc[i, 3] = asks[i].size if i < len(asks) else 0\n",
    "    clear_output(wait=True)\n",
    "    display(df)\n",
    "\n",
    "\n",
    "ticker.updateEvent += onTickerUpdate\n",
    "\n",
    "IB.sleep(15)"
   ]
  },
  {
   "cell_type": "code",
   "execution_count": null,
   "metadata": {},
   "outputs": [],
   "source": [
    "ib.cancelMktDepth(contract)"
   ]
  },
  {
   "cell_type": "code",
   "execution_count": null,
   "metadata": {},
   "outputs": [],
   "source": [
    "ib.positions(account=\"U10394496\")"
   ]
  },
  {
   "cell_type": "code",
   "execution_count": null,
   "metadata": {
    "notebookRunGroups": {
     "groupValue": "1"
    }
   },
   "outputs": [],
   "source": [
    "def print_all_openorders(sym=\"NQ\"):\n",
    "    print(\"All Open Orders\")\n",
    "    print(f\"symbol\\tpermId\\t\\tstatus\\t\\taction\\tfilled\\tremaining\\tlmtPrice\")\n",
    "\n",
    "    trades = ib.reqAllOpenOrders()\n",
    "\n",
    "    trades.sort(key=lambda trade: trade.order.lmtPrice)\n",
    "\n",
    "    for trade in trades:\n",
    "        orderstatus = trade.orderStatus\n",
    "        order = trade.order\n",
    "\n",
    "        if trade.contract.symbol != sym:\n",
    "            continue\n",
    "\n",
    "        print(\n",
    "            f\"{trade.contract.symbol}\\t{order.permId}\\t{orderstatus.status}\\t{order.action}\\t{orderstatus.filled}\\t{orderstatus.remaining}\\t\\t{order.lmtPrice}\\t\"\n",
    "        )\n",
    "\n",
    "\n",
    "def print_trades(trades):\n",
    "    print(f\"symbol\\tpermId\\t\\tstatus\\t\\taction\\tfilled\\tremaining\\tlmtPrice\")\n",
    "\n",
    "    trades.sort(key=lambda trade: trade.order.lmtPrice)\n",
    "\n",
    "    for trade in trades:\n",
    "        orderstatus = trade.orderStatus\n",
    "        order = trade.order\n",
    "\n",
    "        print(\n",
    "            f\"{trade.contract.symbol}\\t{order.permId}\\t{orderstatus.status}\\t{order.action}\\t{orderstatus.filled}\\t{orderstatus.remaining}\\t\\t{order.lmtPrice}\\t\"\n",
    "        )\n",
    "\n",
    "\n",
    "def get_all_openorders(sym=\"NQ\"):\n",
    "    trades = ib.reqAllOpenOrders()\n",
    "    trades.sort(key=lambda trade: trade.order.lmtPrice)\n",
    "\n",
    "    trades = [trade for trade in trades if trade.contract.symbol == sym]\n",
    "    return trades\n",
    "\n",
    "\n",
    "# print_all_openorders()\n",
    "\n",
    "\n",
    "def print_order(o):\n",
    "    if o is None:\n",
    "        print(o)\n",
    "        return\n",
    "\n",
    "    order = o.order\n",
    "    contract = o.contract\n",
    "    orderStatus = o.orderStatus\n",
    "\n",
    "    print(f\"symbol\\tpermId\\t\\tstatus\\t\\taction\\tfilled\\tremaining\\tlmtPrice\")\n",
    "\n",
    "    print(\n",
    "        f\"{contract.symbol}\\t{order.permId}\\t{orderStatus.status}\\t{order.action}\\t{orderStatus.filled}\\t{orderStatus.remaining}\\t\\t{order.lmtPrice}\\t\"\n",
    "    )\n",
    "\n",
    "\n",
    "# print_order(takeprofit)"
   ]
  },
  {
   "cell_type": "code",
   "execution_count": null,
   "metadata": {},
   "outputs": [],
   "source": [
    "openorders = get_all_openorders()\n",
    "print([o for o in openorders if o.order.permId == 740241587])"
   ]
  },
  {
   "cell_type": "code",
   "execution_count": null,
   "metadata": {},
   "outputs": [],
   "source": [
    "# initialize seed parameters at beginning only once\n",
    "opentobuy = None\n",
    "\n",
    "\n",
    "takeprofit = [o for o in openorders if o.order.permId == 740241587]\n"
   ]
  },
  {
   "cell_type": "code",
   "execution_count": 196,
   "metadata": {},
   "outputs": [
    {
     "name": "stdout",
     "output_type": "stream",
     "text": [
      "Open to Buy Order:\n",
      "TradeLogEntry(time=datetime.datetime(2024, 4, 29, 8, 30, 40, 406788, tzinfo=datetime.timezone.utc), status='Filled', message='', errorCode=0)\n",
      "\n",
      "Take Profit Order:\n",
      "LimitOrder(action='SELL', totalQuantity=1, lmtPrice=17905.75, account='U10394496')\n",
      "\n",
      "Ask Price 17895.25\n",
      "Bid Price 17894.5\n",
      "\n",
      "Future.position -6.0 > -7 qty_target\n",
      "\n",
      "Take Profit Order exists...\n",
      "\n",
      "LimitOrder(action='SELL', totalQuantity=1, lmtPrice=17905.75, account='U10394496')\n",
      "\n",
      "Symbol NQ Position -6.0 avgCost 17892.076428275\n",
      "\n",
      "RealizedPNL -3175.17 UnrealizedPNL -110.83 MarketValue -2.14716mm\n"
     ]
    }
   ],
   "source": [
    "# L1 = buy @ mid - 10 tickets , tp + 10 ticks\n",
    "\n",
    "# NQM2024 contract\n",
    "contract = Contract(conId=620730920)\n",
    "ib.qualifyContracts(contract)\n",
    "\n",
    "\n",
    "qty_target = -7\n",
    "\n",
    "# get current position of contract nq24\n",
    "position = ib.positions(account=\"U10394496\")\n",
    "future = position[0]\n",
    "\n",
    "openorders = get_all_openorders(sym=\"NQ\")\n",
    "\n",
    "print(\"Open to Buy Order:\")\n",
    "print(opentobuy.log[-1])\n",
    "print()\n",
    "print(\"Take Profit Order:\")\n",
    "print(takeprofit)\n",
    "print()\n",
    "print(f\"Ask Price {ticker.domAsks[0].price}\")\n",
    "print(f\"Bid Price {ticker.domBids[0].price}\")\n",
    "print()\n",
    "\n",
    "if future.position == qty_target:\n",
    "    print(\"Position is at target quantity / {}, {}\".format(future.position, qty_target))\n",
    "    # check for initiation order (L1.buy)\n",
    "    if opentobuy is None:\n",
    "        print(\"Initiation Order does not exist\")\n",
    "        print()\n",
    "\n",
    "        print(\"Placing L1.buy\")\n",
    "        action = \"BUY\"\n",
    "        totalQuantity = 1\n",
    "        opentobuy_lmtPrice = ticker.domBids[0].price\n",
    "        lmtPrice = opentobuy_lmtPrice\n",
    "        print(\"Setting open to buy order:\")\n",
    "        print(f\"{action}, totalQuantity {totalQuantity}, lmtPrice {lmtPrice}\")\n",
    "        print(\"Setting takeprofit -> None\")\n",
    "        print()\n",
    "\n",
    "        limitbuy = LimitOrder(\n",
    "            action=action,\n",
    "            totalQuantity=totalQuantity,\n",
    "            lmtPrice=lmtPrice,\n",
    "            account=\"U10394496\",\n",
    "        )\n",
    "        # opentobuy = ib.placeOrder(contract, limitbuy)\n",
    "        # ib.sleep(1)\n",
    "    else:\n",
    "        print(\"Initiation Order exists...\")\n",
    "\n",
    "    print(opentobuy)\n",
    "    print()\n",
    "\n",
    "if future.position > qty_target:\n",
    "    print(\"Future.position {} > {} qty_target\".format(future.position, qty_target))\n",
    "    print()\n",
    "    # check for take profit order (L1.sell)\n",
    "    if takeprofit is None:\n",
    "        print(\"TP Order does not exist\")\n",
    "        print(\"Placing TP Order\")\n",
    "        print()\n",
    "\n",
    "        # place L1.sell\n",
    "        action = \"SELL\"\n",
    "        totalQuantity = 1\n",
    "        lmtPrice = opentobuy.orderStatus.avgFillPrice + 10 * 0.25\n",
    "        print(f\"{action}, totalQuantity {totalQuantity}, lmtPrice {lmtPrice}\")\n",
    "        limitsell = LimitOrder(\n",
    "            action=action,\n",
    "            totalQuantity=totalQuantity,\n",
    "            lmtPrice=lmtPrice,\n",
    "            account=\"U10394496\",\n",
    "        )\n",
    "\n",
    "        # takeprofit = ib.placeOrder(contract, limitsell)\n",
    "        # ib.sleep(1)\n",
    "    else:\n",
    "        print(\"Take Profit Order exists...\")\n",
    "        print()\n",
    "\n",
    "    print(takeprofit)\n",
    "    print()\n",
    "\n",
    "nq_position = [\n",
    "    pos for pos in ib.positions(account=\"U10394496\") if pos.contract.symbol == \"NQ\"\n",
    "][0]\n",
    "print(\n",
    "    f\"Symbol {nq_position.contract.symbol} Position {nq_position.position} avgCost {nq_position.avgCost/20}\"\n",
    ")\n",
    "print()\n",
    "futures_port = [p for p in ib.portfolio() if p.contract.symbol == \"NQ\"][0]\n",
    "print(\n",
    "    f\"RealizedPNL {futures_port.realizedPNL} UnrealizedPNL {futures_port.unrealizedPNL} MarketValue {futures_port.marketValue/1e6}mm\"\n",
    ")"
   ]
  },
  {
   "cell_type": "code",
   "execution_count": 195,
   "metadata": {},
   "outputs": [
    {
     "name": "stdout",
     "output_type": "stream",
     "text": [
      "LimitOrder(action='SELL', totalQuantity=1, lmtPrice=17905.75, account='U10394496')\n"
     ]
    }
   ],
   "source": [
    "print(takeprofit)"
   ]
  },
  {
   "cell_type": "code",
   "execution_count": null,
   "metadata": {},
   "outputs": [],
   "source": [
    "# opentobuy = ib.placeOrder(contract, opentobuy)\n",
    "ib.sleep(1)\n",
    "opentobuy.log"
   ]
  },
  {
   "cell_type": "code",
   "execution_count": null,
   "metadata": {},
   "outputs": [],
   "source": [
    "print(opentobuy.orderStatus.status)"
   ]
  },
  {
   "cell_type": "code",
   "execution_count": 186,
   "metadata": {},
   "outputs": [
    {
     "name": "stdout",
     "output_type": "stream",
     "text": [
      "All Open Orders:\n",
      "\n",
      "symbol\tpermId\t\tstatus\t\taction\tfilled\tremaining\tlmtPrice\n",
      "NQ\t1528433802\tSubmitted\tBUY\t0.0\t3.0\t\t17526.0\t\n",
      "NQ\t1436152242\tSubmitted\tBUY\t0.0\t1.0\t\t17547.25\t\n",
      "NQ\t1786380178\tSubmitted\tBUY\t0.0\t1.0\t\t17623.25\t\n",
      "NQ\t1786380182\tSubmitted\tBUY\t0.0\t1.0\t\t17650.0\t\n",
      "NQ\t1056387955\tPreSubmitted\tSELL\t0.0\t2.0\t\t20880.0\t\n"
     ]
    }
   ],
   "source": [
    "def print_all_openorders(sym=\"NQ\"):\n",
    "    print(\"All Open Orders:\\n\")\n",
    "    print(f\"symbol\\tpermId\\t\\tstatus\\t\\taction\\tfilled\\tremaining\\tlmtPrice\")\n",
    "\n",
    "    trades = ib.reqAllOpenOrders()\n",
    "\n",
    "    # order every Trade object by its order.lmtPrice field\n",
    "    trades.sort(key=lambda trade: trade.order.lmtPrice)\n",
    "\n",
    "    for trade in trades:\n",
    "        orderstatus = trade.orderStatus\n",
    "        order = trade.order\n",
    "\n",
    "        if trade.contract.symbol != sym:\n",
    "            continue\n",
    "\n",
    "        print(\n",
    "            f\"{trade.contract.symbol}\\t{order.permId}\\t{orderstatus.status}\\t{order.action}\\t{orderstatus.filled}\\t{orderstatus.remaining}\\t\\t{order.lmtPrice}\\t\"\n",
    "        )\n",
    "\n",
    "\n",
    "def get_all_openorders(sym=\"NQ\"):\n",
    "    trades = ib.reqAllOpenOrders()\n",
    "    trades.sort(key=lambda trade: trade.order.lmtPrice)\n",
    "\n",
    "    # or return trades where contract.conId == 620730920\n",
    "    trades = [trade for trade in trades if trade.contract.symbol == sym]\n",
    "    return trades\n",
    "\n",
    "\n",
    "trades = get_all_openorders()\n",
    "\n",
    "print_all_openorders()"
   ]
  },
  {
   "cell_type": "code",
   "execution_count": null,
   "metadata": {},
   "outputs": [],
   "source": [
    "# canceled orders\n",
    "print(f\"permId\\t\\taction\\t\\ttotalQuantity\\tfilledQuantity\\t\\tlmtPrice\")\n",
    "\n",
    "closedOrders = ib.orders()\n",
    "[\n",
    "    print(\n",
    "        f\"{order.permId}\\t{order.action}\\t\\t{order.totalQuantity}\\t\\t{order.filledQuantity}\\t\\t\\t{order.lmtPrice}\"\n",
    "    )\n",
    "    for order in closedOrders\n",
    "    if order.filledQuantity == 0\n",
    "]"
   ]
  },
  {
   "cell_type": "code",
   "execution_count": null,
   "metadata": {},
   "outputs": [],
   "source": [
    "ib.disconnect()"
   ]
  }
 ],
 "metadata": {
  "kernelspec": {
   "display_name": "Python 3",
   "language": "python",
   "name": "python3"
  },
  "language_info": {
   "codemirror_mode": {
    "name": "ipython",
    "version": 3
   },
   "file_extension": ".py",
   "mimetype": "text/x-python",
   "name": "python",
   "nbconvert_exporter": "python",
   "pygments_lexer": "ipython3",
   "version": "3.12.2"
  }
 },
 "nbformat": 4,
 "nbformat_minor": 4
}
