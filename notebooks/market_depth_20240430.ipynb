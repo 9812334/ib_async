{
 "cells": [
  {
   "cell_type": "markdown",
   "metadata": {},
   "source": [
    "# Market depth (order book)\n"
   ]
  },
  {
   "cell_type": "code",
   "execution_count": 1,
   "metadata": {},
   "outputs": [
    {
     "data": {
      "text/plain": [
       "0"
      ]
     },
     "execution_count": 1,
     "metadata": {},
     "output_type": "execute_result"
    }
   ],
   "source": [
    "from IPython.display import clear_output\n",
    "import time\n",
    "import os\n",
    "import datetime\n",
    "\n",
    "os.system(\"afplay /System/Library/Sounds/Submarine.aiff\")\n",
    "# os.system('echo -n \"\\a\"')  # This will make a beep sound in the terminal"
   ]
  },
  {
   "cell_type": "code",
   "execution_count": 2,
   "metadata": {},
   "outputs": [
    {
     "data": {
      "text/plain": [
       "<IB connected to 127.0.0.1:4001 clientId=10>"
      ]
     },
     "execution_count": 2,
     "metadata": {},
     "output_type": "execute_result"
    }
   ],
   "source": [
    "from ib_async import *\n",
    "\n",
    "util.startLoop()\n",
    "\n",
    "ib = IB()\n",
    "ib.connect(\"127.0.0.1\", 4001, clientId=10)\n",
    "# util.logToConsole()"
   ]
  },
  {
   "cell_type": "code",
   "execution_count": 3,
   "metadata": {},
   "outputs": [],
   "source": [
    "from IPython.display import display, clear_output\n",
    "import pandas as pd\n",
    "\n",
    "df = pd.DataFrame(index=range(5), columns=\"bidSize bidPrice askPrice askSize\".split())\n",
    "\n",
    "# NQM2024 contract\n",
    "contract = Contract(conId=620730920)\n",
    "ib.qualifyContracts(contract)\n",
    "\n",
    "ticker = ib.reqMktDepth(contract)\n",
    "\n",
    "\n",
    "def onTickerUpdate(ticker):\n",
    "    bids = ticker.domBids\n",
    "    for i in range(5):\n",
    "        df.iloc[i, 0] = bids[i].size if i < len(bids) else 0\n",
    "        df.iloc[i, 1] = bids[i].price if i < len(bids) else 0\n",
    "    asks = ticker.domAsks\n",
    "    for i in range(5):\n",
    "        df.iloc[i, 2] = asks[i].price if i < len(asks) else 0\n",
    "        df.iloc[i, 3] = asks[i].size if i < len(asks) else 0\n",
    "    clear_output(wait=True)\n",
    "    display(df)\n",
    "\n",
    "\n",
    "# ticker.updateEvent += onTickerUpdate\n",
    "\n",
    "# IB.sleep(15)"
   ]
  },
  {
   "cell_type": "code",
   "execution_count": 4,
   "metadata": {},
   "outputs": [],
   "source": [
    "ib.cancelMktDepth(contract)"
   ]
  },
  {
   "cell_type": "code",
   "execution_count": 5,
   "metadata": {},
   "outputs": [
    {
     "data": {
      "text/plain": [
       "[Position(account='U10394496', contract=Option(conId=637079300, symbol='HYG', lastTradeDateOrContractMonth='20240621', strike=73.0, right='P', multiplier='100', currency='USD', localSymbol='HYG   240621P00073000', tradingClass='HYG'), position=50.0, avgCost=12.44685),\n",
       " Position(account='U10394496', contract=Option(conId=682674010, symbol='AAPL', lastTradeDateOrContractMonth='20241018', strike=150.0, right='P', multiplier='100', currency='USD', localSymbol='AAPL  241018P00150000', tradingClass='AAPL'), position=2.0, avgCost=244.69685),\n",
       " Position(account='U10394496', contract=Option(conId=669333316, symbol='NVDA', lastTradeDateOrContractMonth='20240719', strike=555.0, right='P', multiplier='100', currency='USD', localSymbol='NVDA  240719P00555000', tradingClass='NVDA'), position=1.0, avgCost=493.0494),\n",
       " Position(account='U10394496', contract=Option(conId=613471094, symbol='GOOGL', lastTradeDateOrContractMonth='20240920', strike=120.0, right='P', multiplier='100', currency='USD', localSymbol='GOOGL 240920P00120000', tradingClass='GOOGL'), position=10.0, avgCost=51.44685),\n",
       " Position(account='U10394496', contract=Future(conId=620730920, symbol='NQ', lastTradeDateOrContractMonth='20240621', multiplier='20', currency='USD', localSymbol='NQM4', tradingClass='NQ'), position=-6.0, avgCost=358101.07087185),\n",
       " Position(account='U10394496', contract=Option(conId=699532596, symbol='QQQ', lastTradeDateOrContractMonth='20240607', strike=400.0, right='P', multiplier='100', currency='USD', localSymbol='QQQ   240607P00400000', tradingClass='QQQ'), position=2.0, avgCost=207.69685)]"
      ]
     },
     "execution_count": 5,
     "metadata": {},
     "output_type": "execute_result"
    }
   ],
   "source": [
    "ib.positions(account=\"U10394496\")"
   ]
  },
  {
   "cell_type": "code",
   "execution_count": 28,
   "metadata": {
    "notebookRunGroups": {
     "groupValue": "1"
    }
   },
   "outputs": [
    {
     "name": "stdout",
     "output_type": "stream",
     "text": [
      "symbol\tpermId\t\tstatus\t\taction\tfilled\tremaining\tlmtPrice\n",
      "NQ\t1786380182\tSubmitted\tBUY\t0.0\t1.0\t\t17150.0\t\n",
      "NQ\t1786380178\tSubmitted\tBUY\t0.0\t1.0\t\t17323.0\t\n",
      "NQ\t1528433802\tSubmitted\tBUY\t0.0\t3.0\t\t17526.0\t\n",
      "NQ\t1436152242\tSubmitted\tBUY\t0.0\t1.0\t\t17547.25\t\n",
      "NQ\t1939815533\tSubmitted\tSELL\t0.0\t1.0\t\t17916.0\t\n",
      "NQ\t1056387955\tPreSubmitted\tSELL\t0.0\t2.0\t\t20480.0\t\n"
     ]
    }
   ],
   "source": [
    "from tools import *\n",
    "\n",
    "print_all_openorders(ib=ib)"
   ]
  },
  {
   "cell_type": "code",
   "execution_count": 29,
   "metadata": {},
   "outputs": [
    {
     "ename": "NameError",
     "evalue": "name 'print_account_summary' is not defined",
     "output_type": "error",
     "traceback": [
      "\u001b[0;31m---------------------------------------------------------------------------\u001b[0m",
      "\u001b[0;31mNameError\u001b[0m                                 Traceback (most recent call last)",
      "Cell \u001b[0;32mIn[29], line 1\u001b[0m\n\u001b[0;32m----> 1\u001b[0m \u001b[43mprint_account_summary\u001b[49m(ib\u001b[38;5;241m=\u001b[39mib)\n",
      "\u001b[0;31mNameError\u001b[0m: name 'print_account_summary' is not defined"
     ]
    }
   ],
   "source": [
    "print_account_summary(ib=ib)"
   ]
  },
  {
   "cell_type": "code",
   "execution_count": 7,
   "metadata": {},
   "outputs": [],
   "source": [
    "# default reset values\n",
    "buy2open = None\n",
    "sell2close = None\n",
    "\n",
    "future = [\n",
    "    pos for pos in ib.positions(account=\"U10394496\") if pos.contract.symbol == \"NQ\"\n",
    "][0]\n",
    "\n",
    "tick_tp = 10\n",
    "ticrement = 0.25"
   ]
  },
  {
   "cell_type": "code",
   "execution_count": 31,
   "metadata": {},
   "outputs": [
    {
     "name": "stdout",
     "output_type": "stream",
     "text": [
      "symbol\tpermId\t\tstatus\t\taction\tfilled\tremaining\tlmtPrice\n",
      "NQ\t1939815533\tSubmitted\tSELL\t0.0\t1.0\t\t17916.0\t\n"
     ]
    }
   ],
   "source": [
    "trades = get_all_openorders(ib, \"NQ\")\n",
    "sell2close = [trade for trade in trades if trade.order.permId == 1939815533][0]\n",
    "print_order(sell2close)"
   ]
  },
  {
   "cell_type": "code",
   "execution_count": 35,
   "metadata": {},
   "outputs": [
    {
     "name": "stdout",
     "output_type": "stream",
     "text": [
      "BUY TO OPEN:\n",
      "None\n",
      "\n",
      "SELL TO CLOSE:\n",
      "symbol\tpermId\t\tstatus\t\taction\tfilled\tremaining\tlmtPrice\n",
      "NQ\t1939815533\tSubmitted\tSELL\t0.0\t1.0\t\t17916.0\t\n",
      "\n",
      "\n",
      "ALL OPEN ORDERS:\n",
      "symbol\tpermId\t\tstatus\t\taction\tfilled\tremaining\tlmtPrice\n",
      "NQ\t1786380182\tSubmitted\tBUY\t0.0\t1.0\t\t17150.0\t\n",
      "NQ\t1786380178\tSubmitted\tBUY\t0.0\t1.0\t\t17323.0\t\n",
      "NQ\t1528433802\tSubmitted\tBUY\t0.0\t3.0\t\t17526.0\t\n",
      "NQ\t1436152242\tSubmitted\tBUY\t0.0\t1.0\t\t17547.25\t\n",
      "NQ\t1939815533\tSubmitted\tSELL\t0.0\t1.0\t\t17916.0\t\n",
      "NQ\t1056387955\tPreSubmitted\tSELL\t0.0\t2.0\t\t20480.0\t\n",
      "\n",
      "Current position:\n",
      "NQ:  -6.0 @ 17905.0535435925\n",
      ".\n",
      ".\n",
      ".\n"
     ]
    }
   ],
   "source": [
    "########################################\n",
    "## BUY TO OPEN SCALP 0.1\n",
    "########################################\n",
    "\n",
    "while True:\n",
    "    clear_output(wait=True)  # Clear the output before printing new output\n",
    "\n",
    "    # first order of the strategy\n",
    "    if buy2open is None and sell2close is None:\n",
    "        os.system(\"afplay /System/Library/Sounds/Submarine.aiff\")\n",
    "        print(\"Placing L1.bto\")\n",
    "        action = \"BUY\"\n",
    "        totalQuantity = 1\n",
    "        lmtPrice = ticker.domBids[0].price - tick_tp * ticrement\n",
    "        print(f\"{action}, totalQuantity {totalQuantity}, lmtPrice {lmtPrice}\")\n",
    "        print()\n",
    "\n",
    "        limit_bto = LimitOrder(\n",
    "            action=action,\n",
    "            totalQuantity=totalQuantity,\n",
    "            lmtPrice=lmtPrice,\n",
    "            account=\"U10394496\",\n",
    "        )\n",
    "        buy2open = ib.placeOrder(contract, limit_bto)\n",
    "        buy2open_ts = datetime.datetime.now()\n",
    "        ib.sleep(1)\n",
    "\n",
    "    print(f\"BUY TO OPEN:\")\n",
    "    print_order(buy2open)\n",
    "    print()\n",
    "\n",
    "    if buy2open is not None:\n",
    "        if buy2open.orderStatus.status == \"Submitted\" and sell2close is None:\n",
    "            print(\n",
    "                f\"Waiting to get filled L1.bto {buy2open.order.permId} {buy2open.orderStatus.status}\"\n",
    "            )\n",
    "\n",
    "            if datetime.datetime.now() - buy2open_ts > datetime.timedelta(minutes=5):\n",
    "                print(\"Cancelling order due to timeout\")\n",
    "                ib.cancelOrder(buy2open.order)\n",
    "                ib.sleep(1)\n",
    "                print(buy2open.log)\n",
    "            print()\n",
    "        if buy2open.orderStatus.status == \"Filled\" and sell2close is None:\n",
    "            os.system(\"afplay /System/Library/Sounds/Submarine.aiff\")\n",
    "            print(\"Placing L2.stc\")\n",
    "            action = \"SELL\"\n",
    "            totalQuantity = 1\n",
    "            lmtPrice = buy2open.orderStatus.avgFillPrice + tick_tp * ticrement\n",
    "            print(f\"{action}, totalQuantity {totalQuantity}, lmtPrice {lmtPrice}\")\n",
    "            limit_stc = LimitOrder(\n",
    "                action=action,\n",
    "                totalQuantity=totalQuantity,\n",
    "                lmtPrice=lmtPrice,\n",
    "                account=\"U10394496\",\n",
    "            )\n",
    "            sell2close = ib.placeOrder(contract, limit_stc)\n",
    "            ib.sleep(1)\n",
    "        elif (\n",
    "            buy2open.orderStatus.status == \"Inactive\"\n",
    "            or buy2open.orderStatus.status == \"Cancelled\"\n",
    "        ) and sell2close is None:\n",
    "            print(\"***** order is inactive *****\")\n",
    "            print(buy2open.log)\n",
    "            print(\"*****************************\")\n",
    "            buy2open = None\n",
    "\n",
    "    print(f\"SELL TO CLOSE:\")\n",
    "    print_order(sell2close)\n",
    "\n",
    "    if sell2close is not None:\n",
    "        if sell2close.orderStatus.status == \"Filled\":\n",
    "            os.system(\"afplay /System/Library/Sounds/Submarine.aiff\")\n",
    "            print(\"L2.stc filled @ {}\".format(sell2close.orderStatus.avgFillPrice))\n",
    "            buy2open = None\n",
    "            sell2close = None\n",
    "    print()\n",
    "    print()\n",
    "    print(\"ALL OPEN ORDERS:\")\n",
    "    print_all_openorders(ib=ib)\n",
    "    print()\n",
    "\n",
    "    # get current position of contract NQM2024\n",
    "    print(\"Current position:\")\n",
    "    print(\n",
    "        f\"{future.contract.symbol}:  {future.position} @ {future.avgCost/float(contract.multiplier)}\"\n",
    "    )\n",
    "\n",
    "    # os.system(\"afplay /System/Library/Sounds/Submarine.aiff\")\n",
    "\n",
    "    time.sleep(1)\n",
    "    print(\".\")\n",
    "    time.sleep(1)\n",
    "    print(\".\")\n",
    "    time.sleep(1)\n",
    "    print(\".\")\n",
    "    time.sleep(1)\n",
    "    print(\".\")\n",
    "    time.sleep(1)\n",
    "    print(\".\")\n",
    "    time.sleep(1)"
   ]
  },
  {
   "cell_type": "code",
   "execution_count": 14,
   "metadata": {},
   "outputs": [
    {
     "name": "stdout",
     "output_type": "stream",
     "text": [
      "OrderStatus(orderId=40, status='Submitted', filled=0.0, remaining=1.0, avgFillPrice=0.0, permId=1939815533, parentId=0, lastFillPrice=0.0, clientId=10, whyHeld='', mktCapPrice=0.0)\n"
     ]
    }
   ],
   "source": [
    "# get a specific order by id\n",
    "trades = get_all_openorders()\n",
    "sell2close = [trade for trade in trades if trade.order.permId == 1939815533]\n",
    "print(sell2close[0].orderStatus)"
   ]
  },
  {
   "cell_type": "code",
   "execution_count": 20,
   "metadata": {},
   "outputs": [
    {
     "name": "stdout",
     "output_type": "stream",
     "text": [
      "AccountType : INDIVIDUAL\n",
      "Cushion : 0.270221\n",
      "LookAheadNextChange : 1714483800\n",
      "AccruedCash : 0.00\n",
      "AvailableFunds : 38356.40\n",
      "BuyingPower : 208850.69\n",
      "EquityWithLoanValue : 52212.67\n",
      "ExcessLiquidity : 52212.67\n",
      "FullAvailableFunds : 38356.40\n",
      "FullExcessLiquidity : 52212.67\n",
      "FullInitMarginReq : 152418.94\n",
      "FullMaintMarginReq : 138562.67\n",
      "GrossPositionValue : 2447.07\n",
      "InitMarginReq : 152418.94\n",
      "LookAheadAvailableFunds : 49644.45\n",
      "LookAheadExcessLiquidity : 93781.47\n",
      "LookAheadInitMarginReq : 106693.26\n",
      "LookAheadMaintMarginReq : 96993.87\n",
      "MaintMarginReq : 138562.67\n",
      "NetLiquidation : 193222.41\n",
      "PreviousDayEquityWithLoanValue : 0.00\n",
      "RegTEquity : 0.01\n",
      "RegTMargin : 0.00\n",
      "SMA : 623470.03\n",
      "TotalCashValue : 190775.34\n"
     ]
    }
   ],
   "source": [
    "acct_fields = ib.accountSummary(account=\"U10394496\")\n",
    "\n",
    "for f in acct_fields:\n",
    "    if \"DayTrades\" not in f.tag:\n",
    "        print(f.tag, \":\", f.value)"
   ]
  },
  {
   "cell_type": "code",
   "execution_count": 15,
   "metadata": {},
   "outputs": [
    {
     "ename": "AttributeError",
     "evalue": "'Order' object has no attribute 'orderStatus'",
     "output_type": "error",
     "traceback": [
      "\u001b[0;31m---------------------------------------------------------------------------\u001b[0m",
      "\u001b[0;31mAttributeError\u001b[0m                            Traceback (most recent call last)",
      "Cell \u001b[0;32mIn[15], line 25\u001b[0m\n\u001b[1;32m     23\u001b[0m open_order_value \u001b[38;5;241m=\u001b[39m \u001b[38;5;241m0\u001b[39m\n\u001b[1;32m     24\u001b[0m \u001b[38;5;28;01mfor\u001b[39;00m order \u001b[38;5;129;01min\u001b[39;00m orders:\n\u001b[0;32m---> 25\u001b[0m     \u001b[38;5;28;01mif\u001b[39;00m \u001b[43morder\u001b[49m\u001b[38;5;241;43m.\u001b[39;49m\u001b[43morderStatus\u001b[49m\u001b[38;5;241m.\u001b[39mstatus \u001b[38;5;241m==\u001b[39m OrderState\u001b[38;5;241m.\u001b[39mLIVE:\n\u001b[1;32m     26\u001b[0m         open_order_value \u001b[38;5;241m+\u001b[39m\u001b[38;5;241m=\u001b[39m order\u001b[38;5;241m.\u001b[39mtotalValue()\n\u001b[1;32m     28\u001b[0m \u001b[38;5;66;03m# Store the portfolio summary in the dictionary\u001b[39;00m\n",
      "\u001b[0;31mAttributeError\u001b[0m: 'Order' object has no attribute 'orderStatus'"
     ]
    }
   ],
   "source": [
    "from ib_async import OrderState\n",
    "\n",
    "# Get all accounts\n",
    "accounts = [\"U14726869\"]\n",
    "\n",
    "# Create a dictionary to store the portfolio summary for each account\n",
    "portfolios = {}\n",
    "\n",
    "# Iterate over each account\n",
    "for account in accounts:\n",
    "    # Get the positions and orders for the account\n",
    "    positions = ib.positions(account)\n",
    "    orders = ib.orders()\n",
    "\n",
    "    # Calculate the total value and number of positions\n",
    "    total_value = 0\n",
    "    num_positions = 0\n",
    "    for position in positions:\n",
    "        total_value += position.marketValue()\n",
    "        num_positions += 1\n",
    "\n",
    "    # Calculate the total value of open orders\n",
    "    open_order_value = 0\n",
    "    for order in orders:\n",
    "        if order.orderStatus.status == OrderState.LIVE:\n",
    "            open_order_value += order.totalValue()\n",
    "\n",
    "    # Store the portfolio summary in the dictionary\n",
    "    portfolios[account.account] = {\n",
    "        \"Account\": account.account,\n",
    "        \"Total Value\": total_value,\n",
    "        \"Number of Positions\": num_positions,\n",
    "        \"Open Order Value\": open_order_value,\n",
    "    }\n",
    "\n",
    "# Convert the dictionary to a Pandas DataFrame\n",
    "portfolios_df = pd.DataFrame(list(portfolios.values()))\n",
    "\n",
    "# Print the portfolio summary in a nice table form\n",
    "print(portfolios_df.to_string(index=False))"
   ]
  },
  {
   "cell_type": "markdown",
   "metadata": {},
   "source": [
    "## REVERSE STRATEGY - DRAFT - DO NOT RUN\n"
   ]
  },
  {
   "cell_type": "code",
   "execution_count": 196,
   "metadata": {},
   "outputs": [
    {
     "name": "stdout",
     "output_type": "stream",
     "text": [
      "Open to Buy Order:\n",
      "TradeLogEntry(time=datetime.datetime(2024, 4, 29, 8, 30, 40, 406788, tzinfo=datetime.timezone.utc), status='Filled', message='', errorCode=0)\n",
      "\n",
      "Take Profit Order:\n",
      "LimitOrder(action='SELL', totalQuantity=1, lmtPrice=17905.75, account='U10394496')\n",
      "\n",
      "Ask Price 17895.25\n",
      "Bid Price 17894.5\n",
      "\n",
      "Future.position -6.0 > -7 qty_target\n",
      "\n",
      "Take Profit Order exists...\n",
      "\n",
      "LimitOrder(action='SELL', totalQuantity=1, lmtPrice=17905.75, account='U10394496')\n",
      "\n",
      "Symbol NQ Position -6.0 avgCost 17892.076428275\n",
      "\n",
      "RealizedPNL -3175.17 UnrealizedPNL -110.83 MarketValue -2.14716mm\n"
     ]
    }
   ],
   "source": [
    "# L1 = buy @ mid - 10 tickets , tp + 10 ticks\n",
    "\n",
    "# NQM2024 contract\n",
    "contract = Contract(conId=620730920)\n",
    "ib.qualifyContracts(contract)\n",
    "\n",
    "\n",
    "qty_target = -7\n",
    "\n",
    "# get current position of contract nq24\n",
    "position = ib.positions(account=\"U10394496\")\n",
    "future = position[0]\n",
    "\n",
    "openorders = get_all_openorders(sym=\"NQ\")\n",
    "\n",
    "\n",
    "if future.position == qty_target:\n",
    "    print(\"Position is at target quantity / {}, {}\".format(future.position, qty_target))\n",
    "    # check for initiation order (L1.buy)\n",
    "    if opentobuy is None:\n",
    "        print(\"Initiation Order does not exist\")\n",
    "        print()\n",
    "\n",
    "        print(\"Placing L1.buy\")\n",
    "        action = \"BUY\"\n",
    "        totalQuantity = 1\n",
    "        opentobuy_lmtPrice = ticker.domBids[0].price\n",
    "        lmtPrice = opentobuy_lmtPrice\n",
    "        print(\"Setting open to buy order:\")\n",
    "        print(f\"{action}, totalQuantity {totalQuantity}, lmtPrice {lmtPrice}\")\n",
    "        print(\"Setting takeprofit -> None\")\n",
    "        print()\n",
    "\n",
    "        limitbuy = LimitOrder(\n",
    "            action=action,\n",
    "            totalQuantity=totalQuantity,\n",
    "            lmtPrice=lmtPrice,\n",
    "            account=\"U10394496\",\n",
    "        )\n",
    "        # opentobuy = ib.placeOrder(contract, limitbuy)\n",
    "        # ib.sleep(1)\n",
    "    else:\n",
    "        print(\"Initiation Order exists...\")\n",
    "\n",
    "    print(opentobuy)\n",
    "    print()\n",
    "\n",
    "if future.position > qty_target:\n",
    "    print(\"Future.position {} > {} qty_target\".format(future.position, qty_target))\n",
    "    print()\n",
    "    # check for take profit order (L1.sell)\n",
    "    if takeprofit is None:\n",
    "        print(\"TP Order does not exist\")\n",
    "        print(\"Placing TP Order\")\n",
    "        print()\n",
    "\n",
    "        # place L1.sell\n",
    "        action = \"SELL\"\n",
    "        totalQuantity = 1\n",
    "        lmtPrice = opentobuy.orderStatus.avgFillPrice + 10 * 0.25\n",
    "        print(f\"{action}, totalQuantity {totalQuantity}, lmtPrice {lmtPrice}\")\n",
    "        limitsell = LimitOrder(\n",
    "            action=action,\n",
    "            totalQuantity=totalQuantity,\n",
    "            lmtPrice=lmtPrice,\n",
    "            account=\"U10394496\",\n",
    "        )\n",
    "\n",
    "        # takeprofit = ib.placeOrder(contract, limitsell)\n",
    "        # ib.sleep(1)\n",
    "    else:\n",
    "        print(\"Take Profit Order exists...\")\n",
    "        print()\n",
    "\n",
    "    print(takeprofit)\n",
    "    print()\n",
    "\n",
    "nq_position = [\n",
    "    pos for pos in ib.positions(account=\"U10394496\") if pos.contract.symbol == \"NQ\"\n",
    "][0]\n",
    "print(\n",
    "    f\"Symbol {nq_position.contract.symbol} Position {nq_position.position} avgCost {nq_position.avgCost/20}\"\n",
    ")\n",
    "print()\n",
    "futures_port = [p for p in ib.portfolio() if p.contract.symbol == \"NQ\"][0]\n",
    "print(\n",
    "    f\"RealizedPNL {futures_port.realizedPNL} UnrealizedPNL {futures_port.unrealizedPNL} MarketValue {futures_port.marketValue/1e6}mm\"\n",
    ")"
   ]
  },
  {
   "cell_type": "code",
   "execution_count": null,
   "metadata": {},
   "outputs": [],
   "source": [
    "# canceled orders\n",
    "print(f\"permId\\t\\taction\\t\\ttotalQuantity\\tfilledQuantity\\t\\tlmtPrice\")\n",
    "\n",
    "closedOrders = ib.orders()\n",
    "[\n",
    "    print(\n",
    "        f\"{order.permId}\\t{order.action}\\t\\t{order.totalQuantity}\\t\\t{order.filledQuantity}\\t\\t\\t{order.lmtPrice}\"\n",
    "    )\n",
    "    for order in closedOrders\n",
    "    if order.filledQuantity == 0\n",
    "]"
   ]
  },
  {
   "cell_type": "code",
   "execution_count": null,
   "metadata": {},
   "outputs": [
    {
     "name": "stdout",
     "output_type": "stream",
     "text": [
      "STO:  Trade(contract=Contract(secType='FUT', conId=620730920, symbol='NQ', lastTradeDateOrContractMonth='20240621', multiplier='20', exchange='CME', currency='USD', localSymbol='NQM4', tradingClass='NQ'), order=LimitOrder(orderId=21, clientId=10, permId=1939815514, action='SELL', totalQuantity=1.0, lmtPrice=17911.75, auxPrice=0.0, account='U10394496'), orderStatus=OrderStatus(orderId=21, status='Inactive', filled=0.0, remaining=1.0, avgFillPrice=0.0, permId=1939815514, parentId=0, lastFillPrice=0.0, clientId=10, whyHeld='', mktCapPrice=0.0), fills=[], log=[TradeLogEntry(time=datetime.datetime(2024, 4, 29, 23, 7, 46, 638519, tzinfo=datetime.timezone.utc), status='PendingSubmit', message='', errorCode=0), TradeLogEntry(time=datetime.datetime(2024, 4, 29, 23, 7, 46, 896837, tzinfo=datetime.timezone.utc), status='Inactive', message='', errorCode=0), TradeLogEntry(time=datetime.datetime(2024, 4, 29, 23, 7, 46, 913501, tzinfo=datetime.timezone.utc), status='Cancelled', message='Error 201, reqId 21: Order rejected - reason:The Available Funds in your Commodities segment are insufficient to cover the change in the margin requirements in your Commodities segment should this order execute. In order to obtain the desired position, your Commodities Net Liquidation Value [185296.97 USD]  must exceed the new total initial Margin of [203162.04 USD].  Review the FAQ: <a href=\"https://www.clientam.com/lib/cstools/faq/#/content/30122600?clientLabel=wb\"> Why does the credit check for my futures order say I do not have enough funds in my Net Liquidation Value? </a>', errorCode=201), TradeLogEntry(time=datetime.datetime(2024, 4, 29, 23, 7, 46, 915834, tzinfo=datetime.timezone.utc), status='Inactive', message='', errorCode=0)], advancedError='')\n",
      "\n",
      "L1.STO 1939815514 Inactive\n",
      "\n",
      "\n"
     ]
    },
    {
     "ename": "AttributeError",
     "evalue": "'Trade' object has no attribute 'OrderStatus'",
     "output_type": "error",
     "traceback": [
      "\u001b[0;31m---------------------------------------------------------------------------\u001b[0m\n",
      "\u001b[0;31mAttributeError\u001b[0m                            Traceback (most recent call last)\n",
      "Cell \u001b[0;32mIn[15], line 39\u001b[0m\n",
      "\u001b[1;32m     35\u001b[0m     \u001b[38;5;28mprint\u001b[39m(\n",
      "\u001b[1;32m     36\u001b[0m         \u001b[38;5;124mf\u001b[39m\u001b[38;5;124m\"\u001b[39m\u001b[38;5;124mWaiting to get filled L1.STO \u001b[39m\u001b[38;5;132;01m{\u001b[39;00msell2open\u001b[38;5;241m.\u001b[39morder\u001b[38;5;241m.\u001b[39mpermId\u001b[38;5;132;01m}\u001b[39;00m\u001b[38;5;124m \u001b[39m\u001b[38;5;132;01m{\u001b[39;00msell2open\u001b[38;5;241m.\u001b[39morderStatus\u001b[38;5;241m.\u001b[39mstatus\u001b[38;5;132;01m}\u001b[39;00m\u001b[38;5;124m\"\u001b[39m\n",
      "\u001b[1;32m     37\u001b[0m     )\n",
      "\u001b[1;32m     38\u001b[0m     \u001b[38;5;28mprint\u001b[39m()\n",
      "\u001b[0;32m---> 39\u001b[0m \u001b[38;5;28;01mif\u001b[39;00m \u001b[43msell2open\u001b[49m\u001b[38;5;241;43m.\u001b[39;49m\u001b[43mOrderStatus\u001b[49m\u001b[38;5;241m.\u001b[39mstatus \u001b[38;5;241m==\u001b[39m \u001b[38;5;124m\"\u001b[39m\u001b[38;5;124mFilled\u001b[39m\u001b[38;5;124m\"\u001b[39m \u001b[38;5;129;01mand\u001b[39;00m buy2close \u001b[38;5;129;01mis\u001b[39;00m \u001b[38;5;28;01mNone\u001b[39;00m:\n",
      "\u001b[1;32m     40\u001b[0m     \u001b[38;5;28mprint\u001b[39m(\u001b[38;5;124m\"\u001b[39m\u001b[38;5;124mPlacing L2.BTC\u001b[39m\u001b[38;5;124m\"\u001b[39m)\n",
      "\u001b[1;32m     41\u001b[0m     action \u001b[38;5;241m=\u001b[39m \u001b[38;5;124m\"\u001b[39m\u001b[38;5;124mBUY\u001b[39m\u001b[38;5;124m\"\u001b[39m\n",
      "\n",
      "\u001b[0;31mAttributeError\u001b[0m: 'Trade' object has no attribute 'OrderStatus'"
     ]
    }
   ],
   "source": [
    "#########################################\n",
    "### SELL TO OPEN SCALP 0.1\n",
    "#########################################\n",
    "\n",
    "print(\"STO: \", sell2open)\n",
    "print()\n",
    "\n",
    "tick_tp = 10\n",
    "ticrement = 0.25\n",
    "\n",
    "# first order of the strategy\n",
    "if sell2open is None:\n",
    "    print(\"Placing L1.STO\")\n",
    "    action = \"SELL\"\n",
    "    totalQuantity = 1\n",
    "    lmtPrice = ticker.domAsks[0].price + tick_tp * ticrement\n",
    "    print(f\"{action}, totalQuantity {totalQuantity}, lmtPrice {lmtPrice}\")\n",
    "    print()\n",
    "\n",
    "    limit_sto = LimitOrder(\n",
    "        action=action,\n",
    "        totalQuantity=totalQuantity,\n",
    "        lmtPrice=lmtPrice,\n",
    "        account=\"U10394496\",\n",
    "    )\n",
    "    sell2open = ib.placeOrder(contract, limit_sto)\n",
    "    ib.sleep(1)\n",
    "else:\n",
    "    print(f\"L1.STO {sell2open.order.permId} {sell2open.orderStatus.status}\")\n",
    "    print()\n",
    "\n",
    "    if sell2open.orderStatus.status == \"Filled\":\n",
    "        print(\"L1.STO filled @ {}\".format(sell2open.orderStatus.avgFillPrice))\n",
    "\n",
    "print()\n",
    "\n",
    "if sell2open is not None:\n",
    "    if sell2open.orderStatus.status == \"Submitted\" and buy2close is None:\n",
    "        print(\n",
    "            f\"Waiting to get filled L1.STO {sell2open.order.permId} {sell2open.orderStatus.status}\"\n",
    "        )\n",
    "        print()\n",
    "    if sell2open.orderStatus.status == \"Filled\" and buy2close is None:\n",
    "        os.system(\"afplay /System/Library/Sounds/Submarine.aiff\")\n",
    "\n",
    "        print(\"Placing L2.BTC\")\n",
    "        action = \"BUY\"\n",
    "        totalQuantity = 1\n",
    "        lmtPrice = sell2open.orderStatus.avgFillPrice + tick_tp * ticrement\n",
    "        print(f\"{action}, totalQuantity {totalQuantity}, lmtPrice {lmtPrice}\")\n",
    "        limit_btc = LimitOrder(\n",
    "            action=action,\n",
    "            totalQuantity=totalQuantity,\n",
    "            lmtPrice=lmtPrice,\n",
    "            account=\"U10394496\",\n",
    "        )\n",
    "        # buy2close = ib.placeOrder(contract, limit_btc)\n",
    "        # ib.sleep(1)\n",
    "    elif sell2open.orderStatus.status == \"Inactive\" and buy2close is None:\n",
    "        print(f\"L1.STO {sell2open.order.permId} {sell2open.OrderStatus.status}\")\n",
    "    elif buy2close is not None:\n",
    "        print(\"L2.BTC {buy2close.order.permId} {buy2close.OrderStatus.status}\")\n",
    "        print()\n",
    "\n",
    "        if buy2close.orderStatus.status == \"Filled\":\n",
    "            print(\n",
    "                \"L2.BTC already filled @ {}\".format(sell2open.orderStatus.avgFillPrice)\n",
    "            )\n",
    "else:\n",
    "    print(\"N/A Condition\")"
   ]
  }
 ],
 "metadata": {
  "kernelspec": {
   "display_name": "Python 3",
   "language": "python",
   "name": "python3"
  },
  "language_info": {
   "codemirror_mode": {
    "name": "ipython",
    "version": 3
   },
   "file_extension": ".py",
   "mimetype": "text/x-python",
   "name": "python",
   "nbconvert_exporter": "python",
   "pygments_lexer": "ipython3",
   "version": "3.12.2"
  }
 },
 "nbformat": 4,
 "nbformat_minor": 4
}
