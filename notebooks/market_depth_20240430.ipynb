{
 "cells": [
  {
   "cell_type": "markdown",
   "metadata": {},
   "source": [
    "# Market depth (order book)\n"
   ]
  },
  {
   "cell_type": "code",
   "execution_count": 1,
   "metadata": {},
   "outputs": [
    {
     "data": {
      "text/plain": [
       "0"
      ]
     },
     "execution_count": 1,
     "metadata": {},
     "output_type": "execute_result"
    }
   ],
   "source": [
    "from IPython.display import clear_output\n",
    "import time\n",
    "import os\n",
    "import datetime\n",
    "\n",
    "os.system(\"afplay /System/Library/Sounds/Submarine.aiff\")\n",
    "# os.system('echo -n \"\\a\"')  # This will make a beep sound in the terminal"
   ]
  },
  {
   "cell_type": "code",
   "execution_count": 2,
   "metadata": {},
   "outputs": [
    {
     "data": {
      "text/plain": [
       "<IB connected to 127.0.0.1:4001 clientId=10>"
      ]
     },
     "execution_count": 2,
     "metadata": {},
     "output_type": "execute_result"
    }
   ],
   "source": [
    "from ib_async import *\n",
    "\n",
    "util.startLoop()\n",
    "\n",
    "ib = IB()\n",
    "ib.connect(\"127.0.0.1\", 4001, clientId=10)\n",
    "# util.logToConsole()"
   ]
  },
  {
   "cell_type": "code",
   "execution_count": 3,
   "metadata": {},
   "outputs": [],
   "source": [
    "from IPython.display import display, clear_output\n",
    "import pandas as pd\n",
    "\n",
    "df = pd.DataFrame(index=range(5), columns=\"bidSize bidPrice askPrice askSize\".split())\n",
    "\n",
    "# NQM2024 contract\n",
    "contract = Contract(conId=620730920)\n",
    "ib.qualifyContracts(contract)\n",
    "\n",
    "ticker = ib.reqMktDepth(contract)\n",
    "\n",
    "\n",
    "def onTickerUpdate(ticker):\n",
    "    bids = ticker.domBids\n",
    "    for i in range(5):\n",
    "        df.iloc[i, 0] = bids[i].size if i < len(bids) else 0\n",
    "        df.iloc[i, 1] = bids[i].price if i < len(bids) else 0\n",
    "    asks = ticker.domAsks\n",
    "    for i in range(5):\n",
    "        df.iloc[i, 2] = asks[i].price if i < len(asks) else 0\n",
    "        df.iloc[i, 3] = asks[i].size if i < len(asks) else 0\n",
    "    clear_output(wait=True)\n",
    "    display(df)\n",
    "\n",
    "\n",
    "# ticker.updateEvent += onTickerUpdate\n",
    "\n",
    "# IB.sleep(15)"
   ]
  },
  {
   "cell_type": "code",
   "execution_count": null,
   "metadata": {},
   "outputs": [],
   "source": [
    "ib.cancelMktDepth(contract)"
   ]
  },
  {
   "cell_type": "code",
   "execution_count": null,
   "metadata": {},
   "outputs": [],
   "source": [
    "ib.positions(account=\"U10394496\")"
   ]
  },
  {
   "cell_type": "code",
   "execution_count": 5,
   "metadata": {
    "notebookRunGroups": {
     "groupValue": "1"
    }
   },
   "outputs": [
    {
     "name": "stdout",
     "output_type": "stream",
     "text": [
      "symbol\tpermId\t\tstatus\t\taction\tfilled\tremaining\tlmtPrice\n",
      "NQ\t1786380182\tSubmitted\tBUY\t0.0\t1.0\t\t17150.0\t\n",
      "NQ\t1786380178\tSubmitted\tBUY\t0.0\t1.0\t\t17323.0\t\n",
      "NQ\t1528433802\tSubmitted\tBUY\t0.0\t3.0\t\t17526.0\t\n",
      "NQ\t1436152242\tSubmitted\tBUY\t0.0\t1.0\t\t17547.25\t\n",
      "NQ\t1939815533\tSubmitted\tSELL\t0.0\t1.0\t\t17916.0\t\n",
      "NQ\t1056387955\tPreSubmitted\tSELL\t0.0\t2.0\t\t20480.0\t\n"
     ]
    }
   ],
   "source": [
    "def print_all_openorders(sym=\"NQ\"):\n",
    "    print(f\"symbol\\tpermId\\t\\tstatus\\t\\taction\\tfilled\\tremaining\\tlmtPrice\")\n",
    "\n",
    "    trades = ib.reqAllOpenOrders()\n",
    "\n",
    "    trades.sort(key=lambda trade: trade.order.lmtPrice)\n",
    "\n",
    "    for trade in trades:\n",
    "        orderstatus = trade.orderStatus\n",
    "        order = trade.order\n",
    "\n",
    "        if trade.contract.symbol != sym:\n",
    "            continue\n",
    "\n",
    "        print(\n",
    "            f\"{trade.contract.symbol}\\t{order.permId}\\t{orderstatus.status}\\t{order.action}\\t{orderstatus.filled}\\t{orderstatus.remaining}\\t\\t{order.lmtPrice}\\t\"\n",
    "        )\n",
    "\n",
    "\n",
    "def print_trades(trades):\n",
    "    print(f\"symbol\\tpermId\\t\\tstatus\\t\\taction\\tfilled\\tremaining\\tlmtPrice\")\n",
    "\n",
    "    trades.sort(key=lambda trade: trade.order.lmtPrice)\n",
    "\n",
    "    for trade in trades:\n",
    "        orderstatus = trade.orderStatus\n",
    "        order = trade.order\n",
    "\n",
    "        print(\n",
    "            f\"{trade.contract.symbol}\\t{order.permId}\\t{orderstatus.status}\\t{order.action}\\t{orderstatus.filled}\\t{orderstatus.remaining}\\t\\t{order.lmtPrice}\\t\"\n",
    "        )\n",
    "\n",
    "\n",
    "def get_all_openorders(sym=\"NQ\"):\n",
    "    trades = ib.reqAllOpenOrders()\n",
    "    trades.sort(key=lambda trade: trade.order.lmtPrice)\n",
    "\n",
    "    trades = [trade for trade in trades if trade.contract.symbol == sym]\n",
    "    return trades\n",
    "\n",
    "\n",
    "print_all_openorders()\n",
    "\n",
    "\n",
    "def print_order(o):\n",
    "    if o is None:\n",
    "        print(o)\n",
    "        return\n",
    "\n",
    "    order = o.order\n",
    "    contract = o.contract\n",
    "    orderStatus = o.orderStatus\n",
    "\n",
    "    print(f\"symbol\\tpermId\\t\\tstatus\\t\\taction\\tfilled\\tremaining\\tlmtPrice\")\n",
    "\n",
    "    print(\n",
    "        f\"{contract.symbol}\\t{order.permId}\\t{orderStatus.status}\\t{order.action}\\t{orderStatus.filled}\\t{orderStatus.remaining}\\t\\t{order.lmtPrice}\\t\"\n",
    "    )"
   ]
  },
  {
   "cell_type": "code",
   "execution_count": 7,
   "metadata": {},
   "outputs": [],
   "source": [
    "# default reset values\n",
    "buy2open = None\n",
    "sell2close = None\n",
    "\n",
    "future = [\n",
    "    pos for pos in ib.positions(account=\"U10394496\") if pos.contract.symbol == \"NQ\"\n",
    "][0]\n",
    "\n",
    "tick_tp = 10\n",
    "ticrement = 0.25"
   ]
  },
  {
   "cell_type": "code",
   "execution_count": 18,
   "metadata": {},
   "outputs": [
    {
     "name": "stdout",
     "output_type": "stream",
     "text": [
      "symbol\tpermId\t\tstatus\t\taction\tfilled\tremaining\tlmtPrice\n",
      "NQ\t1786380182\tSubmitted\tBUY\t0.0\t1.0\t\t17150.0\t\n",
      "NQ\t1786380178\tSubmitted\tBUY\t0.0\t1.0\t\t17323.0\t\n",
      "NQ\t1528433802\tSubmitted\tBUY\t0.0\t3.0\t\t17526.0\t\n",
      "NQ\t1436152242\tSubmitted\tBUY\t0.0\t1.0\t\t17547.25\t\n",
      "NQ\t1939815533\tSubmitted\tSELL\t0.0\t1.0\t\t17916.0\t\n",
      "NQ\t1056387955\tPreSubmitted\tSELL\t0.0\t2.0\t\t20480.0\t\n",
      "\n",
      "\n",
      "sell2close: OrderStatus(orderId=40, status='Submitted', filled=0.0, remaining=1.0, avgFillPrice=0.0, permId=1939815533, parentId=0, lastFillPrice=0.0, clientId=10, whyHeld='', mktCapPrice=0.0)\n"
     ]
    }
   ],
   "source": [
    "print_all_openorders()\n",
    "print()\n",
    "trades = get_all_openorders()\n",
    "sell2close = [trade for trade in trades if trade.order.permId == 1939815533][0]\n",
    "print()\n",
    "print(\"sell2close:\", sell2close.orderStatus)"
   ]
  },
  {
   "cell_type": "code",
   "execution_count": 20,
   "metadata": {},
   "outputs": [
    {
     "name": "stdout",
     "output_type": "stream",
     "text": [
      "BUY TO OPEN: None\n",
      "\n",
      "SELL TO CLOSE: Trade(contract=Future(conId=620730920, symbol='NQ', lastTradeDateOrContractMonth='20240621', right='?', multiplier='20', exchange='CME', currency='USD', localSymbol='NQM4', tradingClass='NQ'), order=Order(orderId=40, clientId=10, permId=1939815533, action='SELL', totalQuantity=1.0, orderType='LMT', lmtPrice=17916.0, auxPrice=0.0, tif='GTC', ocaType=3, displaySize=2147483647, rule80A='0', openClose='', volatilityType=0, deltaNeutralOrderType='None', referencePriceType=0, account='U10394496', clearingIntent='IB', adjustedOrderType='None', cashQty=0.0, dontUseAutoPriceForHedge=True), orderStatus=OrderStatus(orderId=40, status='Submitted', filled=0.0, remaining=1.0, avgFillPrice=0.0, permId=1939815533, parentId=0, lastFillPrice=0.0, clientId=10, whyHeld='', mktCapPrice=0.0), fills=[], log=[TradeLogEntry(time=datetime.datetime(2024, 4, 30, 5, 27, 13, 954661, tzinfo=datetime.timezone.utc), status='Submitted', message='', errorCode=0)], advancedError='')\n",
      "\n",
      "\n",
      "symbol\tpermId\t\tstatus\t\taction\tfilled\tremaining\tlmtPrice\n",
      "NQ\t1786380182\tSubmitted\tBUY\t0.0\t1.0\t\t17150.0\t\n",
      "NQ\t1786380178\tSubmitted\tBUY\t0.0\t1.0\t\t17323.0\t\n",
      "NQ\t1528433802\tSubmitted\tBUY\t0.0\t3.0\t\t17526.0\t\n",
      "NQ\t1436152242\tSubmitted\tBUY\t0.0\t1.0\t\t17547.25\t\n",
      "NQ\t1939815533\tSubmitted\tSELL\t0.0\t1.0\t\t17916.0\t\n",
      "NQ\t1056387955\tPreSubmitted\tSELL\t0.0\t2.0\t\t20480.0\t\n",
      "\n",
      "NQ:  -6.0 @ 17905.0535435925\n",
      ".\n",
      ".\n"
     ]
    },
    {
     "ename": "KeyboardInterrupt",
     "evalue": "",
     "output_type": "error",
     "traceback": [
      "\u001b[0;31m---------------------------------------------------------------------------\u001b[0m",
      "\u001b[0;31mKeyboardInterrupt\u001b[0m                         Traceback (most recent call last)",
      "Cell \u001b[0;32mIn[20], line 91\u001b[0m\n\u001b[1;32m     89\u001b[0m time\u001b[38;5;241m.\u001b[39msleep(\u001b[38;5;241m1\u001b[39m)\n\u001b[1;32m     90\u001b[0m \u001b[38;5;28mprint\u001b[39m(\u001b[38;5;124m\"\u001b[39m\u001b[38;5;124m.\u001b[39m\u001b[38;5;124m\"\u001b[39m)\n\u001b[0;32m---> 91\u001b[0m \u001b[43mtime\u001b[49m\u001b[38;5;241;43m.\u001b[39;49m\u001b[43msleep\u001b[49m\u001b[43m(\u001b[49m\u001b[38;5;241;43m1\u001b[39;49m\u001b[43m)\u001b[49m\n\u001b[1;32m     92\u001b[0m \u001b[38;5;28mprint\u001b[39m(\u001b[38;5;124m\"\u001b[39m\u001b[38;5;124m.\u001b[39m\u001b[38;5;124m\"\u001b[39m)\n\u001b[1;32m     93\u001b[0m time\u001b[38;5;241m.\u001b[39msleep(\u001b[38;5;241m1\u001b[39m)\n",
      "\u001b[0;31mKeyboardInterrupt\u001b[0m: "
     ]
    }
   ],
   "source": [
    "########################################\n",
    "## BUY TO OPEN SCALP 0.1\n",
    "########################################\n",
    "\n",
    "while True:\n",
    "    clear_output(wait=True)  # Clear the output before printing new output\n",
    "\n",
    "    # first order of the strategy\n",
    "    if buy2open is None and sell2close is None:\n",
    "        os.system(\"afplay /System/Library/Sounds/Submarine.aiff\")\n",
    "        print(\"Placing L1.bto\")\n",
    "        action = \"BUY\"\n",
    "        totalQuantity = 1\n",
    "        lmtPrice = ticker.domBids[0].price - tick_tp * ticrement\n",
    "        print(f\"{action}, totalQuantity {totalQuantity}, lmtPrice {lmtPrice}\")\n",
    "        print()\n",
    "\n",
    "        limit_bto = LimitOrder(\n",
    "            action=action,\n",
    "            totalQuantity=totalQuantity,\n",
    "            lmtPrice=lmtPrice,\n",
    "            account=\"U10394496\",\n",
    "        )\n",
    "        buy2open = ib.placeOrder(contract, limit_bto)\n",
    "        buy2open_ts = datetime.datetime.now()\n",
    "        ib.sleep(1)\n",
    "\n",
    "    print(f\"BUY TO OPEN: {buy2open}\")\n",
    "    print()\n",
    "\n",
    "    if buy2open is not None:\n",
    "        if buy2open.orderStatus.status == \"Submitted\" and sell2close is None:\n",
    "            print(\n",
    "                f\"Waiting to get filled L1.bto {buy2open.order.permId} {buy2open.orderStatus.status}\"\n",
    "            )\n",
    "\n",
    "            if datetime.datetime.now() - buy2open_ts > datetime.timedelta(minutes=5):\n",
    "                print(\"Cancelling order due to timeout\")\n",
    "                ib.cancelOrder(buy2open.order)\n",
    "                ib.sleep(1)\n",
    "                print(buy2open.log)\n",
    "            print()\n",
    "        if buy2open.orderStatus.status == \"Filled\" and sell2close is None:\n",
    "            os.system(\"afplay /System/Library/Sounds/Submarine.aiff\")\n",
    "            print(\"Placing L2.stc\")\n",
    "            action = \"SELL\"\n",
    "            totalQuantity = 1\n",
    "            lmtPrice = buy2open.orderStatus.avgFillPrice + tick_tp * ticrement\n",
    "            print(f\"{action}, totalQuantity {totalQuantity}, lmtPrice {lmtPrice}\")\n",
    "            limit_stc = LimitOrder(\n",
    "                action=action,\n",
    "                totalQuantity=totalQuantity,\n",
    "                lmtPrice=lmtPrice,\n",
    "                account=\"U10394496\",\n",
    "            )\n",
    "            sell2close = ib.placeOrder(contract, limit_stc)\n",
    "            ib.sleep(1)\n",
    "        elif (\n",
    "            buy2open.orderStatus.status == \"Inactive\"\n",
    "            or buy2open.orderStatus.status == \"Cancelled\"\n",
    "        ) and sell2close is None:\n",
    "            print(\"***** order is inactive *****\")\n",
    "            print(buy2open.log)\n",
    "            print(\"*****************************\")\n",
    "            buy2open = None\n",
    "\n",
    "    print(f\"SELL TO CLOSE: {sell2close}\")\n",
    "\n",
    "    if sell2close is not None:\n",
    "        if sell2close.orderStatus.status == \"Filled\":\n",
    "            os.system(\"afplay /System/Library/Sounds/Submarine.aiff\")\n",
    "            print(\"L2.stc filled @ {}\".format(sell2close.orderStatus.avgFillPrice))\n",
    "            buy2open = None\n",
    "            sell2close = None\n",
    "    print()\n",
    "    print()\n",
    "    print_all_openorders()\n",
    "    print()\n",
    "\n",
    "    # get current position of contract NQM2024\n",
    "    print(\n",
    "        f\"{future.contract.symbol}:  {future.position} @ {future.avgCost/float(contract.multiplier)}\"\n",
    "    )\n",
    "\n",
    "    # os.system(\"afplay /System/Library/Sounds/Submarine.aiff\")\n",
    "\n",
    "    time.sleep(1)\n",
    "    print(\".\")\n",
    "    time.sleep(1)\n",
    "    print(\".\")\n",
    "    time.sleep(1)\n",
    "    print(\".\")\n",
    "    time.sleep(1)\n",
    "    print(\".\")\n",
    "    time.sleep(1)\n",
    "    print(\".\")\n",
    "    time.sleep(1)"
   ]
  },
  {
   "cell_type": "code",
   "execution_count": 8,
   "metadata": {},
   "outputs": [
    {
     "name": "stdout",
     "output_type": "stream",
     "text": [
      "symbol\tpermId\t\tstatus\t\taction\tfilled\tremaining\tlmtPrice\n",
      "NQ\t1786380182\tSubmitted\tBUY\t0.0\t1.0\t\t17150.0\t\n",
      "NQ\t1786380178\tSubmitted\tBUY\t0.0\t1.0\t\t17323.0\t\n",
      "NQ\t1528433802\tSubmitted\tBUY\t0.0\t3.0\t\t17526.0\t\n",
      "NQ\t1436152242\tSubmitted\tBUY\t0.0\t1.0\t\t17547.25\t\n",
      "NQ\t1939815533\tSubmitted\tSELL\t0.0\t1.0\t\t17916.0\t\n",
      "NQ\t1056387955\tPreSubmitted\tSELL\t0.0\t2.0\t\t20480.0\t\n",
      "\n",
      "NQ:  -6.0 @ 17905.0535435925\n"
     ]
    }
   ],
   "source": [
    "print_all_openorders()\n",
    "print()\n",
    "\n",
    "# get current position of contract NQM2024\n",
    "print(\n",
    "    f\"{future.contract.symbol}:  {future.position} @ {future.avgCost/float(contract.multiplier)}\"\n",
    ")"
   ]
  },
  {
   "cell_type": "code",
   "execution_count": 14,
   "metadata": {},
   "outputs": [
    {
     "name": "stdout",
     "output_type": "stream",
     "text": [
      "OrderStatus(orderId=40, status='Submitted', filled=0.0, remaining=1.0, avgFillPrice=0.0, permId=1939815533, parentId=0, lastFillPrice=0.0, clientId=10, whyHeld='', mktCapPrice=0.0)\n"
     ]
    }
   ],
   "source": [
    "trades = get_all_openorders()\n",
    "sell2close = [trade for trade in trades if trade.order.permId == 1939815533]\n",
    "print(sell2close[0].orderStatus)"
   ]
  },
  {
   "cell_type": "code",
   "execution_count": 33,
   "metadata": {},
   "outputs": [
    {
     "data": {
      "text/plain": [
       "[Trade(contract=Contract(secType='FUT', conId=620730920, symbol='NQ', lastTradeDateOrContractMonth='20240621', multiplier='20', exchange='CME', currency='USD', localSymbol='NQM4', tradingClass='NQ'), order=LimitOrder(orderId=22, clientId=10, permId=1939815515, action='BUY', totalQuantity=1.0, lmtPrice=17906.0, auxPrice=0.0, account='U10394496'), orderStatus=OrderStatus(orderId=22, status='Submitted', filled=0.0, remaining=1.0, avgFillPrice=0.0, permId=1939815515, parentId=0, lastFillPrice=0.0, clientId=10, whyHeld='', mktCapPrice=0.0), fills=[], log=[TradeLogEntry(time=datetime.datetime(2024, 4, 29, 23, 36, 58, 872134, tzinfo=datetime.timezone.utc), status='PendingSubmit', message='', errorCode=0), TradeLogEntry(time=datetime.datetime(2024, 4, 29, 23, 36, 59, 60335, tzinfo=datetime.timezone.utc), status='Submitted', message='', errorCode=0)], advancedError='')]"
      ]
     },
     "execution_count": 33,
     "metadata": {},
     "output_type": "execute_result"
    }
   ],
   "source": [
    "trades = [trade for trade in trades if trade.contract.symbol == \"NQ\"]\n",
    "t1"
   ]
  },
  {
   "cell_type": "code",
   "execution_count": 56,
   "metadata": {},
   "outputs": [
    {
     "data": {
      "text/plain": [
       "Trade(contract=Contract(secType='FUT', conId=620730920, symbol='NQ', lastTradeDateOrContractMonth='20240621', multiplier='20', exchange='CME', currency='USD', localSymbol='NQM4', tradingClass='NQ'), order=LimitOrder(orderId=30, clientId=10, permId=1939815523, action='BUY', totalQuantity=1.0, lmtPrice=17906.5, auxPrice=0.0, account='U10394496'), orderStatus=OrderStatus(orderId=30, status='PendingCancel', filled=0.0, remaining=1.0, avgFillPrice=0.0, permId=1939815523, parentId=0, lastFillPrice=0.0, clientId=10, whyHeld='', mktCapPrice=0.0), fills=[], log=[TradeLogEntry(time=datetime.datetime(2024, 4, 30, 1, 11, 22, 609187, tzinfo=datetime.timezone.utc), status='PendingSubmit', message='', errorCode=0), TradeLogEntry(time=datetime.datetime(2024, 4, 30, 1, 11, 22, 888064, tzinfo=datetime.timezone.utc), status='Submitted', message='', errorCode=0), TradeLogEntry(time=datetime.datetime(2024, 4, 30, 1, 33, 40, 69642, tzinfo=datetime.timezone.utc), status='PendingCancel', message='', errorCode=0)], advancedError='')"
      ]
     },
     "execution_count": 56,
     "metadata": {},
     "output_type": "execute_result"
    }
   ],
   "source": []
  },
  {
   "cell_type": "code",
   "execution_count": 38,
   "metadata": {},
   "outputs": [
    {
     "name": "stdout",
     "output_type": "stream",
     "text": [
      "All Open Orders\n",
      "symbol\tpermId\t\tstatus\t\taction\tfilled\tremaining\tlmtPrice\n",
      "NQ\t1786380182\tSubmitted\tBUY\t0.0\t1.0\t\t17150.0\t\n",
      "NQ\t1786380178\tSubmitted\tBUY\t0.0\t1.0\t\t17323.0\t\n",
      "NQ\t1528433802\tSubmitted\tBUY\t0.0\t3.0\t\t17526.0\t\n",
      "NQ\t1436152242\tSubmitted\tBUY\t0.0\t1.0\t\t17547.25\t\n",
      "NQ\t1056387955\tPreSubmitted\tSELL\t0.0\t2.0\t\t20480.0\t\n"
     ]
    }
   ],
   "source": [
    "print_all_openorders()"
   ]
  },
  {
   "cell_type": "markdown",
   "metadata": {},
   "source": [
    "## REVERSE STRATEGY - DRAFT - DO NOT RUN\n"
   ]
  },
  {
   "cell_type": "code",
   "execution_count": 196,
   "metadata": {},
   "outputs": [
    {
     "name": "stdout",
     "output_type": "stream",
     "text": [
      "Open to Buy Order:\n",
      "TradeLogEntry(time=datetime.datetime(2024, 4, 29, 8, 30, 40, 406788, tzinfo=datetime.timezone.utc), status='Filled', message='', errorCode=0)\n",
      "\n",
      "Take Profit Order:\n",
      "LimitOrder(action='SELL', totalQuantity=1, lmtPrice=17905.75, account='U10394496')\n",
      "\n",
      "Ask Price 17895.25\n",
      "Bid Price 17894.5\n",
      "\n",
      "Future.position -6.0 > -7 qty_target\n",
      "\n",
      "Take Profit Order exists...\n",
      "\n",
      "LimitOrder(action='SELL', totalQuantity=1, lmtPrice=17905.75, account='U10394496')\n",
      "\n",
      "Symbol NQ Position -6.0 avgCost 17892.076428275\n",
      "\n",
      "RealizedPNL -3175.17 UnrealizedPNL -110.83 MarketValue -2.14716mm\n"
     ]
    }
   ],
   "source": [
    "# L1 = buy @ mid - 10 tickets , tp + 10 ticks\n",
    "\n",
    "# NQM2024 contract\n",
    "contract = Contract(conId=620730920)\n",
    "ib.qualifyContracts(contract)\n",
    "\n",
    "\n",
    "qty_target = -7\n",
    "\n",
    "# get current position of contract nq24\n",
    "position = ib.positions(account=\"U10394496\")\n",
    "future = position[0]\n",
    "\n",
    "openorders = get_all_openorders(sym=\"NQ\")\n",
    "\n",
    "\n",
    "if future.position == qty_target:\n",
    "    print(\"Position is at target quantity / {}, {}\".format(future.position, qty_target))\n",
    "    # check for initiation order (L1.buy)\n",
    "    if opentobuy is None:\n",
    "        print(\"Initiation Order does not exist\")\n",
    "        print()\n",
    "\n",
    "        print(\"Placing L1.buy\")\n",
    "        action = \"BUY\"\n",
    "        totalQuantity = 1\n",
    "        opentobuy_lmtPrice = ticker.domBids[0].price\n",
    "        lmtPrice = opentobuy_lmtPrice\n",
    "        print(\"Setting open to buy order:\")\n",
    "        print(f\"{action}, totalQuantity {totalQuantity}, lmtPrice {lmtPrice}\")\n",
    "        print(\"Setting takeprofit -> None\")\n",
    "        print()\n",
    "\n",
    "        limitbuy = LimitOrder(\n",
    "            action=action,\n",
    "            totalQuantity=totalQuantity,\n",
    "            lmtPrice=lmtPrice,\n",
    "            account=\"U10394496\",\n",
    "        )\n",
    "        # opentobuy = ib.placeOrder(contract, limitbuy)\n",
    "        # ib.sleep(1)\n",
    "    else:\n",
    "        print(\"Initiation Order exists...\")\n",
    "\n",
    "    print(opentobuy)\n",
    "    print()\n",
    "\n",
    "if future.position > qty_target:\n",
    "    print(\"Future.position {} > {} qty_target\".format(future.position, qty_target))\n",
    "    print()\n",
    "    # check for take profit order (L1.sell)\n",
    "    if takeprofit is None:\n",
    "        print(\"TP Order does not exist\")\n",
    "        print(\"Placing TP Order\")\n",
    "        print()\n",
    "\n",
    "        # place L1.sell\n",
    "        action = \"SELL\"\n",
    "        totalQuantity = 1\n",
    "        lmtPrice = opentobuy.orderStatus.avgFillPrice + 10 * 0.25\n",
    "        print(f\"{action}, totalQuantity {totalQuantity}, lmtPrice {lmtPrice}\")\n",
    "        limitsell = LimitOrder(\n",
    "            action=action,\n",
    "            totalQuantity=totalQuantity,\n",
    "            lmtPrice=lmtPrice,\n",
    "            account=\"U10394496\",\n",
    "        )\n",
    "\n",
    "        # takeprofit = ib.placeOrder(contract, limitsell)\n",
    "        # ib.sleep(1)\n",
    "    else:\n",
    "        print(\"Take Profit Order exists...\")\n",
    "        print()\n",
    "\n",
    "    print(takeprofit)\n",
    "    print()\n",
    "\n",
    "nq_position = [\n",
    "    pos for pos in ib.positions(account=\"U10394496\") if pos.contract.symbol == \"NQ\"\n",
    "][0]\n",
    "print(\n",
    "    f\"Symbol {nq_position.contract.symbol} Position {nq_position.position} avgCost {nq_position.avgCost/20}\"\n",
    ")\n",
    "print()\n",
    "futures_port = [p for p in ib.portfolio() if p.contract.symbol == \"NQ\"][0]\n",
    "print(\n",
    "    f\"RealizedPNL {futures_port.realizedPNL} UnrealizedPNL {futures_port.unrealizedPNL} MarketValue {futures_port.marketValue/1e6}mm\"\n",
    ")"
   ]
  },
  {
   "cell_type": "code",
   "execution_count": 195,
   "metadata": {},
   "outputs": [
    {
     "name": "stdout",
     "output_type": "stream",
     "text": [
      "LimitOrder(action='SELL', totalQuantity=1, lmtPrice=17905.75, account='U10394496')\n"
     ]
    }
   ],
   "source": [
    "print(takeprofit)"
   ]
  },
  {
   "cell_type": "code",
   "execution_count": null,
   "metadata": {},
   "outputs": [],
   "source": [
    "# opentobuy = ib.placeOrder(contract, opentobuy)\n",
    "ib.sleep(1)\n",
    "opentobuy.log"
   ]
  },
  {
   "cell_type": "code",
   "execution_count": null,
   "metadata": {},
   "outputs": [],
   "source": [
    "print(opentobuy.orderStatus.status)"
   ]
  },
  {
   "cell_type": "code",
   "execution_count": null,
   "metadata": {},
   "outputs": [],
   "source": [
    "# canceled orders\n",
    "print(f\"permId\\t\\taction\\t\\ttotalQuantity\\tfilledQuantity\\t\\tlmtPrice\")\n",
    "\n",
    "closedOrders = ib.orders()\n",
    "[\n",
    "    print(\n",
    "        f\"{order.permId}\\t{order.action}\\t\\t{order.totalQuantity}\\t\\t{order.filledQuantity}\\t\\t\\t{order.lmtPrice}\"\n",
    "    )\n",
    "    for order in closedOrders\n",
    "    if order.filledQuantity == 0\n",
    "]"
   ]
  },
  {
   "cell_type": "code",
   "execution_count": null,
   "metadata": {},
   "outputs": [],
   "source": [
    "ib.disconnect()"
   ]
  },
  {
   "cell_type": "code",
   "execution_count": null,
   "metadata": {},
   "outputs": [],
   "source": []
  },
  {
   "cell_type": "code",
   "execution_count": null,
   "metadata": {},
   "outputs": [
    {
     "name": "stdout",
     "output_type": "stream",
     "text": [
      "STO:  Trade(contract=Contract(secType='FUT', conId=620730920, symbol='NQ', lastTradeDateOrContractMonth='20240621', multiplier='20', exchange='CME', currency='USD', localSymbol='NQM4', tradingClass='NQ'), order=LimitOrder(orderId=21, clientId=10, permId=1939815514, action='SELL', totalQuantity=1.0, lmtPrice=17911.75, auxPrice=0.0, account='U10394496'), orderStatus=OrderStatus(orderId=21, status='Inactive', filled=0.0, remaining=1.0, avgFillPrice=0.0, permId=1939815514, parentId=0, lastFillPrice=0.0, clientId=10, whyHeld='', mktCapPrice=0.0), fills=[], log=[TradeLogEntry(time=datetime.datetime(2024, 4, 29, 23, 7, 46, 638519, tzinfo=datetime.timezone.utc), status='PendingSubmit', message='', errorCode=0), TradeLogEntry(time=datetime.datetime(2024, 4, 29, 23, 7, 46, 896837, tzinfo=datetime.timezone.utc), status='Inactive', message='', errorCode=0), TradeLogEntry(time=datetime.datetime(2024, 4, 29, 23, 7, 46, 913501, tzinfo=datetime.timezone.utc), status='Cancelled', message='Error 201, reqId 21: Order rejected - reason:The Available Funds in your Commodities segment are insufficient to cover the change in the margin requirements in your Commodities segment should this order execute. In order to obtain the desired position, your Commodities Net Liquidation Value [185296.97 USD]  must exceed the new total initial Margin of [203162.04 USD].  Review the FAQ: <a href=\"https://www.clientam.com/lib/cstools/faq/#/content/30122600?clientLabel=wb\"> Why does the credit check for my futures order say I do not have enough funds in my Net Liquidation Value? </a>', errorCode=201), TradeLogEntry(time=datetime.datetime(2024, 4, 29, 23, 7, 46, 915834, tzinfo=datetime.timezone.utc), status='Inactive', message='', errorCode=0)], advancedError='')\n",
      "\n",
      "L1.STO 1939815514 Inactive\n",
      "\n",
      "\n"
     ]
    },
    {
     "ename": "AttributeError",
     "evalue": "'Trade' object has no attribute 'OrderStatus'",
     "output_type": "error",
     "traceback": [
      "\u001b[0;31m---------------------------------------------------------------------------\u001b[0m\n",
      "\u001b[0;31mAttributeError\u001b[0m                            Traceback (most recent call last)\n",
      "Cell \u001b[0;32mIn[15], line 39\u001b[0m\n",
      "\u001b[1;32m     35\u001b[0m     \u001b[38;5;28mprint\u001b[39m(\n",
      "\u001b[1;32m     36\u001b[0m         \u001b[38;5;124mf\u001b[39m\u001b[38;5;124m\"\u001b[39m\u001b[38;5;124mWaiting to get filled L1.STO \u001b[39m\u001b[38;5;132;01m{\u001b[39;00msell2open\u001b[38;5;241m.\u001b[39morder\u001b[38;5;241m.\u001b[39mpermId\u001b[38;5;132;01m}\u001b[39;00m\u001b[38;5;124m \u001b[39m\u001b[38;5;132;01m{\u001b[39;00msell2open\u001b[38;5;241m.\u001b[39morderStatus\u001b[38;5;241m.\u001b[39mstatus\u001b[38;5;132;01m}\u001b[39;00m\u001b[38;5;124m\"\u001b[39m\n",
      "\u001b[1;32m     37\u001b[0m     )\n",
      "\u001b[1;32m     38\u001b[0m     \u001b[38;5;28mprint\u001b[39m()\n",
      "\u001b[0;32m---> 39\u001b[0m \u001b[38;5;28;01mif\u001b[39;00m \u001b[43msell2open\u001b[49m\u001b[38;5;241;43m.\u001b[39;49m\u001b[43mOrderStatus\u001b[49m\u001b[38;5;241m.\u001b[39mstatus \u001b[38;5;241m==\u001b[39m \u001b[38;5;124m\"\u001b[39m\u001b[38;5;124mFilled\u001b[39m\u001b[38;5;124m\"\u001b[39m \u001b[38;5;129;01mand\u001b[39;00m buy2close \u001b[38;5;129;01mis\u001b[39;00m \u001b[38;5;28;01mNone\u001b[39;00m:\n",
      "\u001b[1;32m     40\u001b[0m     \u001b[38;5;28mprint\u001b[39m(\u001b[38;5;124m\"\u001b[39m\u001b[38;5;124mPlacing L2.BTC\u001b[39m\u001b[38;5;124m\"\u001b[39m)\n",
      "\u001b[1;32m     41\u001b[0m     action \u001b[38;5;241m=\u001b[39m \u001b[38;5;124m\"\u001b[39m\u001b[38;5;124mBUY\u001b[39m\u001b[38;5;124m\"\u001b[39m\n",
      "\n",
      "\u001b[0;31mAttributeError\u001b[0m: 'Trade' object has no attribute 'OrderStatus'"
     ]
    }
   ],
   "source": [
    "#########################################\n",
    "### SELL TO OPEN SCALP 0.1\n",
    "#########################################\n",
    "\n",
    "print(\"STO: \", sell2open)\n",
    "print()\n",
    "\n",
    "tick_tp = 10\n",
    "ticrement = 0.25\n",
    "\n",
    "# first order of the strategy\n",
    "if sell2open is None:\n",
    "    print(\"Placing L1.STO\")\n",
    "    action = \"SELL\"\n",
    "    totalQuantity = 1\n",
    "    lmtPrice = ticker.domAsks[0].price + tick_tp * ticrement\n",
    "    print(f\"{action}, totalQuantity {totalQuantity}, lmtPrice {lmtPrice}\")\n",
    "    print()\n",
    "\n",
    "    limit_sto = LimitOrder(\n",
    "        action=action,\n",
    "        totalQuantity=totalQuantity,\n",
    "        lmtPrice=lmtPrice,\n",
    "        account=\"U10394496\",\n",
    "    )\n",
    "    sell2open = ib.placeOrder(contract, limit_sto)\n",
    "    ib.sleep(1)\n",
    "else:\n",
    "    print(f\"L1.STO {sell2open.order.permId} {sell2open.orderStatus.status}\")\n",
    "    print()\n",
    "\n",
    "    if sell2open.orderStatus.status == \"Filled\":\n",
    "        print(\"L1.STO filled @ {}\".format(sell2open.orderStatus.avgFillPrice))\n",
    "\n",
    "print()\n",
    "\n",
    "if sell2open is not None:\n",
    "    if sell2open.orderStatus.status == \"Submitted\" and buy2close is None:\n",
    "        print(\n",
    "            f\"Waiting to get filled L1.STO {sell2open.order.permId} {sell2open.orderStatus.status}\"\n",
    "        )\n",
    "        print()\n",
    "    if sell2open.orderStatus.status == \"Filled\" and buy2close is None:\n",
    "        os.system(\"afplay /System/Library/Sounds/Submarine.aiff\")\n",
    "\n",
    "        print(\"Placing L2.BTC\")\n",
    "        action = \"BUY\"\n",
    "        totalQuantity = 1\n",
    "        lmtPrice = sell2open.orderStatus.avgFillPrice + tick_tp * ticrement\n",
    "        print(f\"{action}, totalQuantity {totalQuantity}, lmtPrice {lmtPrice}\")\n",
    "        limit_btc = LimitOrder(\n",
    "            action=action,\n",
    "            totalQuantity=totalQuantity,\n",
    "            lmtPrice=lmtPrice,\n",
    "            account=\"U10394496\",\n",
    "        )\n",
    "        # buy2close = ib.placeOrder(contract, limit_btc)\n",
    "        # ib.sleep(1)\n",
    "    elif sell2open.orderStatus.status == \"Inactive\" and buy2close is None:\n",
    "        print(f\"L1.STO {sell2open.order.permId} {sell2open.OrderStatus.status}\")\n",
    "    elif buy2close is not None:\n",
    "        print(\"L2.BTC {buy2close.order.permId} {buy2close.OrderStatus.status}\")\n",
    "        print()\n",
    "\n",
    "        if buy2close.orderStatus.status == \"Filled\":\n",
    "            print(\n",
    "                \"L2.BTC already filled @ {}\".format(sell2open.orderStatus.avgFillPrice)\n",
    "            )\n",
    "else:\n",
    "    print(\"N/A Condition\")"
   ]
  }
 ],
 "metadata": {
  "kernelspec": {
   "display_name": "Python 3",
   "language": "python",
   "name": "python3"
  },
  "language_info": {
   "codemirror_mode": {
    "name": "ipython",
    "version": 3
   },
   "file_extension": ".py",
   "mimetype": "text/x-python",
   "name": "python",
   "nbconvert_exporter": "python",
   "pygments_lexer": "ipython3",
   "version": "3.12.2"
  }
 },
 "nbformat": 4,
 "nbformat_minor": 4
}
