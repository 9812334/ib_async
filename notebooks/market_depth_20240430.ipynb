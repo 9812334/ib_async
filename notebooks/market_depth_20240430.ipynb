{
 "cells": [
  {
   "cell_type": "code",
   "execution_count": 7,
   "metadata": {},
   "outputs": [
    {
     "data": {
      "text/html": [
       "<style>.output_subarea { overflow: auto; }</style>"
      ],
      "text/plain": [
       "<IPython.core.display.HTML object>"
      ]
     },
     "metadata": {},
     "output_type": "display_data"
    }
   ],
   "source": [
    "from IPython.display import clear_output\n",
    "\n",
    "import datetime\n",
    "import time\n",
    "import os\n",
    "\n",
    "from tools import *\n",
    "\n",
    "from IPython.display import display\n",
    "from IPython.core.display import HTML\n",
    "\n",
    "\n",
    "play_beep()\n",
    "display_full_output()"
   ]
  },
  {
   "cell_type": "code",
   "execution_count": 2,
   "metadata": {},
   "outputs": [
    {
     "data": {
      "text/plain": [
       "<IB connected to 127.0.0.1:4001 clientId=12>"
      ]
     },
     "execution_count": 2,
     "metadata": {},
     "output_type": "execute_result"
    }
   ],
   "source": [
    "from ib_async import *\n",
    "\n",
    "util.startLoop()\n",
    "\n",
    "ib = IB()\n",
    "ib.connect(\"127.0.0.1\", 4001, clientId=12)\n",
    "# util.logToConsole()"
   ]
  },
  {
   "cell_type": "code",
   "execution_count": 3,
   "metadata": {},
   "outputs": [],
   "source": [
    "from IPython.display import display, clear_output\n",
    "import pandas as pd\n",
    "\n",
    "df = pd.DataFrame(index=range(5), columns=\"bidSize bidPrice askPrice askSize\".split())\n",
    "\n",
    "# NQM2024 contract\n",
    "contract = Contract(conId=620730920)\n",
    "ib.qualifyContracts(contract)\n",
    "\n",
    "ticker = ib.reqMktDepth(contract)\n",
    "\n",
    "def onTickerUpdate(ticker):\n",
    "    bids = ticker.domBids\n",
    "    for i in range(5):\n",
    "        df.iloc[i, 0] = bids[i].size if i < len(bids) else 0\n",
    "        df.iloc[i, 1] = bids[i].price if i < len(bids) else 0\n",
    "    asks = ticker.domAsks\n",
    "    for i in range(5):\n",
    "        df.iloc[i, 2] = asks[i].price if i < len(asks) else 0\n",
    "        df.iloc[i, 3] = asks[i].size if i < len(asks) else 0\n",
    "    clear_output(wait=True)\n",
    "    display(df)\n",
    "\n",
    "\n",
    "# ticker.updateEvent += onTickerUpdate\n",
    "\n",
    "# IB.sleep(15)"
   ]
  },
  {
   "cell_type": "code",
   "execution_count": 4,
   "metadata": {},
   "outputs": [],
   "source": [
    "ib.cancelMktDepth(contract)"
   ]
  },
  {
   "cell_type": "code",
   "execution_count": 8,
   "metadata": {},
   "outputs": [
    {
     "data": {
      "text/plain": [
       "[Position(account='U10394496', contract=Option(conId=637079300, symbol='HYG', lastTradeDateOrContractMonth='20240621', strike=73.0, right='P', multiplier='100', currency='USD', localSymbol='HYG   240621P00073000', tradingClass='HYG'), position=50.0, avgCost=12.44685),\n",
       " Position(account='U10394496', contract=Option(conId=682674010, symbol='AAPL', lastTradeDateOrContractMonth='20241018', strike=150.0, right='P', multiplier='100', currency='USD', localSymbol='AAPL  241018P00150000', tradingClass='AAPL'), position=2.0, avgCost=244.69685),\n",
       " Position(account='U10394496', contract=Option(conId=669333316, symbol='NVDA', lastTradeDateOrContractMonth='20240719', strike=555.0, right='P', multiplier='100', currency='USD', localSymbol='NVDA  240719P00555000', tradingClass='NVDA'), position=1.0, avgCost=493.0494),\n",
       " Position(account='U10394496', contract=Option(conId=613471094, symbol='GOOGL', lastTradeDateOrContractMonth='20240920', strike=120.0, right='P', multiplier='100', currency='USD', localSymbol='GOOGL 240920P00120000', tradingClass='GOOGL'), position=10.0, avgCost=51.44685),\n",
       " Position(account='U10394496', contract=Future(conId=620730920, symbol='NQ', lastTradeDateOrContractMonth='20240621', multiplier='20', currency='USD', localSymbol='NQM4', tradingClass='NQ'), position=-4.0, avgCost=353809.73422575),\n",
       " Position(account='U10394496', contract=Option(conId=699532596, symbol='QQQ', lastTradeDateOrContractMonth='20240607', strike=400.0, right='P', multiplier='100', currency='USD', localSymbol='QQQ   240607P00400000', tradingClass='QQQ'), position=2.0, avgCost=207.69685)]"
      ]
     },
     "execution_count": 8,
     "metadata": {},
     "output_type": "execute_result"
    }
   ],
   "source": [
    "ib.positions(account=\"U10394496\")"
   ]
  },
  {
   "cell_type": "code",
   "execution_count": 9,
   "metadata": {},
   "outputs": [
    {
     "name": "stdout",
     "output_type": "stream",
     "text": [
      "Position(account='U10394496', contract=Future(conId=620730920, symbol='NQ', lastTradeDateOrContractMonth='20240621', multiplier='20', currency='USD', localSymbol='NQM4', tradingClass='NQ'), position=-4.0, avgCost=353809.73422575)\n",
      "AccountType : INDIVIDUAL\n",
      "Cushion : 0.686314\n",
      "LookAheadNextChange : 1714507200\n",
      "AccruedCash : 0.00\n",
      "AvailableFunds : 49644.45\n",
      "BuyingPower : 584129.84\n",
      "EquityWithLoanValue : 146032.46\n",
      "ExcessLiquidity : 146032.46\n",
      "FullAvailableFunds : 49644.45\n",
      "FullExcessLiquidity : 118572.19\n",
      "FullInitMarginReq : 100687.65\n",
      "FullMaintMarginReq : 91534.23\n",
      "GrossPositionValue : 2671.42\n",
      "InitMarginReq : 70481.36\n",
      "LookAheadAvailableFunds : 49644.45\n",
      "LookAheadExcessLiquidity : 118572.19\n",
      "LookAheadInitMarginReq : 100687.65\n",
      "LookAheadMaintMarginReq : 91534.23\n",
      "MaintMarginReq : 64073.96\n",
      "NetLiquidation : 212777.84\n",
      "PreviousDayEquityWithLoanValue : 0.00\n",
      "RegTEquity : 0.01\n",
      "RegTMargin : 0.00\n",
      "SMA : 623470.03\n",
      "TotalCashValue : 210106.42\n"
     ]
    }
   ],
   "source": [
    "# default reset values\n",
    "open_trade = None\n",
    "close_trade = None\n",
    "# get a specific order by id\n",
    "# trades = get_all_openorders(ib)\n",
    "# sell2close = [trade for trade in trades if trade.order.permId == 1939815533][0]\n",
    "# print_order(sell2close)\n",
    "\n",
    "future = [\n",
    "    pos for pos in ib.positions(account=\"U10394496\") if pos.contract.symbol == \"NQ\"\n",
    "][0]\n",
    "\n",
    "tick_tp = 10\n",
    "ticrement = 0.25\n",
    "\n",
    "print(future)\n",
    "print_account_summary(ib=ib)\n"
   ]
  },
  {
   "cell_type": "code",
   "execution_count": 10,
   "metadata": {},
   "outputs": [
    {
     "name": "stdout",
     "output_type": "stream",
     "text": [
      "Placing open trade: BUY, LIMIT, totalQuantity 1, lmtPrice 17691.75\n",
      "\n"
     ]
    },
    {
     "ename": "NameError",
     "evalue": "name 'datetime' is not defined",
     "output_type": "error",
     "traceback": [
      "\u001b[1;31m---------------------------------------------------------------------------\u001b[0m",
      "\u001b[1;31mNameError\u001b[0m                                 Traceback (most recent call last)",
      "Cell \u001b[1;32mIn[10], line 72\u001b[0m\n\u001b[0;32m     69\u001b[0m     \u001b[38;5;28;01mraise\u001b[39;00m \u001b[38;5;167;01mException\u001b[39;00m(\u001b[38;5;124m'\u001b[39m\u001b[38;5;124mNot implemented\u001b[39m\u001b[38;5;124m'\u001b[39m)\n\u001b[0;32m     71\u001b[0m open_trade \u001b[38;5;241m=\u001b[39m ib\u001b[38;5;241m.\u001b[39mplaceOrder(contract, open_order)\n\u001b[1;32m---> 72\u001b[0m open_order_ts \u001b[38;5;241m=\u001b[39m \u001b[43mdatetime\u001b[49m\u001b[38;5;241m.\u001b[39mdatetime\u001b[38;5;241m.\u001b[39mnow()\n\u001b[0;32m     73\u001b[0m ib\u001b[38;5;241m.\u001b[39msleep(\u001b[38;5;241m1\u001b[39m)\n\u001b[0;32m     74\u001b[0m \u001b[38;5;66;03m# play_beep()\u001b[39;00m\n",
      "\u001b[1;31mNameError\u001b[0m: name 'datetime' is not defined"
     ]
    }
   ],
   "source": [
    "## SELL TO OPEN SCALP 0.1\n",
    "########################################\n",
    "\n",
    "sell_15_10_scalp = {\n",
    "    \"strategy\": \"SELL TO OPEN SCALP 15/10\",\n",
    "    \"contract\": \"NQM2024\",\n",
    "    \"tick_increment\": 0.25,\n",
    "    \"open_qty\": 1,\n",
    "    \"open_type\": \"LIMIT\",\n",
    "    \"open_action\": \"SELL\",\n",
    "    \"open_ref\": \"ask\",\n",
    "    \"open_ticks\": 15,\n",
    "    \"close_qty\": 1,\n",
    "    \"close_type\": \"LIMIT\",\n",
    "    \"close_action\":\"BUY\",\n",
    "    \"close_ref\": \"open_price_fill\",\n",
    "    \"close_ticks\": -10\n",
    "    }\n",
    "\n",
    "buy_10_10_scalp = {\n",
    "    \"strategy\": \"BUY TO OPEN SCALP 10/10\",\n",
    "    \"contract\": \"NQM2024\",\n",
    "    \"tick_increment\": 0.25,\n",
    "    \"open_qty\": 1,\n",
    "    \"open_type\": \"LIMIT\",\n",
    "    \"open_action\": \"BUY\",\n",
    "    \"open_ref\": \"bid\",\n",
    "    \"open_ticks\": -10,\n",
    "    \"close_qty\": 1,\n",
    "    \"close_type\": \"LIMIT\",\n",
    "    \"close_action\":\"SELL\",\n",
    "    \"close_ref\": \"open_price_fill\",\n",
    "    \"close_ticks\": -10\n",
    "    }\n",
    "\n",
    "strategy_details = buy_10_10_scalp\n",
    "\n",
    "print(strategy_details)\n",
    "\n",
    "while True:\n",
    "    clear_output(wait=True)  # Clear the output before printing new output\n",
    "\n",
    "    # first order of the strategy\n",
    "    if open_trade is None and close_trade is None:\n",
    "        action = strategy_details['open_action']\n",
    "        qty = strategy_details['open_qty']\n",
    "        \n",
    "        if strategy_details['open_ref'] == 'bid':\n",
    "            price_ref = ticker.domBids[0].price\n",
    "        elif strategy_details['open_ref'] == 'ask':\n",
    "            price_ref = ticker.domAsks[0].price\n",
    "        elif strategy_details['open_ref'] == 'mid':\n",
    "            price_ref = (ticker.domAsks[0].price + ticker.domBids[0].price)/2\n",
    "        elif strategy_details['open_ref'] == 'last':\n",
    "            raise Exception('Not implemented')\n",
    "\n",
    "        lmtPrice = price_ref + strategy_details['open_ticks'] * strategy_details['tick_increment']\n",
    "        print(f\"Placing open trade: {action}, {strategy_details['open_type']}, totalQuantity {qty}, lmtPrice {lmtPrice}\")\n",
    "        print()\n",
    "        \n",
    "        if strategy_details['open_type'] == \"LIMIT\":\n",
    "            open_order = LimitOrder(\n",
    "                action=action,\n",
    "                totalQuantity=qty,\n",
    "                lmtPrice=lmtPrice,\n",
    "                account=\"U10394496\",\n",
    "            )\n",
    "        else:\n",
    "            raise Exception('Not implemented')\n",
    "            \n",
    "        open_trade = ib.placeOrder(contract, open_order)\n",
    "        open_order_ts = datetime.datetime.now()\n",
    "        ib.sleep(1)\n",
    "        # play_beep()\n",
    "\n",
    "    print(\"OPEN ORDER::\")\n",
    "    print_order(open_trade)\n",
    "    print()\n",
    "\n",
    "    if open_trade is not None:\n",
    "        if open_trade.orderStatus.status == \"Submitted\" and close_trade is None:\n",
    "            print(\n",
    "                f\"Waiting to get filled on order #{open_trade.order.permId} ({open_trade.orderStatus.status})\\n\"\n",
    "            )\n",
    "\n",
    "            if datetime.datetime.now() - open_order_ts > datetime.timedelta(minutes=1):\n",
    "                print(\"Cancelling order due to timeout:\")\n",
    "                ib.cancelOrder(open_trade.order)\n",
    "                ib.sleep(1)\n",
    "                print(open_trade.log)\n",
    "                print()\n",
    "            \n",
    "        if open_trade.orderStatus.status == \"Filled\" and close_trade is None:\n",
    "            action = strategy_details['close_action']\n",
    "            qty = strategy_details['close_qty']\n",
    "            \n",
    "            if strategy_details['close_ref'] == 'open_price_fill':\n",
    "                price_ref = open_trade.orderStatus.avgFillPrice\n",
    "            if strategy_details['close_ref'] == 'bid':\n",
    "                price_ref = ticker.domBids[0].price\n",
    "            elif strategy_details['close_ref'] == 'ask':\n",
    "                price_ref = ticker.domAsks[0].price\n",
    "            elif strategy_details['close_ref'] == 'mid':\n",
    "                price_ref = (ticker.domAsks[0].price + ticker.domBids[0].price)/2\n",
    "            elif strategy_details['close_ref'] == 'last':\n",
    "                raise Exception('Not implemented')\n",
    "            \n",
    "            lmtPrice = price_ref + strategy_details['close_ticks'] * strategy_details['tick_increment']\n",
    "            print(f\"Placing close trade: {action}, {strategy_details['close_type']}, totalQuantity {qty}, lmtPrice {lmtPrice}\")\n",
    "            \n",
    "            if strategy_details['close_type'] == \"LIMIT\":\n",
    "                close_order = LimitOrder(\n",
    "                    action=action,\n",
    "                    totalQuantity=qty,\n",
    "                    lmtPrice=lmtPrice,\n",
    "                    account=\"U10394496\",\n",
    "                )\n",
    "            else:\n",
    "                raise Exception('Not implemented')\n",
    "            \n",
    "            close_trade = ib.placeOrder(contract, close_order)\n",
    "            ib.sleep(1)\n",
    "            play_beep()\n",
    "        elif (\n",
    "            open_trade.orderStatus.status == \"Inactive\"\n",
    "            or open_trade.orderStatus.status == \"Cancelled\"\n",
    "        ) and close_trade is None:\n",
    "            print(\"***** order is inactive *****\")\n",
    "            print(open_trade.log)\n",
    "            print(\"*****************************\")\n",
    "            open_trade = None\n",
    "\n",
    "    print(f\"CLOSE ORDER::\")\n",
    "    print_order(close_trade)\n",
    "\n",
    "    if close_trade is not None:\n",
    "        if close_trade.orderStatus.status == \"Filled\":\n",
    "            play_beep()\n",
    "            print(\"Close trade filled @ {}\".format(close_trade.orderStatus.avgFillPrice))\n",
    "            open_trade = None\n",
    "            close_trade = None\n",
    "    print()\n",
    "    print(\"ALL OPEN ORDERS::\")\n",
    "    print_all_openorders(ib=ib)\n",
    "    print()\n",
    "\n",
    "    # get current position of contract\n",
    "    future = [pos for pos in ib.positions() if pos.contract.symbol == \"NQ\"][0]\n",
    "    print(f'NQM2024: {ib.ticker(contract=contract).domBids[0].price}')    \n",
    "    print(f\"Position: {future.contract.symbol} {future.position} @ {future.avgCost/float(contract.multiplier)}\"\n",
    "    )\n",
    "    acct_fields = ib.accountSummary(account=\"U10394496\")\n",
    "    print(f\"NetLiquidation: {[v for v in ib.accountValues() if v.tag == 'NetLiquidationByCurrency' and v.currency == 'BASE' and v.account == 'U10394496'][0].value}\")\n",
    "    \n",
    "    for i in range(3):\n",
    "        print(\".\", end=\"\")\n",
    "        time.sleep(1)"
   ]
  },
  {
   "cell_type": "code",
   "execution_count": 57,
   "metadata": {},
   "outputs": [
    {
     "data": {
      "text/plain": [
       "-4.0"
      ]
     },
     "execution_count": 57,
     "metadata": {},
     "output_type": "execute_result"
    }
   ],
   "source": [
    "future = [pos for pos in ib.positions() if pos.contract.symbol == \"NQ\"][0]\n",
    "future.position"
   ]
  },
  {
   "cell_type": "code",
   "execution_count": 60,
   "metadata": {},
   "outputs": [
    {
     "data": {
      "text/plain": [
       "17700.5"
      ]
     },
     "execution_count": 60,
     "metadata": {},
     "output_type": "execute_result"
    }
   ],
   "source": [
    "ib.ticker(contract=contract).domBids[0].price"
   ]
  },
  {
   "cell_type": "code",
   "execution_count": null,
   "metadata": {},
   "outputs": [
    {
     "name": "stdout",
     "output_type": "stream",
     "text": [
      "None\n"
     ]
    },
    {
     "data": {
      "text/plain": [
       "[TradeLogEntry(time=datetime.datetime(2024, 4, 30, 16, 2, 16, 667472, tzinfo=datetime.timezone.utc), status='PendingSubmit', message='', errorCode=0)]"
      ]
     },
     "execution_count": 32,
     "metadata": {},
     "output_type": "execute_result"
    },
    {
     "name": "stderr",
     "output_type": "stream",
     "text": [
      "Error 1100, reqId -1: Connectivity between IB and Trader Workstation has been lost.\n",
      "Error 1100, reqId -1: Connectivity between IB and Trader Workstation has been lost.\n",
      "Error 1100, reqId -1: Connectivity between IB and Trader Workstation has been lost.\n",
      "Error 1100, reqId -1: Connectivity between IB and Trader Workstation has been lost.\n",
      "Error 317, reqId 6: Market depth data has been RESET. Please empty deep book contents before applying any new entries., contract: Contract(secType='FUT', conId=620730920, symbol='NQ', lastTradeDateOrContractMonth='20240621', multiplier='20', exchange='CME', currency='USD', localSymbol='NQM4', tradingClass='NQ')\n",
      "Peer closed connection.\n",
      "Peer closed connection.\n"
     ]
    }
   ],
   "source": [
    "print(close_trade)\n",
    "close_trade = ib.placeOrder(contract, close_order)\n",
    "close_trade.log"
   ]
  },
  {
   "cell_type": "code",
   "execution_count": 26,
   "metadata": {},
   "outputs": [
    {
     "name": "stdout",
     "output_type": "stream",
     "text": [
      "symbol\tpermId\t\tstatus\t\taction\tfilled\tremaining\tlmtPrice\n",
      "NQ\t1786380182\tSubmitted\tBUY\t0.0\t1.0\t\t17150.0\t\n",
      "NQ\t1786380178\tSubmitted\tBUY\t0.0\t1.0\t\t17323.0\t\n",
      "NQ\t1528433802\tSubmitted\tBUY\t0.0\t3.0\t\t17526.0\t\n",
      "NQ\t1436152242\tSubmitted\tBUY\t0.0\t1.0\t\t17547.25\t\n",
      "NQ\t1056387955\tSubmitted\tSELL\t0.0\t2.0\t\t20480.0\t\n"
     ]
    }
   ],
   "source": [
    "print_all_openorders(ib=ib)"
   ]
  },
  {
   "cell_type": "code",
   "execution_count": 31,
   "metadata": {},
   "outputs": [
    {
     "name": "stdout",
     "output_type": "stream",
     "text": [
      "NQ\t1786380182\tSubmitted\tBUY\t0.0\t1.0\t\t17150.0\t\n",
      "NQ\t1786380178\tSubmitted\tBUY\t0.0\t1.0\t\t17323.0\t\n",
      "NQ\t1528433802\tSubmitted\tBUY\t0.0\t3.0\t\t17526.0\t\n",
      "NQ\t1436152242\tSubmitted\tBUY\t0.0\t1.0\t\t17547.25\t\n",
      "NQ\t1056387955\tSubmitted\tSELL\t0.0\t2.0\t\t20480.0\t\n"
     ]
    }
   ],
   "source": [
    "trades = ib.reqAllOpenOrders()\n",
    "\n",
    "trades.sort(key=lambda trade: trade.order.lmtPrice)\n",
    "\n",
    "for trade in trades:\n",
    "    orderstatus = trade.orderStatus\n",
    "    order = trade.order\n",
    "\n",
    "    if trade.contract.symbol != 'NQ':\n",
    "        continue\n",
    "\n",
    "    print(\n",
    "        f\"{trade.contract.symbol}\\t{order.permId}\\t{orderstatus.status}\\t{order.action}\\t{orderstatus.filled}\\t{orderstatus.remaining}\\t\\t{order.lmtPrice}\\t\"\n",
    "    )\n"
   ]
  },
  {
   "cell_type": "code",
   "execution_count": null,
   "metadata": {},
   "outputs": [],
   "source": []
  },
  {
   "cell_type": "code",
   "execution_count": 47,
   "metadata": {},
   "outputs": [
    {
     "name": "stdout",
     "output_type": "stream",
     "text": [
      "AccountType : INDIVIDUAL\n",
      "Cushion : 0.68701\n",
      "LookAheadNextChange : 1714507200\n",
      "AccruedCash : 0.00\n",
      "AvailableFunds : 49644.45\n",
      "BuyingPower : 584618.24\n",
      "EquityWithLoanValue : 146154.56\n",
      "ExcessLiquidity : 146154.56\n",
      "FullAvailableFunds : 49644.45\n",
      "FullExcessLiquidity : 118710.19\n",
      "FullInitMarginReq : 100629.35\n",
      "FullMaintMarginReq : 91481.23\n",
      "GrossPositionValue : 2548.72\n",
      "InitMarginReq : 70440.54\n",
      "LookAheadAvailableFunds : 49644.45\n",
      "LookAheadExcessLiquidity : 118710.19\n",
      "LookAheadInitMarginReq : 100629.35\n",
      "LookAheadMaintMarginReq : 91481.23\n",
      "MaintMarginReq : 64036.86\n",
      "NetLiquidation : 212740.14\n",
      "PreviousDayEquityWithLoanValue : 0.00\n",
      "RegTEquity : 0.01\n",
      "RegTMargin : 0.00\n",
      "SMA : 623470.03\n",
      "TotalCashValue : 210191.42\n"
     ]
    }
   ],
   "source": [
    "print_account_summary(ib=ib)"
   ]
  }
 ],
 "metadata": {
  "kernelspec": {
   "display_name": "Python 3",
   "language": "python",
   "name": "python3"
  },
  "language_info": {
   "codemirror_mode": {
    "name": "ipython",
    "version": 3
   },
   "file_extension": ".py",
   "mimetype": "text/x-python",
   "name": "python",
   "nbconvert_exporter": "python",
   "pygments_lexer": "ipython3",
   "version": "3.11.4"
  }
 },
 "nbformat": 4,
 "nbformat_minor": 4
}
