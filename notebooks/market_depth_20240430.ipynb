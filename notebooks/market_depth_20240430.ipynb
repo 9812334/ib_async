{
 "cells": [
  {
   "cell_type": "code",
   "execution_count": 1,
   "metadata": {},
   "outputs": [
    {
     "data": {
      "text/html": [
       "<style>.output_subarea { overflow: auto; }</style>"
      ],
      "text/plain": [
       "<IPython.core.display.HTML object>"
      ]
     },
     "metadata": {},
     "output_type": "display_data"
    }
   ],
   "source": [
    "from IPython.display import clear_output\n",
    "import time\n",
    "import os\n",
    "import datetime\n",
    "\n",
    "from tools import *\n",
    "\n",
    "play_beep()\n",
    "\n",
    "from IPython.display import display\n",
    "from IPython.core.display import HTML\n",
    "\n",
    "\n",
    "def display_full_output():\n",
    "    display(HTML(\"<style>.output_subarea { overflow: auto; }</style>\"))\n",
    "\n",
    "\n",
    "display_full_output()"
   ]
  },
  {
   "cell_type": "code",
   "execution_count": 2,
   "metadata": {},
   "outputs": [
    {
     "data": {
      "text/plain": [
       "<IB connected to 127.0.0.1:4001 clientId=10>"
      ]
     },
     "execution_count": 2,
     "metadata": {},
     "output_type": "execute_result"
    },
    {
     "name": "stderr",
     "output_type": "stream",
     "text": [
      "Error 1100, reqId -1: Connectivity between IB and Trader Workstation has been lost.\n",
      "Error 317, reqId 46: Market depth data has been RESET. Please empty deep book contents before applying any new entries., contract: Contract(secType='FUT', conId=620730920, symbol='NQ', lastTradeDateOrContractMonth='20240621', multiplier='20', exchange='CME', currency='USD', localSymbol='NQM4', tradingClass='NQ')\n",
      "Error 1102, reqId -1: Connectivity between IB and Trader Workstation has been restored - data maintained. The following farms are connected: usfuture; usfarm; secdefil. The following farms are not connected: ushmds.\n",
      "Error 317, reqId 46: Market depth data has been RESET. Please empty deep book contents before applying any new entries., contract: Contract(secType='FUT', conId=620730920, symbol='NQ', lastTradeDateOrContractMonth='20240621', multiplier='20', exchange='CME', currency='USD', localSymbol='NQM4', tradingClass='NQ')\n",
      "Error 1100, reqId -1: Connectivity between IB and Trader Workstation has been lost.\n",
      "Error 1102, reqId -1: Connectivity between IB and Trader Workstation has been restored - data maintained. The following farms are connected: usfuture; usfarm; secdefil. The following farms are not connected: ushmds.\n",
      "Error 317, reqId 46: Market depth data has been RESET. Please empty deep book contents before applying any new entries., contract: Contract(secType='FUT', conId=620730920, symbol='NQ', lastTradeDateOrContractMonth='20240621', multiplier='20', exchange='CME', currency='USD', localSymbol='NQM4', tradingClass='NQ')\n",
      "Error 317, reqId 46: Market depth data has been RESET. Please empty deep book contents before applying any new entries., contract: Contract(secType='FUT', conId=620730920, symbol='NQ', lastTradeDateOrContractMonth='20240621', multiplier='20', exchange='CME', currency='USD', localSymbol='NQM4', tradingClass='NQ')\n"
     ]
    }
   ],
   "source": [
    "from ib_async import *\n",
    "\n",
    "util.startLoop()\n",
    "\n",
    "ib = IB()\n",
    "ib.connect(\"127.0.0.1\", 4001, clientId=10)\n",
    "# util.logToConsole()"
   ]
  },
  {
   "cell_type": "code",
   "execution_count": 3,
   "metadata": {},
   "outputs": [],
   "source": [
    "from IPython.display import display, clear_output\n",
    "import pandas as pd\n",
    "\n",
    "df = pd.DataFrame(index=range(5), columns=\"bidSize bidPrice askPrice askSize\".split())\n",
    "\n",
    "# NQM2024 contract\n",
    "contract = Contract(conId=620730920)\n",
    "ib.qualifyContracts(contract)\n",
    "\n",
    "ticker = ib.reqMktDepth(contract)\n",
    "\n",
    "\n",
    "def onTickerUpdate(ticker):\n",
    "    bids = ticker.domBids\n",
    "    for i in range(5):\n",
    "        df.iloc[i, 0] = bids[i].size if i < len(bids) else 0\n",
    "        df.iloc[i, 1] = bids[i].price if i < len(bids) else 0\n",
    "    asks = ticker.domAsks\n",
    "    for i in range(5):\n",
    "        df.iloc[i, 2] = asks[i].price if i < len(asks) else 0\n",
    "        df.iloc[i, 3] = asks[i].size if i < len(asks) else 0\n",
    "    clear_output(wait=True)\n",
    "    display(df)\n",
    "\n",
    "\n",
    "# ticker.updateEvent += onTickerUpdate\n",
    "\n",
    "# IB.sleep(15)"
   ]
  },
  {
   "cell_type": "code",
   "execution_count": 4,
   "metadata": {},
   "outputs": [],
   "source": [
    "ib.cancelMktDepth(contract)"
   ]
  },
  {
   "cell_type": "code",
   "execution_count": 4,
   "metadata": {},
   "outputs": [
    {
     "data": {
      "text/plain": [
       "[Position(account='U10394496', contract=Option(conId=637079300, symbol='HYG', lastTradeDateOrContractMonth='20240621', strike=73.0, right='P', multiplier='100', currency='USD', localSymbol='HYG   240621P00073000', tradingClass='HYG'), position=50.0, avgCost=12.44685),\n",
       " Position(account='U10394496', contract=Option(conId=682674010, symbol='AAPL', lastTradeDateOrContractMonth='20241018', strike=150.0, right='P', multiplier='100', currency='USD', localSymbol='AAPL  241018P00150000', tradingClass='AAPL'), position=2.0, avgCost=244.69685),\n",
       " Position(account='U10394496', contract=Option(conId=669333316, symbol='NVDA', lastTradeDateOrContractMonth='20240719', strike=555.0, right='P', multiplier='100', currency='USD', localSymbol='NVDA  240719P00555000', tradingClass='NVDA'), position=1.0, avgCost=493.0494),\n",
       " Position(account='U10394496', contract=Option(conId=613471094, symbol='GOOGL', lastTradeDateOrContractMonth='20240920', strike=120.0, right='P', multiplier='100', currency='USD', localSymbol='GOOGL 240920P00120000', tradingClass='GOOGL'), position=10.0, avgCost=51.44685),\n",
       " Position(account='U10394496', contract=Future(conId=620730920, symbol='NQ', lastTradeDateOrContractMonth='20240621', multiplier='20', currency='USD', localSymbol='NQM4', tradingClass='NQ'), position=-6.0, avgCost=358101.07087185),\n",
       " Position(account='U10394496', contract=Option(conId=699532596, symbol='QQQ', lastTradeDateOrContractMonth='20240607', strike=400.0, right='P', multiplier='100', currency='USD', localSymbol='QQQ   240607P00400000', tradingClass='QQQ'), position=2.0, avgCost=207.69685)]"
      ]
     },
     "execution_count": 4,
     "metadata": {},
     "output_type": "execute_result"
    }
   ],
   "source": [
    "ib.positions(account=\"U10394496\")"
   ]
  },
  {
   "cell_type": "code",
   "execution_count": 4,
   "metadata": {},
   "outputs": [
    {
     "name": "stdout",
     "output_type": "stream",
     "text": [
      "symbol\tpermId\t\tstatus\t\taction\tfilled\tremaining\tlmtPrice\n",
      "NQ\t1939815533\tSubmitted\tSELL\t0.0\t1.0\t\t17916.0\t\n"
     ]
    }
   ],
   "source": [
    "# default reset values\n",
    "buy2open = None\n",
    "# get a specific order by id\n",
    "trades = get_all_openorders(ib)\n",
    "sell2close = [trade for trade in trades if trade.order.permId == 1939815533][0]\n",
    "print_order(sell2close)\n",
    "\n",
    "future = [\n",
    "    pos for pos in ib.positions(account=\"U10394496\") if pos.contract.symbol == \"NQ\"\n",
    "][0]\n",
    "\n",
    "tick_tp = 10\n",
    "ticrement = 0.25"
   ]
  },
  {
   "cell_type": "code",
   "execution_count": 5,
   "metadata": {},
   "outputs": [
    {
     "name": "stdout",
     "output_type": "stream",
     "text": [
      "BUY TO OPEN:\n",
      "None\n",
      "\n",
      "SELL TO CLOSE:\n",
      "symbol\tpermId\t\tstatus\t\taction\tfilled\tremaining\tlmtPrice\n",
      "NQ\t1939815533\tSubmitted\tSELL\t0.0\t1.0\t\t17916.0\t\n",
      "\n",
      "\n",
      "ALL OPEN ORDERS:\n",
      "symbol\tpermId\t\tstatus\t\taction\tfilled\tremaining\tlmtPrice\n",
      "NQ\t1786380182\tSubmitted\tBUY\t0.0\t1.0\t\t17150.0\t\n",
      "NQ\t1786380178\tSubmitted\tBUY\t0.0\t1.0\t\t17323.0\t\n",
      "NQ\t1528433802\tSubmitted\tBUY\t0.0\t3.0\t\t17526.0\t\n",
      "NQ\t1436152242\tSubmitted\tBUY\t0.0\t1.0\t\t17547.25\t\n",
      "NQ\t1939815533\tSubmitted\tSELL\t0.0\t1.0\t\t17916.0\t\n",
      "NQ\t1056387955\tPreSubmitted\tSELL\t0.0\t2.0\t\t20480.0\t\n",
      "\n",
      "Current position:\n",
      "NQ:  -6.0 @ 17905.0535435925\n",
      "AccountType : INDIVIDUAL\n",
      "Cushion : 0.265488\n",
      "LookAheadNextChange : 1714483800\n",
      "AccruedCash : 0.00\n",
      "AvailableFunds : 37124.81\n",
      "BuyingPower : 203954.02\n",
      "EquityWithLoanValue : 50988.51\n",
      "ExcessLiquidity : 50988.51\n",
      "FullAvailableFunds : 37124.81\n",
      "FullExcessLiquidity : 50988.51\n",
      "FullInitMarginReq : 152500.69\n",
      "FullMaintMarginReq : 138636.99\n",
      "GrossPositionValue : 2430.40\n",
      "InitMarginReq : 152500.69\n",
      "LookAheadAvailableFunds : 49644.45\n",
      "LookAheadExcessLiquidity : 92579.60\n",
      "LookAheadInitMarginReq : 106750.48\n",
      "LookAheadMaintMarginReq : 97045.89\n",
      "MaintMarginReq : 138636.99\n",
      "NetLiquidation : 192055.90\n",
      "PreviousDayEquityWithLoanValue : 0.00\n",
      "RegTEquity : 0.01\n",
      "RegTMargin : 0.00\n",
      "SMA : 623470.03\n",
      "TotalCashValue : 189625.50\n",
      "\n",
      "...."
     ]
    },
    {
     "ename": "KeyboardInterrupt",
     "evalue": "",
     "output_type": "error",
     "traceback": [
      "\u001b[0;31m---------------------------------------------------------------------------\u001b[0m",
      "\u001b[0;31mKeyboardInterrupt\u001b[0m                         Traceback (most recent call last)",
      "Cell \u001b[0;32mIn[5], line 93\u001b[0m\n\u001b[1;32m     91\u001b[0m \u001b[38;5;28;01mfor\u001b[39;00m i \u001b[38;5;129;01min\u001b[39;00m \u001b[38;5;28mrange\u001b[39m(\u001b[38;5;241m5\u001b[39m):\n\u001b[1;32m     92\u001b[0m     \u001b[38;5;28mprint\u001b[39m(\u001b[38;5;124m\"\u001b[39m\u001b[38;5;124m.\u001b[39m\u001b[38;5;124m\"\u001b[39m, end\u001b[38;5;241m=\u001b[39m\u001b[38;5;124m\"\u001b[39m\u001b[38;5;124m\"\u001b[39m)\n\u001b[0;32m---> 93\u001b[0m     \u001b[43mtime\u001b[49m\u001b[38;5;241;43m.\u001b[39;49m\u001b[43msleep\u001b[49m\u001b[43m(\u001b[49m\u001b[38;5;241;43m1\u001b[39;49m\u001b[43m)\u001b[49m\n",
      "\u001b[0;31mKeyboardInterrupt\u001b[0m: "
     ]
    }
   ],
   "source": [
    "########################################\n",
    "## BUY TO OPEN SCALP 0.1\n",
    "########################################\n",
    "\n",
    "while True:\n",
    "    clear_output(wait=True)  # Clear the output before printing new output\n",
    "\n",
    "    # first order of the strategy\n",
    "    if buy2open is None and sell2close is None:\n",
    "        os.system(\"afplay /System/Library/Sounds/Submarine.aiff\")\n",
    "        print(\"Placing L1.bto\")\n",
    "        action = \"BUY\"\n",
    "        totalQuantity = 1\n",
    "        lmtPrice = ticker.domBids[0].price - tick_tp * ticrement\n",
    "        print(f\"{action}, totalQuantity {totalQuantity}, lmtPrice {lmtPrice}\")\n",
    "        print()\n",
    "\n",
    "        limit_bto = LimitOrder(\n",
    "            action=action,\n",
    "            totalQuantity=totalQuantity,\n",
    "            lmtPrice=lmtPrice,\n",
    "            account=\"U10394496\",\n",
    "        )\n",
    "        buy2open = ib.placeOrder(contract, limit_bto)\n",
    "        buy2open_ts = datetime.datetime.now()\n",
    "        ib.sleep(1)\n",
    "\n",
    "    print(f\"BUY TO OPEN:\")\n",
    "    print_order(buy2open)\n",
    "    print()\n",
    "\n",
    "    if buy2open is not None:\n",
    "        if buy2open.orderStatus.status == \"Submitted\" and sell2close is None:\n",
    "            print(\n",
    "                f\"Waiting to get filled L1.bto {buy2open.order.permId} {buy2open.orderStatus.status}\"\n",
    "            )\n",
    "\n",
    "            if datetime.datetime.now() - buy2open_ts > datetime.timedelta(minutes=5):\n",
    "                print(\"Cancelling order due to timeout\")\n",
    "                ib.cancelOrder(buy2open.order)\n",
    "                ib.sleep(1)\n",
    "                print(buy2open.log)\n",
    "            print()\n",
    "        if buy2open.orderStatus.status == \"Filled\" and sell2close is None:\n",
    "            os.system(\"afplay /System/Library/Sounds/Submarine.aiff\")\n",
    "            print(\"Placing L2.stc\")\n",
    "            action = \"SELL\"\n",
    "            totalQuantity = 1\n",
    "            lmtPrice = buy2open.orderStatus.avgFillPrice + tick_tp * ticrement\n",
    "            print(f\"{action}, totalQuantity {totalQuantity}, lmtPrice {lmtPrice}\")\n",
    "            limit_stc = LimitOrder(\n",
    "                action=action,\n",
    "                totalQuantity=totalQuantity,\n",
    "                lmtPrice=lmtPrice,\n",
    "                account=\"U10394496\",\n",
    "            )\n",
    "            sell2close = ib.placeOrder(contract, limit_stc)\n",
    "            ib.sleep(1)\n",
    "        elif (\n",
    "            buy2open.orderStatus.status == \"Inactive\"\n",
    "            or buy2open.orderStatus.status == \"Cancelled\"\n",
    "        ) and sell2close is None:\n",
    "            print(\"***** order is inactive *****\")\n",
    "            print(buy2open.log)\n",
    "            print(\"*****************************\")\n",
    "            buy2open = None\n",
    "\n",
    "    print(f\"SELL TO CLOSE:\")\n",
    "    print_order(sell2close)\n",
    "\n",
    "    if sell2close is not None:\n",
    "        if sell2close.orderStatus.status == \"Filled\":\n",
    "            os.system(\"afplay /System/Library/Sounds/Submarine.aiff\")\n",
    "            print(\"L2.stc filled @ {}\".format(sell2close.orderStatus.avgFillPrice))\n",
    "            buy2open = None\n",
    "            sell2close = None\n",
    "    print()\n",
    "    print()\n",
    "    print(\"ALL OPEN ORDERS:\")\n",
    "    print_all_openorders(ib=ib)\n",
    "    print()\n",
    "\n",
    "    # get current position of contract NQM2024\n",
    "    print(\"Current position:\")\n",
    "    print(\n",
    "        f\"{future.contract.symbol}:  {future.position} @ {future.avgCost/float(contract.multiplier)}\"\n",
    "    )\n",
    "\n",
    "    print_account_summary(ib=ib)\n",
    "    print()\n",
    "    for i in range(5):\n",
    "        print(\".\", end=\"\")\n",
    "        time.sleep(1)"
   ]
  }
 ],
 "metadata": {
  "kernelspec": {
   "display_name": "Python 3",
   "language": "python",
   "name": "python3"
  },
  "language_info": {
   "codemirror_mode": {
    "name": "ipython",
    "version": 3
   },
   "file_extension": ".py",
   "mimetype": "text/x-python",
   "name": "python",
   "nbconvert_exporter": "python",
   "pygments_lexer": "ipython3",
   "version": "3.11.4"
  }
 },
 "nbformat": 4,
 "nbformat_minor": 4
}
