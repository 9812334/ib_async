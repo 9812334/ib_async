{
 "cells": [
  {
   "cell_type": "code",
   "execution_count": 1,
   "metadata": {},
   "outputs": [
    {
     "data": {
      "text/html": [
       "<style>.output_subarea { overflow: auto; }</style>"
      ],
      "text/plain": [
       "<IPython.core.display.HTML object>"
      ]
     },
     "metadata": {},
     "output_type": "display_data"
    }
   ],
   "source": [
    "from IPython.display import clear_output\n",
    "\n",
    "import datetime\n",
    "import time\n",
    "import os\n",
    "\n",
    "\n",
    "from tools import (\n",
    "    play_beep,\n",
    "    print_account_summary,\n",
    "    print_order,\n",
    "    print_all_openorders,\n",
    "    get_all_openorders,\n",
    ")\n",
    "\n",
    "from IPython.display import display\n",
    "from IPython.core.display import HTML\n",
    "\n",
    "play_beep()\n",
    "\n",
    "display(HTML(\"<style>.output_subarea { overflow: auto; }</style>\"))"
   ]
  },
  {
   "cell_type": "code",
   "execution_count": 3,
   "metadata": {},
   "outputs": [],
   "source": [
    "from ib_async import *\n",
    "\n",
    "util.startLoop()\n",
    "\n",
    "ib = IB()\n",
    "ib.connect(\"127.0.0.1\", 4001, clientId=123)\n",
    "util.logToConsole()"
   ]
  },
  {
   "cell_type": "code",
   "execution_count": 4,
   "metadata": {},
   "outputs": [],
   "source": [
    "from IPython.display import display, clear_output\n",
    "import pandas as pd\n",
    "\n",
    "df = pd.DataFrame(index=range(5), columns=\"bidSize bidPrice askPrice askSize\".split())\n",
    "\n",
    "# NQM2024 contract\n",
    "contract = Contract(conId=620730920)\n",
    "ib.qualifyContracts(contract)\n",
    "\n",
    "ticker = ib.reqMktDepth(contract)\n",
    "\n",
    "\n",
    "def onTickerUpdate(ticker):\n",
    "    bids = ticker.domBids\n",
    "    for i in range(5):\n",
    "        df.iloc[i, 0] = bids[i].size if i < len(bids) else 0\n",
    "        df.iloc[i, 1] = bids[i].price if i < len(bids) else 0\n",
    "    asks = ticker.domAsks\n",
    "    for i in range(5):\n",
    "        df.iloc[i, 2] = asks[i].price if i < len(asks) else 0\n",
    "        df.iloc[i, 3] = asks[i].size if i < len(asks) else 0\n",
    "    clear_output(wait=True)\n",
    "    display(df)\n",
    "\n",
    "\n",
    "# ticker.updateEvent += onTickerUpdate\n",
    "\n",
    "# IB.sleep(15)"
   ]
  },
  {
   "cell_type": "code",
   "execution_count": null,
   "metadata": {},
   "outputs": [],
   "source": [
    "ib.cancelMktDepth(contract)"
   ]
  },
  {
   "cell_type": "code",
   "execution_count": 5,
   "metadata": {},
   "outputs": [
    {
     "data": {
      "text/plain": [
       "[Position(account='U10394496', contract=Option(conId=637079300, symbol='HYG', lastTradeDateOrContractMonth='20240621', strike=73.0, right='P', multiplier='100', currency='USD', localSymbol='HYG   240621P00073000', tradingClass='HYG'), position=50.0, avgCost=12.44685),\n",
       " Position(account='U10394496', contract=Option(conId=682674010, symbol='AAPL', lastTradeDateOrContractMonth='20241018', strike=150.0, right='P', multiplier='100', currency='USD', localSymbol='AAPL  241018P00150000', tradingClass='AAPL'), position=2.0, avgCost=244.69685),\n",
       " Position(account='U10394496', contract=Option(conId=669333316, symbol='NVDA', lastTradeDateOrContractMonth='20240719', strike=555.0, right='P', multiplier='100', currency='USD', localSymbol='NVDA  240719P00555000', tradingClass='NVDA'), position=1.0, avgCost=493.0494),\n",
       " Position(account='U10394496', contract=Option(conId=689749183, symbol='LLY', lastTradeDateOrContractMonth='20240816', strike=620.0, right='P', multiplier='100', currency='USD', localSymbol='LLY   240816P00620000', tradingClass='LLY'), position=1.0, avgCost=481.04685),\n",
       " Position(account='U10394496', contract=Option(conId=613471094, symbol='GOOGL', lastTradeDateOrContractMonth='20240920', strike=120.0, right='P', multiplier='100', currency='USD', localSymbol='GOOGL 240920P00120000', tradingClass='GOOGL'), position=10.0, avgCost=51.44685),\n",
       " Position(account='U10394496', contract=Future(conId=620730920, symbol='NQ', lastTradeDateOrContractMonth='20240621', multiplier='20', currency='USD', localSymbol='NQM4', tradingClass='NQ'), position=-2.0, avgCost=350208.07671815),\n",
       " Position(account='U10394496', contract=Option(conId=699532596, symbol='QQQ', lastTradeDateOrContractMonth='20240607', strike=400.0, right='P', multiplier='100', currency='USD', localSymbol='QQQ   240607P00400000', tradingClass='QQQ'), position=2.0, avgCost=207.69685)]"
      ]
     },
     "execution_count": 5,
     "metadata": {},
     "output_type": "execute_result"
    }
   ],
   "source": [
    "ib.positions(account=\"U10394496\")"
   ]
  },
  {
   "cell_type": "code",
   "execution_count": 33,
   "metadata": {},
   "outputs": [
    {
     "name": "stdout",
     "output_type": "stream",
     "text": [
      "449873795\n",
      "1939818441\n",
      "253828840\n"
     ]
    },
    {
     "data": {
      "text/plain": [
       "[None, None, None]"
      ]
     },
     "execution_count": 33,
     "metadata": {},
     "output_type": "execute_result"
    }
   ],
   "source": [
    "[print(trade.order.permId) for trade in trades ]"
   ]
  },
  {
   "cell_type": "code",
   "execution_count": 34,
   "metadata": {},
   "outputs": [
    {
     "name": "stdout",
     "output_type": "stream",
     "text": [
      "[]\n",
      "Position(account='U10394496', contract=Future(conId=620730920, symbol='NQ', lastTradeDateOrContractMonth='20240621', multiplier='20', currency='USD', localSymbol='NQM4', tradingClass='NQ'), position=-2.0, avgCost=350208.07671815)\n",
      "AccountType : INDIVIDUAL\n",
      "Cushion : 0.775311\n",
      "LookAheadNextChange : 1714570200\n",
      "AccruedCash : 0.00\n",
      "AvailableFunds : 164789.38\n",
      "BuyingPower : 677279.44\n",
      "EquityWithLoanValue : 169319.86\n",
      "ExcessLiquidity : 169319.86\n",
      "FullAvailableFunds : 164789.38\n",
      "FullExcessLiquidity : 169319.86\n",
      "FullInitMarginReq : 49835.31\n",
      "FullMaintMarginReq : 45304.83\n",
      "GrossPositionValue : 3764.95\n",
      "InitMarginReq : 49835.31\n",
      "LookAheadAvailableFunds : 179739.97\n",
      "LookAheadExcessLiquidity : 182911.31\n",
      "LookAheadInitMarginReq : 34884.72\n",
      "LookAheadMaintMarginReq : 31713.38\n",
      "MaintMarginReq : 45304.83\n",
      "NetLiquidation : 218389.64\n",
      "PreviousDayEquityWithLoanValue : 0.00\n",
      "RegTEquity : 0.00\n",
      "RegTMargin : 0.00\n",
      "SMA : 623475.35\n",
      "TotalCashValue : 214624.69\n"
     ]
    }
   ],
   "source": [
    "# default reset values\n",
    "open_trade = None\n",
    "close_trade = None\n",
    "# get a specific order by id\n",
    "\n",
    "trades = get_all_openorders(ib)\n",
    "open_trade = [trade for trade in trades if trade.order.permId == 1939818441]\n",
    "print(open_trade)\n",
    "\n",
    "future = [\n",
    "    pos for pos in ib.positions(account=\"U10394496\") if pos.contract.symbol == \"NQ\"\n",
    "][0]\n",
    "\n",
    "tick_tp = 10\n",
    "ticrement = 0.25\n",
    "\n",
    "print(future)\n",
    "print_account_summary(ib=ib)"
   ]
  },
  {
   "cell_type": "code",
   "execution_count": 29,
   "metadata": {},
   "outputs": [
    {
     "name": "stdout",
     "output_type": "stream",
     "text": [
      "Order(orderId=165, clientId=12, permId=1939818440, action='BUY', totalQuantity=1.0, orderType='LMT', lmtPrice=17520.5, auxPrice=0.0, tif='GTC', ocaType=3, displaySize=2147483647, trailStopPrice=17521.5, volatilityType=0, deltaNeutralOrderType='None', referencePriceType=0, account='U10394496', clearingIntent='IB', adjustedOrderType='None', cashQty=0.0, dontUseAutoPriceForHedge=True)\n"
     ]
    }
   ],
   "source": [
    "# print_all_openorders(ib=ib)\n",
    "# ib.cancelOrder(\n",
    "trades = get_all_openorders(ib)\n",
    "print(trades[1].order)"
   ]
  },
  {
   "cell_type": "code",
   "execution_count": 26,
   "metadata": {},
   "outputs": [
    {
     "name": "stdout",
     "output_type": "stream",
     "text": [
      "symbol\tpermId\t\tstatus\t\taction\tfilled\tremaining\tlmtPrice\n",
      "NQ\t449873795\tSubmitted\tBUY\t0.0\t4.0\t\t15705.0\t\n",
      "NQ\t1939818440\tSubmitted\tBUY\t0.0\t1.0\t\t17520.5\t\n",
      "NQ\t253828840\tSubmitted\tSELL\t0.0\t1.0\t\t17742.0\t\n"
     ]
    }
   ],
   "source": [
    "print_all_openorders(ib=ib)"
   ]
  },
  {
   "cell_type": "code",
   "execution_count": null,
   "metadata": {},
   "outputs": [],
   "source": [
    "open_trade = None\n",
    "close_trade = None"
   ]
  },
  {
   "cell_type": "code",
   "execution_count": null,
   "metadata": {},
   "outputs": [
    {
     "name": "stdout",
     "output_type": "stream",
     "text": [
      "OPEN ORDER::\n",
      "symbol\tpermId\t\tstatus\t\taction\tfilled\tremaining\tlmtPrice\n",
      "NQ\t1939818176\tSubmitted\t\tBUY\t0.0\t1.0\t\t17513.0\t\n",
      "\n",
      "Waiting to get filled on order #1939818176 (Submitted)\n",
      "\n",
      "CLOSE ORDER::\n",
      "None\n",
      "\n",
      "ALL OPEN ORDERS::\n",
      "symbol\tpermId\t\tstatus\t\taction\tfilled\tremaining\tlmtPrice\n",
      "NQ\t449873795\tSubmitted\tBUY\t0.0\t4.0\t\t15705.0\t\n",
      "NQ\t1939818176\tSubmitted\tBUY\t0.0\t1.0\t\t17513.0\t\n",
      "NQ\t253828840\tSubmitted\tSELL\t0.0\t1.0\t\t17742.0\t\n",
      "\n",
      "NQM2024: 17515.0\n",
      "Position: NQ -2.0 @ 17510.4038359075\n",
      "NetLiquidation: 218693.6232\n",
      "RealizedPnL: 1395.45\n",
      "UnrealizedPnL: 555.41\n",
      "OptionMarketValue: 3764.95\n",
      "TotalCashBalance: 214928.6732\n",
      "FuturesPNL: -485.00\n",
      ".."
     ]
    }
   ],
   "source": [
    "## SELL TO OPEN SCALP 0.1\n",
    "########################################\n",
    "\n",
    "sell_15_10_scalp = {\n",
    "    \"strategy\": \"SELL TO OPEN SCALP 15/10\",\n",
    "    \"contract\": \"NQM2024\",\n",
    "    \"tick_increment\": 0.25,\n",
    "    \"open_qty\": 1,\n",
    "    \"open_type\": \"LIMIT\",\n",
    "    \"open_action\": \"SELL\",\n",
    "    \"open_ref\": \"ask\",\n",
    "    \"open_ticks\": 15,\n",
    "    \"close_qty\": 1,\n",
    "    \"close_type\": \"LIMIT\",\n",
    "    \"close_action\": \"BUY\",\n",
    "    \"close_ref\": \"open_price_fill\",\n",
    "    \"close_ticks\": -10,\n",
    "}\n",
    "\n",
    "buy_10_10_scalp = {\n",
    "    \"strategy\": \"BUY TO OPEN SCALP 10/10\",\n",
    "    \"contract\": \"NQM2024\",\n",
    "    \"tick_increment\": 0.25,\n",
    "    \"open_qty\": 1,\n",
    "    \"open_type\": \"LIMIT\",\n",
    "    \"open_action\": \"BUY\",\n",
    "    \"open_ref\": \"bid\",\n",
    "    \"open_ticks\": -10,\n",
    "    \"close_qty\": 1,\n",
    "    \"close_type\": \"LIMIT\",\n",
    "    \"close_action\": \"SELL\",\n",
    "    \"close_ref\": \"open_price_fill\",\n",
    "    \"close_ticks\": 10,\n",
    "}\n",
    "\n",
    "strategy_details = buy_10_10_scalp\n",
    "\n",
    "print(strategy_details)\n",
    "\n",
    "while True:\n",
    "    clear_output(wait=True)  # Clear the output before printing new output\n",
    "\n",
    "    # first order of the strategy\n",
    "    if open_trade is None and close_trade is None:\n",
    "        action = strategy_details[\"open_action\"]\n",
    "        qty = strategy_details[\"open_qty\"]\n",
    "\n",
    "        if strategy_details[\"open_ref\"] == \"bid\":\n",
    "            price_ref = ticker.domBids[0].price\n",
    "        elif strategy_details[\"open_ref\"] == \"ask\":\n",
    "            price_ref = ticker.domAsks[0].price\n",
    "        elif strategy_details[\"open_ref\"] == \"mid\":\n",
    "            price_ref = (ticker.domAsks[0].price + ticker.domBids[0].price) / 2\n",
    "        elif strategy_details[\"open_ref\"] == \"last\":\n",
    "            raise Exception(\"Not implemented\")\n",
    "\n",
    "        lmtPrice = (\n",
    "            price_ref\n",
    "            + strategy_details[\"open_ticks\"] * strategy_details[\"tick_increment\"]\n",
    "        )\n",
    "        print(\n",
    "            f\"Placing open trade: {action}, {strategy_details['open_type']}, totalQuantity {qty}, lmtPrice {lmtPrice}\\n\"\n",
    "        )\n",
    "        print()\n",
    "\n",
    "        if strategy_details[\"open_type\"] == \"LIMIT\":\n",
    "            open_order = LimitOrder(\n",
    "                action=action,\n",
    "                totalQuantity=qty,\n",
    "                lmtPrice=lmtPrice,\n",
    "                account=\"U10394496\",\n",
    "            )\n",
    "        else:\n",
    "            raise Exception(\"Not implemented\")\n",
    "\n",
    "        open_trade = ib.placeOrder(contract, open_order)\n",
    "        open_order_ts = datetime.datetime.now()\n",
    "\n",
    "    print(\"OPEN ORDER::\")\n",
    "    print_order(open_trade)\n",
    "    print()\n",
    "\n",
    "    if open_trade is not None:\n",
    "        if open_trade.orderStatus.status == \"Submitted\" and close_trade is None:\n",
    "            print(\n",
    "                f\"Waiting to get filled on order #{open_trade.order.permId} ({open_trade.orderStatus.status})\\n\"\n",
    "            )\n",
    "\n",
    "            if datetime.datetime.now() - open_order_ts > datetime.timedelta(minutes=1):\n",
    "                print(\"Cancelling order due to timeout:\")\n",
    "                ib.cancelOrder(open_trade.order)\n",
    "                print()\n",
    "\n",
    "        if open_trade.orderStatus.status == \"Filled\" and close_trade is None:\n",
    "            action = strategy_details[\"close_action\"]\n",
    "            qty = strategy_details[\"close_qty\"]\n",
    "\n",
    "            if strategy_details[\"close_ref\"] == \"open_price_fill\":\n",
    "                price_ref = open_trade.orderStatus.avgFillPrice\n",
    "            if strategy_details[\"close_ref\"] == \"bid\":\n",
    "                price_ref = ticker.domBids[0].price\n",
    "            elif strategy_details[\"close_ref\"] == \"ask\":\n",
    "                price_ref = ticker.domAsks[0].price\n",
    "            elif strategy_details[\"close_ref\"] == \"mid\":\n",
    "                price_ref = (ticker.domAsks[0].price + ticker.domBids[0].price) / 2\n",
    "            elif strategy_details[\"close_ref\"] == \"last\":\n",
    "                raise Exception(\"Not implemented\")\n",
    "\n",
    "            lmtPrice = (\n",
    "                price_ref\n",
    "                + strategy_details[\"close_ticks\"] * strategy_details[\"tick_increment\"]\n",
    "            )\n",
    "            print(\n",
    "                f\"Placing close trade: {action}, {strategy_details['close_type']}, totalQuantity {qty}, lmtPrice {lmtPrice}\\n\"\n",
    "            )\n",
    "\n",
    "            if strategy_details[\"close_type\"] == \"LIMIT\":\n",
    "                close_order = LimitOrder(\n",
    "                    action=action,\n",
    "                    totalQuantity=qty,\n",
    "                    lmtPrice=lmtPrice,\n",
    "                    account=\"U10394496\",\n",
    "                )\n",
    "            else:\n",
    "                raise Exception(\"Not implemented\")\n",
    "\n",
    "            close_trade = ib.placeOrder(contract, close_order)\n",
    "            ib.sleep(1)\n",
    "            play_beep()\n",
    "\n",
    "        elif (\n",
    "            open_trade.orderStatus.status == \"Inactive\"\n",
    "            or open_trade.orderStatus.status == \"Cancelled\"\n",
    "        ) and close_trade is None:\n",
    "            print(\"***** order is inactive *****\")\n",
    "            print(open_trade.log)\n",
    "            print(\"*****************************\")\n",
    "            open_trade = None\n",
    "\n",
    "    print(f\"CLOSE ORDER::\")\n",
    "    print_order(close_trade)\n",
    "    print()\n",
    "\n",
    "    if close_trade is not None:\n",
    "        if close_trade.orderStatus.status == \"Filled\":\n",
    "            play_beep()\n",
    "            print(\n",
    "                \"Close trade filled @ {}\\n\".format(close_trade.orderStatus.avgFillPrice)\n",
    "            )\n",
    "            open_trade = None\n",
    "            close_trade = None\n",
    "\n",
    "            # small break before next trade\n",
    "            for i in range(5):\n",
    "                print(\".\", end=\"\")\n",
    "                time.sleep(1)\n",
    "\n",
    "    print(\"ALL OPEN ORDERS::\")\n",
    "    print_all_openorders(ib=ib)\n",
    "    print()\n",
    "\n",
    "    # get current position of contract\n",
    "    future = [pos for pos in ib.positions() if pos.contract.symbol == \"NQ\"][0]\n",
    "    print(f\"NQM2024: {ib.ticker(contract=contract).domBids[0].price}\")\n",
    "    print(\n",
    "        f\"Position: {future.contract.symbol} {future.position} @ {future.avgCost/float(contract.multiplier)}\"\n",
    "    )\n",
    "    # acct_fields = ib.accountSummary(account=\"U10394496\")\n",
    "    print(\n",
    "        f\"NetLiquidation: {[v for v in ib.accountValues() if v.tag == 'NetLiquidationByCurrency' and v.currency == 'BASE' and v.account == 'U10394496'][0].value}\"\n",
    "    )\n",
    "    print(\n",
    "        f\"RealizedPnL: {[v for v in ib.accountValues() if v.tag == 'RealizedPnL' and v.currency == 'BASE' and v.account == 'U10394496'][0].value}\"\n",
    "    )\n",
    "    print(\n",
    "        f\"UnrealizedPnL: {[v for v in ib.accountValues() if v.tag == 'UnrealizedPnL' and v.currency == 'BASE' and v.account == 'U10394496'][0].value}\"\n",
    "    )\n",
    "    print(\n",
    "        f\"OptionMarketValue: {[v for v in ib.accountValues() if v.tag == 'OptionMarketValue' and v.currency == 'BASE' and v.account == 'U10394496'][0].value}\"\n",
    "    )\n",
    "    print(\n",
    "        f\"TotalCashBalance: {[v for v in ib.accountValues() if v.tag == 'TotalCashBalance' and v.currency == 'BASE' and v.account == 'U10394496'][0].value}\"\n",
    "    )\n",
    "    print(\n",
    "        f\"FuturesPNL: {[v for v in ib.accountValues() if v.tag == 'FuturesPNL' and v.currency == 'BASE' and v.account == 'U10394496'][0].value}\"\n",
    "    )\n",
    "\n",
    "    for i in range(3):\n",
    "        print(\".\", end=\"\")\n",
    "        time.sleep(1)"
   ]
  },
  {
   "cell_type": "code",
   "execution_count": null,
   "metadata": {},
   "outputs": [],
   "source": [
    "ib.accountValues()"
   ]
  },
  {
   "cell_type": "code",
   "execution_count": null,
   "metadata": {},
   "outputs": [],
   "source": [
    "future = [pos for pos in ib.positions() if pos.contract.symbol == \"NQ\"][0]\n",
    "future.position"
   ]
  },
  {
   "cell_type": "code",
   "execution_count": null,
   "metadata": {},
   "outputs": [],
   "source": [
    "ib.ticker(contract=contract).domBids[0].price"
   ]
  },
  {
   "cell_type": "code",
   "execution_count": null,
   "metadata": {},
   "outputs": [],
   "source": [
    "print(close_trade)\n",
    "close_trade = ib.placeOrder(contract, close_order)\n",
    "close_trade.log"
   ]
  },
  {
   "cell_type": "code",
   "execution_count": null,
   "metadata": {},
   "outputs": [],
   "source": [
    "print_all_openorders(ib=ib)"
   ]
  },
  {
   "cell_type": "code",
   "execution_count": null,
   "metadata": {},
   "outputs": [],
   "source": [
    "trades = ib.reqAllOpenOrders()\n",
    "\n",
    "trades.sort(key=lambda trade: trade.order.lmtPrice)\n",
    "\n",
    "for trade in trades:\n",
    "    orderstatus = trade.orderStatus\n",
    "    order = trade.order\n",
    "\n",
    "    if trade.contract.symbol != \"NQ\":\n",
    "        continue\n",
    "\n",
    "    print(\n",
    "        f\"{trade.contract.symbol}\\t{order.permId}\\t{orderstatus.status}\\t{order.action}\\t{orderstatus.filled}\\t{orderstatus.remaining}\\t\\t{order.lmtPrice}\\t\"\n",
    "    )"
   ]
  },
  {
   "cell_type": "code",
   "execution_count": null,
   "metadata": {},
   "outputs": [],
   "source": []
  },
  {
   "cell_type": "code",
   "execution_count": null,
   "metadata": {},
   "outputs": [],
   "source": [
    "print_account_summary(ib=ib)"
   ]
  }
 ],
 "metadata": {
  "kernelspec": {
   "display_name": "Python 3",
   "language": "python",
   "name": "python3"
  },
  "language_info": {
   "codemirror_mode": {
    "name": "ipython",
    "version": 3
   },
   "file_extension": ".py",
   "mimetype": "text/x-python",
   "name": "python",
   "nbconvert_exporter": "python",
   "pygments_lexer": "ipython3",
   "version": "3.12.2"
  }
 },
 "nbformat": 4,
 "nbformat_minor": 4
}
