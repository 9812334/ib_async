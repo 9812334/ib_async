{
 "cells": [
  {
   "cell_type": "markdown",
   "metadata": {},
   "source": [
    "# Tick data\n",
    "\n",
    "For optimum results this notebook should be run during the Forex trading session."
   ]
  },
  {
   "cell_type": "code",
   "execution_count": 1,
   "metadata": {},
   "outputs": [
    {
     "data": {
      "text/plain": [
       "<IB connected to 127.0.0.1:4001 clientId=15>"
      ]
     },
     "execution_count": 1,
     "metadata": {},
     "output_type": "execute_result"
    },
    {
     "name": "stderr",
     "output_type": "stream",
     "text": [
      "Error 1100, reqId -1: Connectivity between IB and Trader Workstation has been lost.\n",
      "Error 1100, reqId -1: Connectivity between IB and Trader Workstation has been lost.\n",
      "Error 1102, reqId -1: Connectivity between IB and Trader Workstation has been restored - data maintained. The following farms are connected: usfuture; usfarm; cashhmds; secdefil. The following farms are not connected: ushmds.\n",
      "Error 1100, reqId -1: Connectivity between IB and Trader Workstation has been lost.\n",
      "Error 1100, reqId -1: Connectivity between IB and Trader Workstation has been lost.\n",
      "Error 1100, reqId -1: Connectivity between IB and Trader Workstation has been lost.\n",
      "Error 1100, reqId -1: Connectivity between IB and Trader Workstation has been lost.\n",
      "Error 1100, reqId -1: Connectivity between IB and Trader Workstation has been lost.\n",
      "Error 1100, reqId -1: Connectivity between IB and Trader Workstation has been lost.\n",
      "Error 1102, reqId -1: Connectivity between IB and Trader Workstation has been restored - data maintained. All data farms are connected: usfuture; usfarm; cashhmds; ushmds; secdefil.\n",
      "Peer closed connection.\n"
     ]
    }
   ],
   "source": [
    "from ib_async import *\n",
    "\n",
    "util.startLoop()\n",
    "\n",
    "ib = IB()\n",
    "ib.connect(\"127.0.0.1\", 4001, clientId=15)"
   ]
  },
  {
   "cell_type": "markdown",
   "metadata": {},
   "source": [
    "### Streaming tick data\n",
    "\n",
    "Create some Forex contracts:"
   ]
  },
  {
   "cell_type": "code",
   "execution_count": 2,
   "metadata": {},
   "outputs": [],
   "source": [
    "contracts = [\n",
    "    Forex(pair) for pair in (\"EURUSD\", \"USDJPY\", \"GBPUSD\", \"USDCHF\", \"USDCAD\", \"AUDUSD\")\n",
    "]\n",
    "ib.qualifyContracts(*contracts)\n",
    "\n",
    "eurusd = contracts[0]"
   ]
  },
  {
   "cell_type": "markdown",
   "metadata": {},
   "source": [
    "Request streaming ticks for them:"
   ]
  },
  {
   "cell_type": "code",
   "execution_count": 3,
   "metadata": {},
   "outputs": [],
   "source": [
    "for contract in contracts:\n",
    "    ib.reqMktData(contract, \"\", False, False)"
   ]
  },
  {
   "cell_type": "markdown",
   "metadata": {},
   "source": [
    "Wait a few seconds for the tickers to get filled."
   ]
  },
  {
   "cell_type": "code",
   "execution_count": 4,
   "metadata": {},
   "outputs": [
    {
     "data": {
      "text/plain": [
       "Ticker(contract=Forex('EURUSD', conId=12087792, exchange='IDEALPRO', localSymbol='EUR.USD', tradingClass='EUR.USD'), time=datetime.datetime(2024, 5, 1, 22, 41, 20, 200620, tzinfo=datetime.timezone.utc), minTick=1e-05, bid=1.07173, bidSize=2000000.0, ask=1.07177, askSize=7000000.0, prevAsk=1.07175, prevAskSize=6000000.0, high=1.0721, low=1.0708, close=1.0713)"
      ]
     },
     "execution_count": 4,
     "metadata": {},
     "output_type": "execute_result"
    }
   ],
   "source": [
    "ticker = ib.ticker(eurusd)\n",
    "ib.sleep(2)\n",
    "\n",
    "ticker"
   ]
  },
  {
   "cell_type": "markdown",
   "metadata": {},
   "source": [
    "The price of Forex ticks is always nan. To get a midpoint price use ``midpoint()`` or ``marketPrice()``.\n",
    "\n",
    "The tickers are kept live updated, try this a few times to see if the price changes:"
   ]
  },
  {
   "cell_type": "code",
   "execution_count": 5,
   "metadata": {},
   "outputs": [
    {
     "data": {
      "text/plain": [
       "1.07175"
      ]
     },
     "execution_count": 5,
     "metadata": {},
     "output_type": "execute_result"
    }
   ],
   "source": [
    "ticker.marketPrice()"
   ]
  },
  {
   "cell_type": "markdown",
   "metadata": {},
   "source": [
    "The following cell will start a 30 second loop that prints a live updated ticker table.\n",
    "It is updated on every ticker change."
   ]
  },
  {
   "cell_type": "code",
   "execution_count": 6,
   "metadata": {},
   "outputs": [
    {
     "data": {
      "text/html": [
       "<div>\n",
       "<style scoped>\n",
       "    .dataframe tbody tr th:only-of-type {\n",
       "        vertical-align: middle;\n",
       "    }\n",
       "\n",
       "    .dataframe tbody tr th {\n",
       "        vertical-align: top;\n",
       "    }\n",
       "\n",
       "    .dataframe thead th {\n",
       "        text-align: right;\n",
       "    }\n",
       "</style>\n",
       "<table border=\"1\" class=\"dataframe\">\n",
       "  <thead>\n",
       "    <tr style=\"text-align: right;\">\n",
       "      <th></th>\n",
       "      <th>bidSize</th>\n",
       "      <th>bid</th>\n",
       "      <th>ask</th>\n",
       "      <th>askSize</th>\n",
       "      <th>high</th>\n",
       "      <th>low</th>\n",
       "      <th>close</th>\n",
       "    </tr>\n",
       "  </thead>\n",
       "  <tbody>\n",
       "    <tr>\n",
       "      <th>EURUSD</th>\n",
       "      <td>2000000.0</td>\n",
       "      <td>1.07177</td>\n",
       "      <td>1.0718</td>\n",
       "      <td>2000000.0</td>\n",
       "      <td>1.0721</td>\n",
       "      <td>1.0708</td>\n",
       "      <td>1.0713</td>\n",
       "    </tr>\n",
       "    <tr>\n",
       "      <th>USDJPY</th>\n",
       "      <td>1000000.0</td>\n",
       "      <td>155.215</td>\n",
       "      <td>155.224</td>\n",
       "      <td>1000000.0</td>\n",
       "      <td>155.355</td>\n",
       "      <td>154.21</td>\n",
       "      <td>154.45</td>\n",
       "    </tr>\n",
       "    <tr>\n",
       "      <th>GBPUSD</th>\n",
       "      <td>1000000.0</td>\n",
       "      <td>1.25363</td>\n",
       "      <td>1.25368</td>\n",
       "      <td>2000000.0</td>\n",
       "      <td>1.2538</td>\n",
       "      <td>1.25165</td>\n",
       "      <td>1.2528</td>\n",
       "    </tr>\n",
       "    <tr>\n",
       "      <th>USDCHF</th>\n",
       "      <td>1000000.0</td>\n",
       "      <td>0.91643</td>\n",
       "      <td>0.91652</td>\n",
       "      <td>2000000.0</td>\n",
       "      <td>0.91705</td>\n",
       "      <td>0.9156</td>\n",
       "      <td>0.9158</td>\n",
       "    </tr>\n",
       "    <tr>\n",
       "      <th>USDCAD</th>\n",
       "      <td>3000000.0</td>\n",
       "      <td>1.373</td>\n",
       "      <td>1.37307</td>\n",
       "      <td>2000000.0</td>\n",
       "      <td>1.3741</td>\n",
       "      <td>1.373</td>\n",
       "      <td>1.3739</td>\n",
       "    </tr>\n",
       "    <tr>\n",
       "      <th>AUDUSD</th>\n",
       "      <td>1000000.0</td>\n",
       "      <td>0.65305</td>\n",
       "      <td>0.65308</td>\n",
       "      <td>1000000.0</td>\n",
       "      <td>0.6531</td>\n",
       "      <td>0.6515</td>\n",
       "      <td>0.6523</td>\n",
       "    </tr>\n",
       "  </tbody>\n",
       "</table>\n",
       "</div>"
      ],
      "text/plain": [
       "          bidSize      bid      ask    askSize     high      low   close\n",
       "EURUSD  2000000.0  1.07177   1.0718  2000000.0   1.0721   1.0708  1.0713\n",
       "USDJPY  1000000.0  155.215  155.224  1000000.0  155.355   154.21  154.45\n",
       "GBPUSD  1000000.0  1.25363  1.25368  2000000.0   1.2538  1.25165  1.2528\n",
       "USDCHF  1000000.0  0.91643  0.91652  2000000.0  0.91705   0.9156  0.9158\n",
       "USDCAD  3000000.0    1.373  1.37307  2000000.0   1.3741    1.373  1.3739\n",
       "AUDUSD  1000000.0  0.65305  0.65308  1000000.0   0.6531   0.6515  0.6523"
      ]
     },
     "metadata": {},
     "output_type": "display_data"
    }
   ],
   "source": [
    "from IPython.display import display, clear_output\n",
    "import pandas as pd\n",
    "\n",
    "df = pd.DataFrame(\n",
    "    index=[c.pair() for c in contracts],\n",
    "    columns=[\"bidSize\", \"bid\", \"ask\", \"askSize\", \"high\", \"low\", \"close\"],\n",
    ")\n",
    "\n",
    "\n",
    "def onPendingTickers(tickers):\n",
    "    for t in tickers:\n",
    "        df.loc[t.contract.pair()] = (\n",
    "            t.bidSize,\n",
    "            t.bid,\n",
    "            t.ask,\n",
    "            t.askSize,\n",
    "            t.high,\n",
    "            t.low,\n",
    "            t.close,\n",
    "        )\n",
    "        clear_output(wait=True)\n",
    "    display(df)\n",
    "\n",
    "\n",
    "ib.pendingTickersEvent += onPendingTickers\n",
    "ib.sleep(30)\n",
    "ib.pendingTickersEvent -= onPendingTickers"
   ]
  },
  {
   "cell_type": "markdown",
   "metadata": {},
   "source": [
    "New tick data is available in the 'ticks' attribute of the pending tickers.\n",
    "The tick data will be cleared before the next update."
   ]
  },
  {
   "cell_type": "markdown",
   "metadata": {},
   "source": [
    "To stop the live tick subscriptions:"
   ]
  },
  {
   "cell_type": "code",
   "execution_count": 8,
   "metadata": {},
   "outputs": [
    {
     "name": "stderr",
     "output_type": "stream",
     "text": [
      "cancelMktData: No reqId found for contract Forex('EURUSD', conId=12087792, exchange='IDEALPRO', localSymbol='EUR.USD', tradingClass='EUR.USD')\n",
      "cancelMktData: No reqId found for contract Forex('USDJPY', conId=15016059, exchange='IDEALPRO', localSymbol='USD.JPY', tradingClass='USD.JPY')\n",
      "cancelMktData: No reqId found for contract Forex('GBPUSD', conId=12087797, exchange='IDEALPRO', localSymbol='GBP.USD', tradingClass='GBP.USD')\n",
      "cancelMktData: No reqId found for contract Forex('USDCHF', conId=12087820, exchange='IDEALPRO', localSymbol='USD.CHF', tradingClass='USD.CHF')\n",
      "cancelMktData: No reqId found for contract Forex('USDCAD', conId=15016062, exchange='IDEALPRO', localSymbol='USD.CAD', tradingClass='USD.CAD')\n",
      "cancelMktData: No reqId found for contract Forex('AUDUSD', conId=14433401, exchange='IDEALPRO', localSymbol='AUD.USD', tradingClass='AUD.USD')\n",
      "cancelMktData: No reqId found for contract Forex('USDJPY', conId=15016059, exchange='IDEALPRO', localSymbol='USD.JPY', tradingClass='USD.JPY')\n",
      "cancelMktData: No reqId found for contract Forex('GBPUSD', conId=12087797, exchange='IDEALPRO', localSymbol='GBP.USD', tradingClass='GBP.USD')\n",
      "cancelMktData: No reqId found for contract Forex('USDCHF', conId=12087820, exchange='IDEALPRO', localSymbol='USD.CHF', tradingClass='USD.CHF')\n",
      "cancelMktData: No reqId found for contract Forex('USDCAD', conId=15016062, exchange='IDEALPRO', localSymbol='USD.CAD', tradingClass='USD.CAD')\n",
      "cancelMktData: No reqId found for contract Forex('AUDUSD', conId=14433401, exchange='IDEALPRO', localSymbol='AUD.USD', tradingClass='AUD.USD')\n"
     ]
    }
   ],
   "source": [
    "for contract in contracts:\n",
    "    ib.cancelMktData(contract)"
   ]
  },
  {
   "cell_type": "markdown",
   "metadata": {},
   "source": [
    "### Tick by Tick data ###\n",
    "\n",
    "The ticks in the previous section are time-sampled by IB in order to cut on bandwidth. So with ``reqMktdData`` not every tick from the exchanges is sent. The promise of ``reqTickByTickData`` is to send every tick, just how it appears in the TWS Time & Sales window. This functionality is severly nerfed by a total of just three simultaneous subscriptions, where bid-ask ticks and sale ticks also use up a subscription each.\n",
    "\n",
    "The tick-by-tick updates are available from ``ticker.tickByTicks`` and are signalled by ``ib.pendingTickersEvent`` or ``ticker.updateEvent``."
   ]
  },
  {
   "cell_type": "code",
   "execution_count": 9,
   "metadata": {},
   "outputs": [
    {
     "name": "stdout",
     "output_type": "stream",
     "text": [
      "Ticker(contract=Forex('EURUSD', conId=12087792, exchange='IDEALPRO', localSymbol='EUR.USD', tradingClass='EUR.USD'), time=datetime.datetime(2024, 5, 1, 22, 42, 49, 350050, tzinfo=datetime.timezone.utc), minTick=1e-05, bid=1.07175, bidSize=2000000.0, ask=1.07178, askSize=2000000.0, prevBid=1.07178, prevBidSize=1000000.0, prevAsk=1.0718, prevAskSize=1000000.0, high=1.0721, low=1.0708, close=1.0713, tickByTicks=[TickByTickBidAsk(time=datetime.datetime(2024, 5, 1, 22, 42, 49, 350050, tzinfo=datetime.timezone.utc), bidPrice=1.07175, askPrice=1.07178, bidSize=2000000.0, askSize=2000000.0, tickAttribBidAsk=TickAttribBidAsk(bidPastLow=False, askPastHigh=False))])\n"
     ]
    }
   ],
   "source": [
    "ticker = ib.reqTickByTickData(eurusd, \"BidAsk\")\n",
    "ib.sleep(2)\n",
    "print(ticker)\n",
    "\n",
    "ib.cancelTickByTickData(ticker.contract, \"BidAsk\")"
   ]
  },
  {
   "cell_type": "markdown",
   "metadata": {},
   "source": [
    "### Historical tick data\n",
    "\n",
    "Historical tick data can be fetched with a maximum of 1000 ticks at a time. Either the start time or the end time must be given, and one of them must remain empty:"
   ]
  },
  {
   "cell_type": "code",
   "execution_count": 9,
   "metadata": {},
   "outputs": [
    {
     "data": {
      "text/plain": [
       "HistoricalTickBidAsk(time=datetime.datetime(2019, 12, 31, 17, 5, 34, tzinfo=datetime.timezone.utc), tickAttribBidAsk=TickAttribBidAsk(bidPastLow=False, askPastHigh=False), priceBid=1.1225, priceAsk=1.1226, sizeBid=11000000, sizeAsk=11500000)"
      ]
     },
     "execution_count": 9,
     "metadata": {},
     "output_type": "execute_result"
    }
   ],
   "source": [
    "import datetime\n",
    "\n",
    "start = ''\n",
    "end = datetime.datetime.now()\n",
    "ticks = ib.reqHistoricalTicks(eurusd, start, end, 1000, 'BID_ASK', useRth=False)\n",
    "\n",
    "ticks[-1]"
   ]
  },
  {
   "cell_type": "code",
   "execution_count": 10,
   "metadata": {},
   "outputs": [],
   "source": [
    "ib.disconnect()"
   ]
  }
 ],
 "metadata": {
  "kernelspec": {
   "display_name": "Python 3",
   "language": "python",
   "name": "python3"
  },
  "language_info": {
   "codemirror_mode": {
    "name": "ipython",
    "version": 3
   },
   "file_extension": ".py",
   "mimetype": "text/x-python",
   "name": "python",
   "nbconvert_exporter": "python",
   "pygments_lexer": "ipython3",
   "version": "3.12.2"
  }
 },
 "nbformat": 4,
 "nbformat_minor": 4
}
